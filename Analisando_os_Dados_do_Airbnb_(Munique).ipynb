{
  "nbformat": 4,
  "nbformat_minor": 0,
  "metadata": {
    "colab": {
      "name": "Analisando_os_Dados_do_Airbnb_(Munique).ipynb",
      "provenance": [],
      "collapsed_sections": [],
      "include_colab_link": true
    },
    "kernelspec": {
      "name": "python3",
      "display_name": "Python 3"
    }
  },
  "cells": [
    {
      "cell_type": "markdown",
      "metadata": {
        "id": "view-in-github",
        "colab_type": "text"
      },
      "source": [
        "<a href=\"https://colab.research.google.com/github/mateusgandra/data_science/blob/master/Analisando_os_Dados_do_Airbnb_(Munique).ipynb\" target=\"_parent\"><img src=\"https://colab.research.google.com/assets/colab-badge.svg\" alt=\"Open In Colab\"/></a>"
      ]
    },
    {
      "cell_type": "markdown",
      "metadata": {
        "id": "kLI0gJtzDGuQ",
        "colab_type": "text"
      },
      "source": [
        "\n",
        "<img alt=\"Colaboratory logo\" width=\"15%\" src=\"https://raw.githubusercontent.com/carlosfab/escola-data-science/master/img/novo_logo_bg_claro.png\">\n",
        "\n",
        "##### **Data Science na Prática 2.0**\n",
        "\n",
        "---\n",
        "\n",
        "# Análise dos Dados do Airbnb - *Munique*\n",
        "*por Mateus Gandra*\n",
        " \n",
        "O [Airbnb](https://www.airbnb.com.br/) é considerado atualmente a maior empresa hoteleira no mundo. Entretanto, seu modelo de negócio se diferencia dos demais por não possuir **nenhum** hotel.\n",
        "\n",
        "Fundada em 2008, a Startup conecta pessoas que querem viajar (e se hospedar) com anfitriões que querem alugar seus imóveis de maneira prática. O Airbnb tem fornecido uma plataforma inovadora para tornar o processo de hospedagem mais alternativa e que já foi utilizada por **mais de 300 milhões de pessoas** ao redor te todo o mundo.\n",
        "\n",
        "Uma das iniciativas do Airbnb é disponibilizar dados do site, para algumas das principais cidades do mundo. Por meio do portal [Inside Airbnb](http://insideairbnb.com/get-the-data.html), é possível baixar uma grande quantidade de dados para desenvolver projetos e soluções de *Data Science*.\n",
        "\n",
        "<img alt=\"Analisando Airbnb\" width=\"10%\" src=\"https://www.area360.com.au/wp-content/uploads/2017/09/airbnb-logo.jpg\">\n",
        "\n",
        "**Neste *notebook*, serão analisados os dados referentes à cidade Munique (Alemanha) para extrair insights a partir dos dados brutos.**"
      ]
    },
    {
      "cell_type": "markdown",
      "metadata": {
        "id": "Ui9yVByHLMN0",
        "colab_type": "text"
      },
      "source": [
        "<img alt=\"Landscape Munique\" width=\"100%\" src=\"https://github.com/mateusgandra/suporte/blob/master/Munique.png?raw=true\">\n",
        "\n",
        "###**Sobre a cidade de Munique**\n",
        "\n",
        "Munique (em alemão: München) é uma cidade da Alemanha, capital do estado alemão da Baviera, no sudeste do país. No ano de 2012, contava com cerca de 1,3 milhão de habitantes, enquanto a sua região metropolitana, que engloba diversas cidades vizinhas ou próximas, abriga mais de 2,6 milhões de pessoas. Munique é a cidade mais populosa da Baviera e do sul da Alemanha, e a terceira cidade mais populosa do país (depois da capital, Berlim, e de Hamburgo).\n",
        "\n",
        "A Munique moderna é um importante e desenvolvido centro financeiro, urbano, logístico, cultural e político da Alemanha e da Europa continental. É sede de diversas empresas de renome mundial, incluindo a montadora BMW. Entre 2011 e 2012, Munique foi posicionada na 4ª posição entre as \"Cidade Mais Habitáveis do Mundo\", segundo estudos da consultoria internacional Mercer. A partir de 2006, o lema da cidade passou a ser \"München mag dich\" (Munique ama você).\n",
        "\n",
        "Com a nova divisão das regiões da cidade em 1992, o número de bairros de Munique diminuiu de 41 para 25. Abaixo encontra-se os bairros listados em ordem alfabética. De maneira geral, quanto mais alta a numeração indicada em um deles, mais novo é o bairro:\n",
        "\n",
        "\n",
        "![Bairros de Munique](https://github.com/mateusgandra/suporte/blob/master/Stadtbezirke.png?raw=true)\n",
        "\n",
        "\n",
        "É em Munique que se realiza anualmente a Oktoberfest, uma tradicional festa alemã. A Oktoberfest (também conhecida como \"Wiesn\" em Munique) é um festival de cerveja originado em Munique e foi criada pelo rei bávaro Luís I para celebrar o seu casamento em 1810. A festa, para a qual estavam convidados todos os moradores de Munique, aconteceu num parque batizado como Theresienwiese, em homenagem à noiva, no bairro de Ludwigsvorstadt-Isarvorstadt (centro da cidade). Ainda hoje, é neste mesmo parque que acontece a Oktoberfest de Munique. \n",
        "\n",
        "<img alt=\"Oktoberfest\" width=\"70%\" src=\"https://github.com/mateusgandra/suporte/blob/master/Oktoberfest.jpg?raw=true\">\n",
        "\n",
        "\n",
        "A Oktoberfest é também uma feira de produtos e diversões, sendo o evento um dos principais alicerces turísticos da Alemanha e disseminada por vários lugares do mundo. Anualmente, a Oktoberfest é frequentada por cerca de seis milhões de visitantes de todo o mundo e se inicia desde 1872 sempre no sábado depois do 15 de Setembro as 12.00 horas com a tradicional cerimonia de abertura \"O'zapft is\". Termina duas semanas mais tarde, no primeiro domingo de outubro - daí o nome Oktoberfest (em alemão, \"Oktober\" significa outubro, \"Fest\", festa ou festival, literalmente \"Festa de Outubro\").\n",
        "\n",
        "\n",
        "---\n",
        "Fonte:\n",
        "* [Wikpedia](https://pt.wikipedia.org/wiki/Munique)"
      ]
    },
    {
      "cell_type": "markdown",
      "metadata": {
        "id": "0zxQHhIUDF_2",
        "colab_type": "text"
      },
      "source": [
        "## Obtenção dos Dados\n"
      ]
    },
    {
      "cell_type": "code",
      "metadata": {
        "id": "Vhp2wMPgJ6zX",
        "colab_type": "code",
        "colab": {}
      },
      "source": [
        "# importar os pacotes necessarios\n",
        "import pandas as pd  \n",
        "import numpy as np\n",
        "import matplotlib.pyplot as plt\n",
        "import seaborn as sns\n",
        "\n",
        "%matplotlib inline"
      ],
      "execution_count": null,
      "outputs": []
    },
    {
      "cell_type": "code",
      "metadata": {
        "id": "tUmoAT8DLQ5T",
        "colab_type": "code",
        "colab": {}
      },
      "source": [
        "# importar o arquivo listings.csv para um DataFrame\n",
        "data = pd.read_csv('http://data.insideairbnb.com/germany/bv/munich/2020-04-25/visualisations/listings.csv')\n",
        "df = data.copy(deep=True)"
      ],
      "execution_count": null,
      "outputs": []
    },
    {
      "cell_type": "markdown",
      "metadata": {
        "id": "RYgvuebKNg8-",
        "colab_type": "text"
      },
      "source": [
        "## Análise dos Dados\n",
        "**Dicionário das variáveis:**\n",
        "\n",
        "* **id -** Número gerado para identificar o imóvel (identidade);\n",
        "* **name -** Nome da propriedade anunciada ;\n",
        "* **host-id -** Número gerado para identificar o proprietário do imóvel;\n",
        "* **host_name -** Nome do responsável legal do imóvel;\n",
        "* **neighbourhood_group -** Distrito da cidade;\n",
        "* **neighbourhood -** Nome do bairro ou logradouro onde o imóvel está localizado;\n",
        "* **latitude -** coordenada de latitude do imóvel;\n",
        "* **longitude -** coordenada de longitude do imóvel;\n",
        "* **room_type -** Tipo de acomodação disponível no imóvel (ex.: quarto privativo, estabelecimento completo);\n",
        "* **price -** Preço orçado para o aluguel;\n",
        "* **minimum_nights -** Número mínimo de noites para aluguel do estabeleciimento;\n",
        "* **number_of_reviews -** Número de reviews feitos a respeito do imóvel ou trâmites para o aluguel;\n",
        "* **last_review -** Último reviews realizado sobre o imóvel;\n",
        "* **reviews_per_month -** Número de reviews por mês;\n",
        "* **calculated_host_listings_count -** Número de imóveis de um mesmo anfitrião;\n",
        "* **availability_365 -** Número de dias disponíveis em um prazo de 365 dias.\n",
        "\n",
        "\n",
        "Antes de iniciar qualquer análise, vamos verificar a cara do nosso *dataset*, analisando as 5 primeiras entradas.\n",
        "\n",
        "*A data informada no banco de dados durante a realização dessas análises é 25/04/2020.*"
      ]
    },
    {
      "cell_type": "code",
      "metadata": {
        "id": "elKuxok8Ehal",
        "colab_type": "code",
        "colab": {
          "base_uri": "https://localhost:8080/",
          "height": 102
        },
        "outputId": "02b7277b-d26e-444f-d06f-c2a21965d082"
      },
      "source": [
        "# mostrar todas as variáveis\n",
        "df.columns.values"
      ],
      "execution_count": null,
      "outputs": [
        {
          "output_type": "execute_result",
          "data": {
            "text/plain": [
              "array(['id', 'name', 'host_id', 'host_name', 'neighbourhood_group',\n",
              "       'neighbourhood', 'latitude', 'longitude', 'room_type', 'price',\n",
              "       'minimum_nights', 'number_of_reviews', 'last_review',\n",
              "       'reviews_per_month', 'calculated_host_listings_count',\n",
              "       'availability_365'], dtype=object)"
            ]
          },
          "metadata": {
            "tags": []
          },
          "execution_count": 8
        }
      ]
    },
    {
      "cell_type": "code",
      "metadata": {
        "id": "2iS_dae7YQtO",
        "colab_type": "code",
        "colab": {
          "base_uri": "https://localhost:8080/",
          "height": 445
        },
        "outputId": "b561dddd-7514-4a35-df1e-367d45be72a2"
      },
      "source": [
        "# mostrar as 5 primeiras entradas\n",
        "df.head(5)"
      ],
      "execution_count": null,
      "outputs": [
        {
          "output_type": "execute_result",
          "data": {
            "text/html": [
              "<div>\n",
              "<style scoped>\n",
              "    .dataframe tbody tr th:only-of-type {\n",
              "        vertical-align: middle;\n",
              "    }\n",
              "\n",
              "    .dataframe tbody tr th {\n",
              "        vertical-align: top;\n",
              "    }\n",
              "\n",
              "    .dataframe thead th {\n",
              "        text-align: right;\n",
              "    }\n",
              "</style>\n",
              "<table border=\"1\" class=\"dataframe\">\n",
              "  <thead>\n",
              "    <tr style=\"text-align: right;\">\n",
              "      <th></th>\n",
              "      <th>id</th>\n",
              "      <th>name</th>\n",
              "      <th>host_id</th>\n",
              "      <th>host_name</th>\n",
              "      <th>neighbourhood_group</th>\n",
              "      <th>neighbourhood</th>\n",
              "      <th>latitude</th>\n",
              "      <th>longitude</th>\n",
              "      <th>room_type</th>\n",
              "      <th>price</th>\n",
              "      <th>minimum_nights</th>\n",
              "      <th>number_of_reviews</th>\n",
              "      <th>last_review</th>\n",
              "      <th>reviews_per_month</th>\n",
              "      <th>calculated_host_listings_count</th>\n",
              "      <th>availability_365</th>\n",
              "    </tr>\n",
              "  </thead>\n",
              "  <tbody>\n",
              "    <tr>\n",
              "      <th>0</th>\n",
              "      <td>36720</td>\n",
              "      <td>Beautiful 2 rooms flat, Glockenbach</td>\n",
              "      <td>158413</td>\n",
              "      <td>Gabriela</td>\n",
              "      <td>NaN</td>\n",
              "      <td>Ludwigsvorstadt-Isarvorstadt</td>\n",
              "      <td>48.13057</td>\n",
              "      <td>11.56929</td>\n",
              "      <td>Entire home/apt</td>\n",
              "      <td>95</td>\n",
              "      <td>2</td>\n",
              "      <td>25</td>\n",
              "      <td>2017-07-22</td>\n",
              "      <td>0.34</td>\n",
              "      <td>1</td>\n",
              "      <td>0</td>\n",
              "    </tr>\n",
              "    <tr>\n",
              "      <th>1</th>\n",
              "      <td>49309</td>\n",
              "      <td>Sublet - Apartment with Balcony in Downtown (1)</td>\n",
              "      <td>224802</td>\n",
              "      <td>Damien</td>\n",
              "      <td>NaN</td>\n",
              "      <td>Ludwigsvorstadt-Isarvorstadt</td>\n",
              "      <td>48.12456</td>\n",
              "      <td>11.55567</td>\n",
              "      <td>Private room</td>\n",
              "      <td>40</td>\n",
              "      <td>14</td>\n",
              "      <td>40</td>\n",
              "      <td>2017-10-15</td>\n",
              "      <td>0.34</td>\n",
              "      <td>1</td>\n",
              "      <td>364</td>\n",
              "    </tr>\n",
              "    <tr>\n",
              "      <th>2</th>\n",
              "      <td>97945</td>\n",
              "      <td>Deluxw-Apartm. with roof terrace</td>\n",
              "      <td>517685</td>\n",
              "      <td>Angelika</td>\n",
              "      <td>NaN</td>\n",
              "      <td>Hadern</td>\n",
              "      <td>48.11476</td>\n",
              "      <td>11.48782</td>\n",
              "      <td>Entire home/apt</td>\n",
              "      <td>80</td>\n",
              "      <td>2</td>\n",
              "      <td>131</td>\n",
              "      <td>2019-10-03</td>\n",
              "      <td>1.26</td>\n",
              "      <td>2</td>\n",
              "      <td>229</td>\n",
              "    </tr>\n",
              "    <tr>\n",
              "      <th>3</th>\n",
              "      <td>114695</td>\n",
              "      <td>Apartment Munich/East with sundeck</td>\n",
              "      <td>581737</td>\n",
              "      <td>Stephan</td>\n",
              "      <td>NaN</td>\n",
              "      <td>Berg am Laim</td>\n",
              "      <td>48.11923</td>\n",
              "      <td>11.63726</td>\n",
              "      <td>Entire home/apt</td>\n",
              "      <td>95</td>\n",
              "      <td>1</td>\n",
              "      <td>53</td>\n",
              "      <td>2019-10-06</td>\n",
              "      <td>0.49</td>\n",
              "      <td>2</td>\n",
              "      <td>142</td>\n",
              "    </tr>\n",
              "    <tr>\n",
              "      <th>4</th>\n",
              "      <td>127383</td>\n",
              "      <td>City apartment next to Pinakothek</td>\n",
              "      <td>630556</td>\n",
              "      <td>Sonja</td>\n",
              "      <td>NaN</td>\n",
              "      <td>Maxvorstadt</td>\n",
              "      <td>48.15198</td>\n",
              "      <td>11.56486</td>\n",
              "      <td>Entire home/apt</td>\n",
              "      <td>120</td>\n",
              "      <td>2</td>\n",
              "      <td>84</td>\n",
              "      <td>2020-03-01</td>\n",
              "      <td>0.78</td>\n",
              "      <td>2</td>\n",
              "      <td>0</td>\n",
              "    </tr>\n",
              "  </tbody>\n",
              "</table>\n",
              "</div>"
            ],
            "text/plain": [
              "       id  ... availability_365\n",
              "0   36720  ...                0\n",
              "1   49309  ...              364\n",
              "2   97945  ...              229\n",
              "3  114695  ...              142\n",
              "4  127383  ...                0\n",
              "\n",
              "[5 rows x 16 columns]"
            ]
          },
          "metadata": {
            "tags": []
          },
          "execution_count": 9
        }
      ]
    },
    {
      "cell_type": "markdown",
      "metadata": {
        "id": "6-B_qtEaYEd-",
        "colab_type": "text"
      },
      "source": [
        "### **Q1. Quantos atributos (variáveis) e quantas entradas o nosso conjunto de dados possui? Quais os tipos das variáveis?**\n",
        "\n",
        "O dataset que será explorado nesse projeto é a versão resumida do arquivo disponível para essa cidade. Para uma análise mais detalhada é possível usar uma versão mais completada, disponibilizada nesse [link](https://colab.research.google.com/drive/125nhJYvOyY5K0Ws-kVZP1zvdj3wAJGCp#scrollTo=6-B_qtEaYEd-&line=3&uniqifier=1).\n"
      ]
    },
    {
      "cell_type": "code",
      "metadata": {
        "id": "TFRK0tniLV-G",
        "colab_type": "code",
        "colab": {
          "base_uri": "https://localhost:8080/",
          "height": 357
        },
        "outputId": "98568388-9eb0-4d61-f05b-2ccb1d484f59"
      },
      "source": [
        "# identificar o volume de dados do DataFrame\n",
        "print('Entradas =\\t {}'.format(df.shape[0]))\n",
        "print('Variáveis =\\t {}\\n'.format(df.shape[1]))\n",
        "# verificar as 5 primeiras entradas do dataset\n",
        "display(df.dtypes)"
      ],
      "execution_count": null,
      "outputs": [
        {
          "output_type": "stream",
          "text": [
            "Entradas =\t 11131\n",
            "Variáveis =\t 16\n",
            "\n"
          ],
          "name": "stdout"
        },
        {
          "output_type": "display_data",
          "data": {
            "text/plain": [
              "id                                  int64\n",
              "name                               object\n",
              "host_id                             int64\n",
              "host_name                          object\n",
              "neighbourhood_group               float64\n",
              "neighbourhood                      object\n",
              "latitude                          float64\n",
              "longitude                         float64\n",
              "room_type                          object\n",
              "price                               int64\n",
              "minimum_nights                      int64\n",
              "number_of_reviews                   int64\n",
              "last_review                        object\n",
              "reviews_per_month                 float64\n",
              "calculated_host_listings_count      int64\n",
              "availability_365                    int64\n",
              "dtype: object"
            ]
          },
          "metadata": {
            "tags": []
          }
        }
      ]
    },
    {
      "cell_type": "markdown",
      "metadata": {
        "id": "bvknezhennxC",
        "colab_type": "text"
      },
      "source": [
        "O conjunto de dados possui 16 variáveis, apresentadas no forma de colunas, e 11.131 entradas, dispostadas na forma de linhas.\n"
      ]
    },
    {
      "cell_type": "markdown",
      "metadata": {
        "id": "yz1urSUGW9iE",
        "colab_type": "text"
      },
      "source": [
        "### **Q2. Qual a porcentagem de valores ausentes no *dataset*?**\n",
        "Uma métrica muito importate para determinar a qualidade de um dataset é a porcentagem de valores nulos. É importante entender logo no início se esses valores nulos são significativos comparados ao total de entradas."
      ]
    },
    {
      "cell_type": "code",
      "metadata": {
        "id": "plk2FjbCXOqP",
        "colab_type": "code",
        "colab": {
          "base_uri": "https://localhost:8080/",
          "height": 306
        },
        "outputId": "f56254ec-26b7-47ec-a344-d73f91dc5349"
      },
      "source": [
        "# ordenar em ordem decrescente as variáveis por seus valores ausentes\n",
        "((df.isnull().sum() / df.shape[0])*100).sort_values(ascending=False)"
      ],
      "execution_count": null,
      "outputs": [
        {
          "output_type": "execute_result",
          "data": {
            "text/plain": [
              "neighbourhood_group               100.000000\n",
              "reviews_per_month                  23.762465\n",
              "last_review                        23.762465\n",
              "name                                0.179678\n",
              "host_name                           0.053904\n",
              "availability_365                    0.000000\n",
              "calculated_host_listings_count      0.000000\n",
              "number_of_reviews                   0.000000\n",
              "minimum_nights                      0.000000\n",
              "price                               0.000000\n",
              "room_type                           0.000000\n",
              "longitude                           0.000000\n",
              "latitude                            0.000000\n",
              "neighbourhood                       0.000000\n",
              "host_id                             0.000000\n",
              "id                                  0.000000\n",
              "dtype: float64"
            ]
          },
          "metadata": {
            "tags": []
          },
          "execution_count": 11
        }
      ]
    },
    {
      "cell_type": "markdown",
      "metadata": {
        "id": "igQDCBhBoLz1",
        "colab_type": "text"
      },
      "source": [
        "Neste dataset, é possível observar que dos 16 atributos apresentados, cerca de 31% das variáveis (5 variáveis) apresentam valores nulos e, destas 3 apresentam mais de 15% dos seus valores nessa classificação.\n",
        "\n",
        "* A variável \"neighbourhood_group) apresenta 100% dos seus dados como \"nulo\";\n",
        "* Ambas as variáveis \"reviews_per_month\" e \"last_review\" apresentam cerca de 23% de suas entradas como nulos;\n",
        "* Já as variáveis \"name\" e \"host_name\" possuem, respectivamentem, 0,17% e 0,05% de suas entradas como nulas."
      ]
    },
    {
      "cell_type": "markdown",
      "metadata": {
        "id": "iHXvvHIxaoNc",
        "colab_type": "text"
      },
      "source": [
        "### **Q3. Qual o tipo de distribuição das variáveis?** \n",
        "\n",
        "A avaliação da distribuição das variáveis será feita plotando histograma."
      ]
    },
    {
      "cell_type": "code",
      "metadata": {
        "id": "q2wWSfeRbmBo",
        "colab_type": "code",
        "colab": {
          "base_uri": "https://localhost:8080/",
          "height": 607
        },
        "outputId": "4c72d3ca-f933-4ec2-f7c6-6a23b2aa91d8"
      },
      "source": [
        "# plotar o histograma das variáveis numéricas\n",
        "df.hist(bins=15, figsize=(15,10));"
      ],
      "execution_count": null,
      "outputs": [
        {
          "output_type": "display_data",
          "data": {
            "image/png": "[encoded data removed]",
            "text/plain": [
              "<Figure size 1080x720 with 12 Axes>"
            ]
          },
          "metadata": {
            "tags": [],
            "needs_background": "light"
          }
        }
      ]
    },
    {
      "cell_type": "markdown",
      "metadata": {
        "id": "KIQ2a68kPlXA",
        "colab_type": "text"
      },
      "source": [
        "### **Q4. É possível identificar outliers?**\n",
        "\n",
        "A presença de outliers (ou valores atípicos) são observações que apresentam grande afastamento dos demais valores da série ou são inconsistentes. Tipicamente, um dataset com outliers possui ruidos que prejudicam a interpretação dos resultados dos testes estatísticos aplicados às amostras.\n",
        "A análise dos histogramas, juntamente com a tabela com análise descritiva revela alguns pontos:\n",
        "*   Para a variável \"price\", 75% dos valores dos imóveis são de até 128 reais, (cerca de 10X menores que o valor máximo, 12000 reais);\n",
        "*   Para a variável \"minimum_nights\" o valor máximo apresentado, 1000 noites, ultrapassa o período de 30 dias. É importante ressaltar que contratos de aluguéis registrados tendem a seguir a vigência mínima de 6 ou 12 meses."
      ]
    },
    {
      "cell_type": "code",
      "metadata": {
        "id": "D0m28KR_674i",
        "colab_type": "code",
        "colab": {
          "base_uri": "https://localhost:8080/",
          "height": 297
        },
        "outputId": "6a919703-69f4-4efa-8c41-2ce2ca3d48a5"
      },
      "source": [
        "# Análise estatística descritiva das variáveis numéricas\n",
        "df[['price', 'minimum_nights', 'number_of_reviews',\n",
        "               'reviews_per_month', 'calculated_host_listings_count', 'latitude', 'longitude']].describe()\n"
      ],
      "execution_count": null,
      "outputs": [
        {
          "output_type": "execute_result",
          "data": {
            "text/html": [
              "<div>\n",
              "<style scoped>\n",
              "    .dataframe tbody tr th:only-of-type {\n",
              "        vertical-align: middle;\n",
              "    }\n",
              "\n",
              "    .dataframe tbody tr th {\n",
              "        vertical-align: top;\n",
              "    }\n",
              "\n",
              "    .dataframe thead th {\n",
              "        text-align: right;\n",
              "    }\n",
              "</style>\n",
              "<table border=\"1\" class=\"dataframe\">\n",
              "  <thead>\n",
              "    <tr style=\"text-align: right;\">\n",
              "      <th></th>\n",
              "      <th>price</th>\n",
              "      <th>minimum_nights</th>\n",
              "      <th>number_of_reviews</th>\n",
              "      <th>reviews_per_month</th>\n",
              "      <th>calculated_host_listings_count</th>\n",
              "      <th>latitude</th>\n",
              "      <th>longitude</th>\n",
              "    </tr>\n",
              "  </thead>\n",
              "  <tbody>\n",
              "    <tr>\n",
              "      <th>count</th>\n",
              "      <td>11131.000000</td>\n",
              "      <td>11131.000000</td>\n",
              "      <td>11131.000000</td>\n",
              "      <td>8486.000000</td>\n",
              "      <td>11131.000000</td>\n",
              "      <td>11131.000000</td>\n",
              "      <td>11131.000000</td>\n",
              "    </tr>\n",
              "    <tr>\n",
              "      <th>mean</th>\n",
              "      <td>116.398796</td>\n",
              "      <td>5.561136</td>\n",
              "      <td>15.522235</td>\n",
              "      <td>0.711913</td>\n",
              "      <td>1.874674</td>\n",
              "      <td>48.140349</td>\n",
              "      <td>11.564691</td>\n",
              "    </tr>\n",
              "    <tr>\n",
              "      <th>std</th>\n",
              "      <td>215.215258</td>\n",
              "      <td>25.361266</td>\n",
              "      <td>40.792679</td>\n",
              "      <td>1.161900</td>\n",
              "      <td>3.415468</td>\n",
              "      <td>0.024947</td>\n",
              "      <td>0.043791</td>\n",
              "    </tr>\n",
              "    <tr>\n",
              "      <th>min</th>\n",
              "      <td>8.000000</td>\n",
              "      <td>1.000000</td>\n",
              "      <td>0.000000</td>\n",
              "      <td>0.010000</td>\n",
              "      <td>1.000000</td>\n",
              "      <td>48.069290</td>\n",
              "      <td>11.378370</td>\n",
              "    </tr>\n",
              "    <tr>\n",
              "      <th>25%</th>\n",
              "      <td>53.000000</td>\n",
              "      <td>1.000000</td>\n",
              "      <td>1.000000</td>\n",
              "      <td>0.130000</td>\n",
              "      <td>1.000000</td>\n",
              "      <td>48.123910</td>\n",
              "      <td>11.540695</td>\n",
              "    </tr>\n",
              "    <tr>\n",
              "      <th>50%</th>\n",
              "      <td>80.000000</td>\n",
              "      <td>2.000000</td>\n",
              "      <td>3.000000</td>\n",
              "      <td>0.320000</td>\n",
              "      <td>1.000000</td>\n",
              "      <td>48.137820</td>\n",
              "      <td>11.565820</td>\n",
              "    </tr>\n",
              "    <tr>\n",
              "      <th>75%</th>\n",
              "      <td>128.000000</td>\n",
              "      <td>3.000000</td>\n",
              "      <td>12.000000</td>\n",
              "      <td>0.800000</td>\n",
              "      <td>1.000000</td>\n",
              "      <td>48.156575</td>\n",
              "      <td>11.584935</td>\n",
              "    </tr>\n",
              "    <tr>\n",
              "      <th>max</th>\n",
              "      <td>12000.000000</td>\n",
              "      <td>1000.000000</td>\n",
              "      <td>688.000000</td>\n",
              "      <td>25.000000</td>\n",
              "      <td>37.000000</td>\n",
              "      <td>48.222970</td>\n",
              "      <td>11.710870</td>\n",
              "    </tr>\n",
              "  </tbody>\n",
              "</table>\n",
              "</div>"
            ],
            "text/plain": [
              "              price  minimum_nights  ...      latitude     longitude\n",
              "count  11131.000000    11131.000000  ...  11131.000000  11131.000000\n",
              "mean     116.398796        5.561136  ...     48.140349     11.564691\n",
              "std      215.215258       25.361266  ...      0.024947      0.043791\n",
              "min        8.000000        1.000000  ...     48.069290     11.378370\n",
              "25%       53.000000        1.000000  ...     48.123910     11.540695\n",
              "50%       80.000000        2.000000  ...     48.137820     11.565820\n",
              "75%      128.000000        3.000000  ...     48.156575     11.584935\n",
              "max    12000.000000     1000.000000  ...     48.222970     11.710870\n",
              "\n",
              "[8 rows x 7 columns]"
            ]
          },
          "metadata": {
            "tags": []
          },
          "execution_count": 13
        }
      ]
    },
    {
      "cell_type": "markdown",
      "metadata": {
        "id": "KC5GCy3s9UBJ",
        "colab_type": "text"
      },
      "source": [
        "**Regra 1.5xIQR (Interquartile Range)**\n",
        "\n",
        "Uma das técnicas muito utilizadas pelos estatísticos para identificar outlieres em uma sequência amostral. Para um dado ser considerado outlier, seu valor é maior que 1.5 x IQR acima do terceiro quartil (Q3) ou abaixo do primeiro quartil (Q1). O IQR é a diferença entre o terceiro e o primeiro quartil."
      ]
    },
    {
      "cell_type": "code",
      "metadata": {
        "id": "eoKu9gnB9R57",
        "colab_type": "code",
        "colab": {
          "base_uri": "https://localhost:8080/",
          "height": 51
        },
        "outputId": "54a298c9-2f41-4a64-c087-3089f914358a"
      },
      "source": [
        "# Identificação do limite superior e inferior para os outliers\n",
        "Q1 = df['price'].quantile(q = 0.25)\n",
        "Q3 = df['price'].quantile(q = 0.75)\n",
        "IQR = Q3 - Q1\n",
        "\n",
        "lower = (Q1 - 1.5*IQR)\n",
        "upper = (Q3 + 1.5*IQR)\n",
        "\n",
        "print(\"Lower = {}\".format(lower))\n",
        "print(\"Upper = {}\".format(upper))"
      ],
      "execution_count": null,
      "outputs": [
        {
          "output_type": "stream",
          "text": [
            "Lower = -59.5\n",
            "Upper = 240.5\n"
          ],
          "name": "stdout"
        }
      ]
    },
    {
      "cell_type": "code",
      "metadata": {
        "id": "8P-3ZRzyzs1q",
        "colab_type": "code",
        "colab": {
          "base_uri": "https://localhost:8080/",
          "height": 262
        },
        "outputId": "3c4e66a7-4cca-46b9-836e-b2ca6c5c67ee"
      },
      "source": [
        "#Box-Plot para a variável \"price\"\n",
        "df.price.plot(kind='box', vert=False, figsize=(15,3), )\n",
        "plt.show()\n",
        "\n",
        "#Ver a quantidade de valores acima de $240.5 para \"price\" (1.5*IQR)\n",
        "print(\"price: valores acima de 240.5\")\n",
        "print(\"{} entradas\".format(len(df[df.price > 240.5])))\n",
        "print(\"{:.2f}%\".format((len(df[df.price > 240.5]) / df.shape[0])*100))\n"
      ],
      "execution_count": null,
      "outputs": [
        {
          "output_type": "display_data",
          "data": {
            "image/png": "[encoded data removed]",
            "text/plain": [
              "<Figure size 1080x216 with 1 Axes>"
            ]
          },
          "metadata": {
            "tags": [],
            "needs_background": "light"
          }
        },
        {
          "output_type": "stream",
          "text": [
            "price: valores acima de 240.5\n",
            "868 entradas\n",
            "7.80%\n"
          ],
          "name": "stdout"
        }
      ]
    },
    {
      "cell_type": "code",
      "metadata": {
        "id": "L37AuLgYzsor",
        "colab_type": "code",
        "colab": {
          "base_uri": "https://localhost:8080/",
          "height": 262
        },
        "outputId": "a61c07fe-847a-4217-f1a8-6919881027c5"
      },
      "source": [
        "#Box-Plot para a variável \"minimum_nights\"\n",
        "df.minimum_nights.plot(kind='box', vert=False, figsize=(15,3))\n",
        "plt.show()\n",
        "\n",
        "#Ver a quantidade de valores acima de 30 dias\n",
        "print(\"minimum_nights: valores acima de 30 dias\")\n",
        "print(\"{} entradas\".format(len(df[df.minimum_nights > 30])))\n",
        "print(\"{:.2f}%\".format((len(df[df.minimum_nights > 30]) / df.shape[0])*100))"
      ],
      "execution_count": null,
      "outputs": [
        {
          "output_type": "display_data",
          "data": {
            "image/png": "[encoded data removed]",
            "text/plain": [
              "<Figure size 1080x216 with 1 Axes>"
            ]
          },
          "metadata": {
            "tags": [],
            "needs_background": "light"
          }
        },
        {
          "output_type": "stream",
          "text": [
            "minimum_nights: valores acima de 30 dias\n",
            "205 entradas\n",
            "1.84%\n"
          ],
          "name": "stdout"
        }
      ]
    },
    {
      "cell_type": "markdown",
      "metadata": {
        "id": "WKRjcN63I9fo",
        "colab_type": "text"
      },
      "source": [
        "Uma vez identificado outliers nas variáveis price e minimum_nights, estes serão removidos. Uma reanalize nos histogramas será feita."
      ]
    },
    {
      "cell_type": "code",
      "metadata": {
        "id": "5ZQXBfqtI5o6",
        "colab_type": "code",
        "colab": {
          "base_uri": "https://localhost:8080/",
          "height": 607
        },
        "outputId": "36a0a7c8-f0c8-4117-fd10-8f2bf745c983"
      },
      "source": [
        "#Remover os outliers em um novo dataframe\n",
        "df_clean = df.copy(deep=True)\n",
        "df_clean.drop(df_clean[df_clean.price > 240.5].index, axis=0, inplace=True)\n",
        "df_clean.drop(df_clean[df_clean.minimum_nights > 30].index, axis=0, inplace=True)\n",
        "\n",
        "#Remover 'neighbourhood_group', pois está vazio\n",
        "df_clean.drop('neighbourhood_group', axis=1, inplace=True)\n",
        "\n",
        "#Plotar o histograma para as variáveis numéricas\n",
        "df_clean.hist(bins=15, figsize=(15,10));"
      ],
      "execution_count": null,
      "outputs": [
        {
          "output_type": "display_data",
          "data": {
            "image/png": "[encoded data removed]",
            "text/plain": [
              "<Figure size 1080x720 with 12 Axes>"
            ]
          },
          "metadata": {
            "tags": [],
            "needs_background": "light"
          }
        }
      ]
    },
    {
      "cell_type": "markdown",
      "metadata": {
        "id": "7-u7CzVptPJE",
        "colab_type": "text"
      },
      "source": [
        "Para esse trabalho exploratório serão utilizadas apenas as variáveis \"price\", \"minimum_nights\", \"number_of_reviews\", \"reviews_per_month\", \"calculated_host_listings_count\", \"latitude\" e \"longitude\"."
      ]
    },
    {
      "cell_type": "code",
      "metadata": {
        "id": "mx3zEhn21-0Q",
        "colab_type": "code",
        "colab": {
          "base_uri": "https://localhost:8080/",
          "height": 297
        },
        "outputId": "6b3bb298-d703-4598-ffcd-09aab0c33ff2"
      },
      "source": [
        "# Análise estatística descritiva das variáveis numéricas\n",
        "df_clean[['price', 'minimum_nights', 'number_of_reviews',\n",
        "               'reviews_per_month', 'calculated_host_listings_count', 'latitude', 'longitude']].describe()"
      ],
      "execution_count": null,
      "outputs": [
        {
          "output_type": "execute_result",
          "data": {
            "text/html": [
              "<div>\n",
              "<style scoped>\n",
              "    .dataframe tbody tr th:only-of-type {\n",
              "        vertical-align: middle;\n",
              "    }\n",
              "\n",
              "    .dataframe tbody tr th {\n",
              "        vertical-align: top;\n",
              "    }\n",
              "\n",
              "    .dataframe thead th {\n",
              "        text-align: right;\n",
              "    }\n",
              "</style>\n",
              "<table border=\"1\" class=\"dataframe\">\n",
              "  <thead>\n",
              "    <tr style=\"text-align: right;\">\n",
              "      <th></th>\n",
              "      <th>price</th>\n",
              "      <th>minimum_nights</th>\n",
              "      <th>number_of_reviews</th>\n",
              "      <th>reviews_per_month</th>\n",
              "      <th>calculated_host_listings_count</th>\n",
              "      <th>latitude</th>\n",
              "      <th>longitude</th>\n",
              "    </tr>\n",
              "  </thead>\n",
              "  <tbody>\n",
              "    <tr>\n",
              "      <th>count</th>\n",
              "      <td>10062.000000</td>\n",
              "      <td>10062.000000</td>\n",
              "      <td>10062.00000</td>\n",
              "      <td>7825.000000</td>\n",
              "      <td>10062.000000</td>\n",
              "      <td>10062.000000</td>\n",
              "      <td>10062.000000</td>\n",
              "    </tr>\n",
              "    <tr>\n",
              "      <th>mean</th>\n",
              "      <td>88.070165</td>\n",
              "      <td>3.287517</td>\n",
              "      <td>16.36772</td>\n",
              "      <td>0.730164</td>\n",
              "      <td>1.812264</td>\n",
              "      <td>48.140423</td>\n",
              "      <td>11.564609</td>\n",
              "    </tr>\n",
              "    <tr>\n",
              "      <th>std</th>\n",
              "      <td>47.174800</td>\n",
              "      <td>4.901669</td>\n",
              "      <td>42.23455</td>\n",
              "      <td>1.181296</td>\n",
              "      <td>3.165080</td>\n",
              "      <td>0.025208</td>\n",
              "      <td>0.044006</td>\n",
              "    </tr>\n",
              "    <tr>\n",
              "      <th>min</th>\n",
              "      <td>8.000000</td>\n",
              "      <td>1.000000</td>\n",
              "      <td>0.00000</td>\n",
              "      <td>0.010000</td>\n",
              "      <td>1.000000</td>\n",
              "      <td>48.069290</td>\n",
              "      <td>11.378370</td>\n",
              "    </tr>\n",
              "    <tr>\n",
              "      <th>25%</th>\n",
              "      <td>50.000000</td>\n",
              "      <td>1.000000</td>\n",
              "      <td>1.00000</td>\n",
              "      <td>0.130000</td>\n",
              "      <td>1.000000</td>\n",
              "      <td>48.123700</td>\n",
              "      <td>11.540633</td>\n",
              "    </tr>\n",
              "    <tr>\n",
              "      <th>50%</th>\n",
              "      <td>79.000000</td>\n",
              "      <td>2.000000</td>\n",
              "      <td>3.00000</td>\n",
              "      <td>0.330000</td>\n",
              "      <td>1.000000</td>\n",
              "      <td>48.138040</td>\n",
              "      <td>11.565975</td>\n",
              "    </tr>\n",
              "    <tr>\n",
              "      <th>75%</th>\n",
              "      <td>110.000000</td>\n",
              "      <td>3.000000</td>\n",
              "      <td>13.00000</td>\n",
              "      <td>0.830000</td>\n",
              "      <td>1.000000</td>\n",
              "      <td>48.156840</td>\n",
              "      <td>11.585157</td>\n",
              "    </tr>\n",
              "    <tr>\n",
              "      <th>max</th>\n",
              "      <td>240.000000</td>\n",
              "      <td>30.000000</td>\n",
              "      <td>688.00000</td>\n",
              "      <td>25.000000</td>\n",
              "      <td>37.000000</td>\n",
              "      <td>48.222970</td>\n",
              "      <td>11.710870</td>\n",
              "    </tr>\n",
              "  </tbody>\n",
              "</table>\n",
              "</div>"
            ],
            "text/plain": [
              "              price  minimum_nights  ...      latitude     longitude\n",
              "count  10062.000000    10062.000000  ...  10062.000000  10062.000000\n",
              "mean      88.070165        3.287517  ...     48.140423     11.564609\n",
              "std       47.174800        4.901669  ...      0.025208      0.044006\n",
              "min        8.000000        1.000000  ...     48.069290     11.378370\n",
              "25%       50.000000        1.000000  ...     48.123700     11.540633\n",
              "50%       79.000000        2.000000  ...     48.138040     11.565975\n",
              "75%      110.000000        3.000000  ...     48.156840     11.585157\n",
              "max      240.000000       30.000000  ...     48.222970     11.710870\n",
              "\n",
              "[8 rows x 7 columns]"
            ]
          },
          "metadata": {
            "tags": []
          },
          "execution_count": 30
        }
      ]
    },
    {
      "cell_type": "markdown",
      "metadata": {
        "id": "hZnlq37k8_6r",
        "colab_type": "text"
      },
      "source": [
        "Por tratar-se de um trabalho exploratório inicial os bairros serão divididos em dois grupos:\n",
        "* Região central - \"d_t\" (bairros numerados de 1 a 8)\n",
        "\n",
        "* Região periférica - \"sub\" (bairros numerados de 9 a 25)"
      ]
    },
    {
      "cell_type": "code",
      "metadata": {
        "id": "YaXfsHvN9Xk5",
        "colab_type": "code",
        "colab": {
          "base_uri": "https://localhost:8080/",
          "height": 445
        },
        "outputId": "fe13139e-05e4-4bc3-c07a-4b62108a009b"
      },
      "source": [
        "# Cria uma coluna chamada \"place\" com as atribuições mencionadas acima\n",
        "for i in [df_clean]:\n",
        "  i['place'] = np.where((i['neighbourhood']).isin(['Altstadt-Lehel', 'Au-Haidhausen', 'Ludwigsvorstadt-Isarvorstadt', 'Maxvorstadt',\n",
        "                                                  'Schwabing-West', 'Schwanthalerhöhe', 'Sendling', 'Sendling-Westpark']), 'd_t', 'sub')\n",
        "df_clean.head()"
      ],
      "execution_count": null,
      "outputs": [
        {
          "output_type": "execute_result",
          "data": {
            "text/html": [
              "<div>\n",
              "<style scoped>\n",
              "    .dataframe tbody tr th:only-of-type {\n",
              "        vertical-align: middle;\n",
              "    }\n",
              "\n",
              "    .dataframe tbody tr th {\n",
              "        vertical-align: top;\n",
              "    }\n",
              "\n",
              "    .dataframe thead th {\n",
              "        text-align: right;\n",
              "    }\n",
              "</style>\n",
              "<table border=\"1\" class=\"dataframe\">\n",
              "  <thead>\n",
              "    <tr style=\"text-align: right;\">\n",
              "      <th></th>\n",
              "      <th>id</th>\n",
              "      <th>name</th>\n",
              "      <th>host_id</th>\n",
              "      <th>host_name</th>\n",
              "      <th>neighbourhood</th>\n",
              "      <th>latitude</th>\n",
              "      <th>longitude</th>\n",
              "      <th>room_type</th>\n",
              "      <th>price</th>\n",
              "      <th>minimum_nights</th>\n",
              "      <th>number_of_reviews</th>\n",
              "      <th>last_review</th>\n",
              "      <th>reviews_per_month</th>\n",
              "      <th>calculated_host_listings_count</th>\n",
              "      <th>availability_365</th>\n",
              "      <th>place</th>\n",
              "    </tr>\n",
              "  </thead>\n",
              "  <tbody>\n",
              "    <tr>\n",
              "      <th>0</th>\n",
              "      <td>36720</td>\n",
              "      <td>Beautiful 2 rooms flat, Glockenbach</td>\n",
              "      <td>158413</td>\n",
              "      <td>Gabriela</td>\n",
              "      <td>Ludwigsvorstadt-Isarvorstadt</td>\n",
              "      <td>48.13057</td>\n",
              "      <td>11.56929</td>\n",
              "      <td>Entire home/apt</td>\n",
              "      <td>95</td>\n",
              "      <td>2</td>\n",
              "      <td>25</td>\n",
              "      <td>2017-07-22</td>\n",
              "      <td>0.34</td>\n",
              "      <td>1</td>\n",
              "      <td>0</td>\n",
              "      <td>d_t</td>\n",
              "    </tr>\n",
              "    <tr>\n",
              "      <th>1</th>\n",
              "      <td>49309</td>\n",
              "      <td>Sublet - Apartment with Balcony in Downtown (1)</td>\n",
              "      <td>224802</td>\n",
              "      <td>Damien</td>\n",
              "      <td>Ludwigsvorstadt-Isarvorstadt</td>\n",
              "      <td>48.12456</td>\n",
              "      <td>11.55567</td>\n",
              "      <td>Private room</td>\n",
              "      <td>40</td>\n",
              "      <td>14</td>\n",
              "      <td>40</td>\n",
              "      <td>2017-10-15</td>\n",
              "      <td>0.34</td>\n",
              "      <td>1</td>\n",
              "      <td>364</td>\n",
              "      <td>d_t</td>\n",
              "    </tr>\n",
              "    <tr>\n",
              "      <th>2</th>\n",
              "      <td>97945</td>\n",
              "      <td>Deluxw-Apartm. with roof terrace</td>\n",
              "      <td>517685</td>\n",
              "      <td>Angelika</td>\n",
              "      <td>Hadern</td>\n",
              "      <td>48.11476</td>\n",
              "      <td>11.48782</td>\n",
              "      <td>Entire home/apt</td>\n",
              "      <td>80</td>\n",
              "      <td>2</td>\n",
              "      <td>131</td>\n",
              "      <td>2019-10-03</td>\n",
              "      <td>1.26</td>\n",
              "      <td>2</td>\n",
              "      <td>229</td>\n",
              "      <td>sub</td>\n",
              "    </tr>\n",
              "    <tr>\n",
              "      <th>3</th>\n",
              "      <td>114695</td>\n",
              "      <td>Apartment Munich/East with sundeck</td>\n",
              "      <td>581737</td>\n",
              "      <td>Stephan</td>\n",
              "      <td>Berg am Laim</td>\n",
              "      <td>48.11923</td>\n",
              "      <td>11.63726</td>\n",
              "      <td>Entire home/apt</td>\n",
              "      <td>95</td>\n",
              "      <td>1</td>\n",
              "      <td>53</td>\n",
              "      <td>2019-10-06</td>\n",
              "      <td>0.49</td>\n",
              "      <td>2</td>\n",
              "      <td>142</td>\n",
              "      <td>sub</td>\n",
              "    </tr>\n",
              "    <tr>\n",
              "      <th>4</th>\n",
              "      <td>127383</td>\n",
              "      <td>City apartment next to Pinakothek</td>\n",
              "      <td>630556</td>\n",
              "      <td>Sonja</td>\n",
              "      <td>Maxvorstadt</td>\n",
              "      <td>48.15198</td>\n",
              "      <td>11.56486</td>\n",
              "      <td>Entire home/apt</td>\n",
              "      <td>120</td>\n",
              "      <td>2</td>\n",
              "      <td>84</td>\n",
              "      <td>2020-03-01</td>\n",
              "      <td>0.78</td>\n",
              "      <td>2</td>\n",
              "      <td>0</td>\n",
              "      <td>d_t</td>\n",
              "    </tr>\n",
              "  </tbody>\n",
              "</table>\n",
              "</div>"
            ],
            "text/plain": [
              "       id  ... place\n",
              "0   36720  ...   d_t\n",
              "1   49309  ...   d_t\n",
              "2   97945  ...   sub\n",
              "3  114695  ...   sub\n",
              "4  127383  ...   d_t\n",
              "\n",
              "[5 rows x 16 columns]"
            ]
          },
          "metadata": {
            "tags": []
          },
          "execution_count": 31
        }
      ]
    },
    {
      "cell_type": "markdown",
      "metadata": {
        "id": "7x4aw1j5wNmn",
        "colab_type": "text"
      },
      "source": [
        "### **Q5. Qual a média dos preços de aluguel?**"
      ]
    },
    {
      "cell_type": "code",
      "metadata": {
        "id": "HKBy65kBIkQW",
        "colab_type": "code",
        "colab": {
          "base_uri": "https://localhost:8080/",
          "height": 142
        },
        "outputId": "1a2b39cc-95e6-4d78-b10d-30ce25b8eff0"
      },
      "source": [
        "df_clean[['place', 'price', 'number_of_reviews']].groupby('place').mean()\n"
      ],
      "execution_count": null,
      "outputs": [
        {
          "output_type": "execute_result",
          "data": {
            "text/html": [
              "<div>\n",
              "<style scoped>\n",
              "    .dataframe tbody tr th:only-of-type {\n",
              "        vertical-align: middle;\n",
              "    }\n",
              "\n",
              "    .dataframe tbody tr th {\n",
              "        vertical-align: top;\n",
              "    }\n",
              "\n",
              "    .dataframe thead th {\n",
              "        text-align: right;\n",
              "    }\n",
              "</style>\n",
              "<table border=\"1\" class=\"dataframe\">\n",
              "  <thead>\n",
              "    <tr style=\"text-align: right;\">\n",
              "      <th></th>\n",
              "      <th>price</th>\n",
              "      <th>number_of_reviews</th>\n",
              "    </tr>\n",
              "    <tr>\n",
              "      <th>place</th>\n",
              "      <th></th>\n",
              "      <th></th>\n",
              "    </tr>\n",
              "  </thead>\n",
              "  <tbody>\n",
              "    <tr>\n",
              "      <th>d_t</th>\n",
              "      <td>94.454620</td>\n",
              "      <td>16.773202</td>\n",
              "    </tr>\n",
              "    <tr>\n",
              "      <th>sub</th>\n",
              "      <td>82.055395</td>\n",
              "      <td>15.985717</td>\n",
              "    </tr>\n",
              "  </tbody>\n",
              "</table>\n",
              "</div>"
            ],
            "text/plain": [
              "           price  number_of_reviews\n",
              "place                              \n",
              "d_t    94.454620          16.773202\n",
              "sub    82.055395          15.985717"
            ]
          },
          "metadata": {
            "tags": []
          },
          "execution_count": 32
        }
      ]
    },
    {
      "cell_type": "code",
      "metadata": {
        "id": "ff-8gUahLk-C",
        "colab_type": "code",
        "colab": {
          "base_uri": "https://localhost:8080/",
          "height": 51
        },
        "outputId": "bada217a-f846-43b7-e808-cfdf35cd51fc"
      },
      "source": [
        "# ver a média da coluna \"price\"\n",
        "print(\"A média de valores praticados em Munique é $:{:.2f}\".format(df_clean['price'].mean()))\n",
        "print(\"O valor médio praticado na região central é cerca de 15% maior que nas regiões periféricas\")"
      ],
      "execution_count": null,
      "outputs": [
        {
          "output_type": "stream",
          "text": [
            "A média de valores praticados em Munique é $:88.07\n",
            "O valor médio praticado na região central é cerca de 20% maior que nas regiões periféricas\n"
          ],
          "name": "stdout"
        }
      ]
    },
    {
      "cell_type": "markdown",
      "metadata": {
        "id": "IXn2oIo5qx-w",
        "colab_type": "text"
      },
      "source": [
        "### **Q6. Qual a correlação existente entre as variáveis?**\n",
        "\n",
        "Nessa análise exploratória buscamos identificar se há alguma correlação existente entre duas variáveis.\n",
        "\n",
        "Essa relação pode ser medida, e é função do coeficiente de correlação estabelecer qual a intensidade dela. Para identificar as correlações existentes entre as variáveis de interesse, serão montadas:\n",
        "\n",
        "* Uma matriz de correlação\n",
        "* Um *heatmap* a partir dessa matriz, usando a biblioteca `seaborn`"
      ]
    },
    {
      "cell_type": "code",
      "metadata": {
        "id": "x2ayzBajqxyd",
        "colab_type": "code",
        "colab": {
          "base_uri": "https://localhost:8080/",
          "height": 235
        },
        "outputId": "99b98f8b-dbde-4f48-efd8-c00ecf4ecb64"
      },
      "source": [
        "# criar uma matriz de correlação\n",
        "corrMatrix_clean = df_clean[['price', 'minimum_nights', 'number_of_reviews', 'calculated_host_listings_count', 'latitude', 'longitude']].corr()\n",
        "# mostrar a matriz de correlação\n",
        "corrMatrix_clean"
      ],
      "execution_count": null,
      "outputs": [
        {
          "output_type": "execute_result",
          "data": {
            "text/html": [
              "<div>\n",
              "<style scoped>\n",
              "    .dataframe tbody tr th:only-of-type {\n",
              "        vertical-align: middle;\n",
              "    }\n",
              "\n",
              "    .dataframe tbody tr th {\n",
              "        vertical-align: top;\n",
              "    }\n",
              "\n",
              "    .dataframe thead th {\n",
              "        text-align: right;\n",
              "    }\n",
              "</style>\n",
              "<table border=\"1\" class=\"dataframe\">\n",
              "  <thead>\n",
              "    <tr style=\"text-align: right;\">\n",
              "      <th></th>\n",
              "      <th>price</th>\n",
              "      <th>minimum_nights</th>\n",
              "      <th>number_of_reviews</th>\n",
              "      <th>calculated_host_listings_count</th>\n",
              "      <th>latitude</th>\n",
              "      <th>longitude</th>\n",
              "    </tr>\n",
              "  </thead>\n",
              "  <tbody>\n",
              "    <tr>\n",
              "      <th>price</th>\n",
              "      <td>1.000000</td>\n",
              "      <td>-0.081087</td>\n",
              "      <td>-0.107462</td>\n",
              "      <td>-0.021647</td>\n",
              "      <td>-0.018841</td>\n",
              "      <td>0.007245</td>\n",
              "    </tr>\n",
              "    <tr>\n",
              "      <th>minimum_nights</th>\n",
              "      <td>-0.081087</td>\n",
              "      <td>1.000000</td>\n",
              "      <td>-0.070017</td>\n",
              "      <td>0.302612</td>\n",
              "      <td>-0.006963</td>\n",
              "      <td>0.004816</td>\n",
              "    </tr>\n",
              "    <tr>\n",
              "      <th>number_of_reviews</th>\n",
              "      <td>-0.107462</td>\n",
              "      <td>-0.070017</td>\n",
              "      <td>1.000000</td>\n",
              "      <td>0.083451</td>\n",
              "      <td>-0.011165</td>\n",
              "      <td>0.040919</td>\n",
              "    </tr>\n",
              "    <tr>\n",
              "      <th>calculated_host_listings_count</th>\n",
              "      <td>-0.021647</td>\n",
              "      <td>0.302612</td>\n",
              "      <td>0.083451</td>\n",
              "      <td>1.000000</td>\n",
              "      <td>-0.037805</td>\n",
              "      <td>0.011539</td>\n",
              "    </tr>\n",
              "    <tr>\n",
              "      <th>latitude</th>\n",
              "      <td>-0.018841</td>\n",
              "      <td>-0.006963</td>\n",
              "      <td>-0.011165</td>\n",
              "      <td>-0.037805</td>\n",
              "      <td>1.000000</td>\n",
              "      <td>-0.064521</td>\n",
              "    </tr>\n",
              "    <tr>\n",
              "      <th>longitude</th>\n",
              "      <td>0.007245</td>\n",
              "      <td>0.004816</td>\n",
              "      <td>0.040919</td>\n",
              "      <td>0.011539</td>\n",
              "      <td>-0.064521</td>\n",
              "      <td>1.000000</td>\n",
              "    </tr>\n",
              "  </tbody>\n",
              "</table>\n",
              "</div>"
            ],
            "text/plain": [
              "                                   price  minimum_nights  ...  latitude  longitude\n",
              "price                           1.000000       -0.081087  ... -0.018841   0.007245\n",
              "minimum_nights                 -0.081087        1.000000  ... -0.006963   0.004816\n",
              "number_of_reviews              -0.107462       -0.070017  ... -0.011165   0.040919\n",
              "calculated_host_listings_count -0.021647        0.302612  ... -0.037805   0.011539\n",
              "latitude                       -0.018841       -0.006963  ...  1.000000  -0.064521\n",
              "longitude                       0.007245        0.004816  ... -0.064521   1.000000\n",
              "\n",
              "[6 rows x 6 columns]"
            ]
          },
          "metadata": {
            "tags": []
          },
          "execution_count": 36
        }
      ]
    },
    {
      "cell_type": "markdown",
      "metadata": {
        "id": "TG_7Faf9MPrq",
        "colab_type": "text"
      },
      "source": [
        "De maneira geral, os dados não apresentaram correlação significativa entre si que não tivessem características colineares (ex.: id / host_id e number_of_reviews / reviews_per_month.\n",
        "\n",
        "De alguma forma, o número de imóveis pertencentes a uma mesma pessoa (\"calculated_host_listings_count\") parece ter alguma relação com o número mínimo de noites para locação (\"minimum_nights\")."
      ]
    },
    {
      "cell_type": "code",
      "metadata": {
        "id": "91UujDr6ueqE",
        "colab_type": "code",
        "colab": {
          "base_uri": "https://localhost:8080/",
          "height": 411
        },
        "outputId": "b5ca48b5-5550-4a59-f2b5-db0f7c9fcbf6"
      },
      "source": [
        "# plotar um heatmap a partir das correlações\n",
        "plt.figure(figsize=(6,4))\n",
        "sns.heatmap(data=corrMatrix_clean, cmap='coolwarm', linewidths=.1, annot=True);"
      ],
      "execution_count": null,
      "outputs": [
        {
          "output_type": "display_data",
          "data": {
            "image/png": "[encoded data removed]",
            "text/plain": [
              "<Figure size 432x288 with 2 Axes>"
            ]
          },
          "metadata": {
            "tags": [],
            "needs_background": "light"
          }
        }
      ]
    },
    {
      "cell_type": "markdown",
      "metadata": {
        "id": "7b6RMWpuHKN-",
        "colab_type": "text"
      },
      "source": [
        "### **Q7. Qual o tipo de imóvel mais alugado no Airbnb?**\n",
        "O sistema do Airbnb categoriza os imóveis disponíveis para aluguel em 4 calsses:\n",
        "*   Imóvel completo, casa/apartamento;\n",
        "*   Quarto privativo;\n",
        "*   Quarto dividido;\n",
        "*   Quarto de hotel."
      ]
    },
    {
      "cell_type": "code",
      "metadata": {
        "id": "ueLPNWvPHgfB",
        "colab_type": "code",
        "colab": {
          "base_uri": "https://localhost:8080/",
          "height": 102
        },
        "outputId": "2925a8f6-cde1-45a1-d034-7aa11d9909e4"
      },
      "source": [
        "# mostrar a quantidade de cada tipo de imóvel disponível\n",
        "df_room = df_clean.room_type.value_counts()\n",
        "df_room"
      ],
      "execution_count": null,
      "outputs": [
        {
          "output_type": "execute_result",
          "data": {
            "text/plain": [
              "Entire home/apt    5442\n",
              "Private room       4387\n",
              "Shared room         175\n",
              "Hotel room           58\n",
              "Name: room_type, dtype: int64"
            ]
          },
          "metadata": {
            "tags": []
          },
          "execution_count": 38
        }
      ]
    },
    {
      "cell_type": "code",
      "metadata": {
        "id": "EvwoO-XAHhIm",
        "colab_type": "code",
        "colab": {
          "base_uri": "https://localhost:8080/",
          "height": 102
        },
        "outputId": "5f614638-a9d5-46f4-c535-23178872071d"
      },
      "source": [
        "  # mostrar a porcentagem de cada tipo de imóvel disponível\n",
        "df_room_percent = (df_room/len(df_clean['room_type']))*100\n",
        "df_room_percent"
      ],
      "execution_count": null,
      "outputs": [
        {
          "output_type": "execute_result",
          "data": {
            "text/plain": [
              "Entire home/apt    54.084675\n",
              "Private room       43.599682\n",
              "Shared room         1.739217\n",
              "Hotel room          0.576426\n",
              "Name: room_type, dtype: float64"
            ]
          },
          "metadata": {
            "tags": []
          },
          "execution_count": 50
        }
      ]
    },
    {
      "cell_type": "code",
      "metadata": {
        "id": "EBUG7_hFNm6D",
        "colab_type": "code",
        "colab": {
          "base_uri": "https://localhost:8080/",
          "height": 204
        },
        "outputId": "ac782579-1232-4a77-c857-1931b17704a3"
      },
      "source": [
        "# mostrar o número de imóveis, média dos preços e reviews da região central segundo o tipo de acomodação\n",
        "df_d_t = df_clean.loc[df_clean['place']=='d_t']\n",
        "df_e = df_d_t[['room_type', 'price']].groupby('room_type').mean()\n",
        "df_e['number'] = df_d_t.room_type.value_counts()\n",
        "df_e['reviews'] = df_d_t[['room_type', 'number_of_reviews']].groupby('room_type').mean()\n",
        "df_e.sort_values(by='price', ascending=False)"
      ],
      "execution_count": null,
      "outputs": [
        {
          "output_type": "execute_result",
          "data": {
            "text/html": [
              "<div>\n",
              "<style scoped>\n",
              "    .dataframe tbody tr th:only-of-type {\n",
              "        vertical-align: middle;\n",
              "    }\n",
              "\n",
              "    .dataframe tbody tr th {\n",
              "        vertical-align: top;\n",
              "    }\n",
              "\n",
              "    .dataframe thead th {\n",
              "        text-align: right;\n",
              "    }\n",
              "</style>\n",
              "<table border=\"1\" class=\"dataframe\">\n",
              "  <thead>\n",
              "    <tr style=\"text-align: right;\">\n",
              "      <th></th>\n",
              "      <th>price</th>\n",
              "      <th>number</th>\n",
              "      <th>reviews</th>\n",
              "    </tr>\n",
              "    <tr>\n",
              "      <th>room_type</th>\n",
              "      <th></th>\n",
              "      <th></th>\n",
              "      <th></th>\n",
              "    </tr>\n",
              "  </thead>\n",
              "  <tbody>\n",
              "    <tr>\n",
              "      <th>Hotel room</th>\n",
              "      <td>122.666667</td>\n",
              "      <td>27</td>\n",
              "      <td>29.925926</td>\n",
              "    </tr>\n",
              "    <tr>\n",
              "      <th>Entire home/apt</th>\n",
              "      <td>104.362974</td>\n",
              "      <td>2744</td>\n",
              "      <td>15.938411</td>\n",
              "    </tr>\n",
              "    <tr>\n",
              "      <th>Private room</th>\n",
              "      <td>81.700980</td>\n",
              "      <td>2040</td>\n",
              "      <td>17.304902</td>\n",
              "    </tr>\n",
              "    <tr>\n",
              "      <th>Shared room</th>\n",
              "      <td>66.842857</td>\n",
              "      <td>70</td>\n",
              "      <td>28.928571</td>\n",
              "    </tr>\n",
              "  </tbody>\n",
              "</table>\n",
              "</div>"
            ],
            "text/plain": [
              "                      price  number    reviews\n",
              "room_type                                     \n",
              "Hotel room       122.666667      27  29.925926\n",
              "Entire home/apt  104.362974    2744  15.938411\n",
              "Private room      81.700980    2040  17.304902\n",
              "Shared room       66.842857      70  28.928571"
            ]
          },
          "metadata": {
            "tags": []
          },
          "execution_count": 51
        }
      ]
    },
    {
      "cell_type": "code",
      "metadata": {
        "id": "ucIxmXjYPvQ9",
        "colab_type": "code",
        "colab": {
          "base_uri": "https://localhost:8080/",
          "height": 204
        },
        "outputId": "6b03bbfb-8346-496e-d5a0-25d0889011e6"
      },
      "source": [
        "# mostrar o número de imóveis, média dos preços e reviews da região periférica segundo o tipo de acomodação\n",
        "df_sub = df_clean.loc[df_clean['place']=='sub']\n",
        "df_e = df_sub[['room_type', 'price']].groupby('room_type').mean()\n",
        "df_e['number'] = df_sub.room_type.value_counts()\n",
        "df_e['reviews'] = df_sub[['room_type', 'number_of_reviews']].groupby('room_type').mean()\n",
        "df_e.sort_values(by='price', ascending=False)"
      ],
      "execution_count": null,
      "outputs": [
        {
          "output_type": "execute_result",
          "data": {
            "text/html": [
              "<div>\n",
              "<style scoped>\n",
              "    .dataframe tbody tr th:only-of-type {\n",
              "        vertical-align: middle;\n",
              "    }\n",
              "\n",
              "    .dataframe tbody tr th {\n",
              "        vertical-align: top;\n",
              "    }\n",
              "\n",
              "    .dataframe thead th {\n",
              "        text-align: right;\n",
              "    }\n",
              "</style>\n",
              "<table border=\"1\" class=\"dataframe\">\n",
              "  <thead>\n",
              "    <tr style=\"text-align: right;\">\n",
              "      <th></th>\n",
              "      <th>price</th>\n",
              "      <th>number</th>\n",
              "      <th>reviews</th>\n",
              "    </tr>\n",
              "    <tr>\n",
              "      <th>room_type</th>\n",
              "      <th></th>\n",
              "      <th></th>\n",
              "      <th></th>\n",
              "    </tr>\n",
              "  </thead>\n",
              "  <tbody>\n",
              "    <tr>\n",
              "      <th>Entire home/apt</th>\n",
              "      <td>95.439585</td>\n",
              "      <td>2698</td>\n",
              "      <td>14.091920</td>\n",
              "    </tr>\n",
              "    <tr>\n",
              "      <th>Hotel room</th>\n",
              "      <td>91.677419</td>\n",
              "      <td>31</td>\n",
              "      <td>20.580645</td>\n",
              "    </tr>\n",
              "    <tr>\n",
              "      <th>Private room</th>\n",
              "      <td>67.402216</td>\n",
              "      <td>2347</td>\n",
              "      <td>18.503622</td>\n",
              "    </tr>\n",
              "    <tr>\n",
              "      <th>Shared room</th>\n",
              "      <td>62.838095</td>\n",
              "      <td>105</td>\n",
              "      <td>7.009524</td>\n",
              "    </tr>\n",
              "  </tbody>\n",
              "</table>\n",
              "</div>"
            ],
            "text/plain": [
              "                     price  number    reviews\n",
              "room_type                                    \n",
              "Entire home/apt  95.439585    2698  14.091920\n",
              "Hotel room       91.677419      31  20.580645\n",
              "Private room     67.402216    2347  18.503622\n",
              "Shared room      62.838095     105   7.009524"
            ]
          },
          "metadata": {
            "tags": []
          },
          "execution_count": 52
        }
      ]
    },
    {
      "cell_type": "code",
      "metadata": {
        "id": "6TQO0fn3xyXb",
        "colab_type": "code",
        "colab": {
          "base_uri": "https://localhost:8080/",
          "height": 328
        },
        "outputId": "700a952c-cfa2-45a6-f9bc-7ebeb798f5dc"
      },
      "source": [
        "# mostrar bairros no centro com reviews acima da média e preços abaixo da média.\n",
        "df_down = df_clean.loc[df_clean['place']=='d_t']\n",
        "df_down1 = df_down.loc[df_down['price']<=113.85]\n",
        "df_down2 = df_down1.loc[df_down1['number_of_reviews']>=16.18]\n",
        "df_down2[['neighbourhood', 'price', 'number_of_reviews']].groupby('neighbourhood').mean().sort_values(\n",
        "    by='price', ascending=False)\n"
      ],
      "execution_count": null,
      "outputs": [
        {
          "output_type": "execute_result",
          "data": {
            "text/html": [
              "<div>\n",
              "<style scoped>\n",
              "    .dataframe tbody tr th:only-of-type {\n",
              "        vertical-align: middle;\n",
              "    }\n",
              "\n",
              "    .dataframe tbody tr th {\n",
              "        vertical-align: top;\n",
              "    }\n",
              "\n",
              "    .dataframe thead th {\n",
              "        text-align: right;\n",
              "    }\n",
              "</style>\n",
              "<table border=\"1\" class=\"dataframe\">\n",
              "  <thead>\n",
              "    <tr style=\"text-align: right;\">\n",
              "      <th></th>\n",
              "      <th>price</th>\n",
              "      <th>number_of_reviews</th>\n",
              "    </tr>\n",
              "    <tr>\n",
              "      <th>neighbourhood</th>\n",
              "      <th></th>\n",
              "      <th></th>\n",
              "    </tr>\n",
              "  </thead>\n",
              "  <tbody>\n",
              "    <tr>\n",
              "      <th>Altstadt-Lehel</th>\n",
              "      <td>75.954545</td>\n",
              "      <td>67.636364</td>\n",
              "    </tr>\n",
              "    <tr>\n",
              "      <th>Ludwigsvorstadt-Isarvorstadt</th>\n",
              "      <td>69.696335</td>\n",
              "      <td>72.518325</td>\n",
              "    </tr>\n",
              "    <tr>\n",
              "      <th>Schwanthalerhöhe</th>\n",
              "      <td>68.053571</td>\n",
              "      <td>61.910714</td>\n",
              "    </tr>\n",
              "    <tr>\n",
              "      <th>Maxvorstadt</th>\n",
              "      <td>67.264368</td>\n",
              "      <td>88.482759</td>\n",
              "    </tr>\n",
              "    <tr>\n",
              "      <th>Au-Haidhausen</th>\n",
              "      <td>66.847458</td>\n",
              "      <td>62.050847</td>\n",
              "    </tr>\n",
              "    <tr>\n",
              "      <th>Schwabing-West</th>\n",
              "      <td>61.247788</td>\n",
              "      <td>53.504425</td>\n",
              "    </tr>\n",
              "    <tr>\n",
              "      <th>Sendling</th>\n",
              "      <td>59.230769</td>\n",
              "      <td>57.138462</td>\n",
              "    </tr>\n",
              "    <tr>\n",
              "      <th>Sendling-Westpark</th>\n",
              "      <td>54.536585</td>\n",
              "      <td>61.000000</td>\n",
              "    </tr>\n",
              "  </tbody>\n",
              "</table>\n",
              "</div>"
            ],
            "text/plain": [
              "                                  price  number_of_reviews\n",
              "neighbourhood                                             \n",
              "Altstadt-Lehel                75.954545          67.636364\n",
              "Ludwigsvorstadt-Isarvorstadt  69.696335          72.518325\n",
              "Schwanthalerhöhe              68.053571          61.910714\n",
              "Maxvorstadt                   67.264368          88.482759\n",
              "Au-Haidhausen                 66.847458          62.050847\n",
              "Schwabing-West                61.247788          53.504425\n",
              "Sendling                      59.230769          57.138462\n",
              "Sendling-Westpark             54.536585          61.000000"
            ]
          },
          "metadata": {
            "tags": []
          },
          "execution_count": 53
        }
      ]
    },
    {
      "cell_type": "code",
      "metadata": {
        "id": "KoqMe3_nU3Xa",
        "colab_type": "code",
        "colab": {
          "base_uri": "https://localhost:8080/",
          "height": 607
        },
        "outputId": "f9191ffe-02e3-47c0-e93f-383846b9ee5b"
      },
      "source": [
        "# mostrar bairros no centro com reviews acima da média e preços abaixo da média.\n",
        "df_s = df_clean.loc[df_clean['place']=='sub']\n",
        "df_s1 = df_s.loc[df_s['price']<=94.77]\n",
        "df_s2 = df_s1.loc[df_s1['number_of_reviews']>=15.41]\n",
        "df_s2[['neighbourhood', 'price', 'number_of_reviews',]].groupby('neighbourhood').mean().sort_values(by=\n",
        "                                                                                                      'price', ascending=False)"
      ],
      "execution_count": null,
      "outputs": [
        {
          "output_type": "execute_result",
          "data": {
            "text/html": [
              "<div>\n",
              "<style scoped>\n",
              "    .dataframe tbody tr th:only-of-type {\n",
              "        vertical-align: middle;\n",
              "    }\n",
              "\n",
              "    .dataframe tbody tr th {\n",
              "        vertical-align: top;\n",
              "    }\n",
              "\n",
              "    .dataframe thead th {\n",
              "        text-align: right;\n",
              "    }\n",
              "</style>\n",
              "<table border=\"1\" class=\"dataframe\">\n",
              "  <thead>\n",
              "    <tr style=\"text-align: right;\">\n",
              "      <th></th>\n",
              "      <th>price</th>\n",
              "      <th>number_of_reviews</th>\n",
              "    </tr>\n",
              "    <tr>\n",
              "      <th>neighbourhood</th>\n",
              "      <th></th>\n",
              "      <th></th>\n",
              "    </tr>\n",
              "  </thead>\n",
              "  <tbody>\n",
              "    <tr>\n",
              "      <th>Neuhausen-Nymphenburg</th>\n",
              "      <td>57.326733</td>\n",
              "      <td>63.653465</td>\n",
              "    </tr>\n",
              "    <tr>\n",
              "      <th>Schwabing-Freimann</th>\n",
              "      <td>56.326923</td>\n",
              "      <td>84.471154</td>\n",
              "    </tr>\n",
              "    <tr>\n",
              "      <th>Untergiesing-Harlaching</th>\n",
              "      <td>56.319149</td>\n",
              "      <td>66.085106</td>\n",
              "    </tr>\n",
              "    <tr>\n",
              "      <th>Bogenhausen</th>\n",
              "      <td>56.073529</td>\n",
              "      <td>63.588235</td>\n",
              "    </tr>\n",
              "    <tr>\n",
              "      <th>Tudering-Riem</th>\n",
              "      <td>54.175676</td>\n",
              "      <td>53.621622</td>\n",
              "    </tr>\n",
              "    <tr>\n",
              "      <th>Milbertshofen-Am Hart</th>\n",
              "      <td>53.686567</td>\n",
              "      <td>63.238806</td>\n",
              "    </tr>\n",
              "    <tr>\n",
              "      <th>Obergiesing</th>\n",
              "      <td>52.456140</td>\n",
              "      <td>65.754386</td>\n",
              "    </tr>\n",
              "    <tr>\n",
              "      <th>Allach-Untermenzing</th>\n",
              "      <td>51.571429</td>\n",
              "      <td>44.428571</td>\n",
              "    </tr>\n",
              "    <tr>\n",
              "      <th>Berg am Laim</th>\n",
              "      <td>51.542857</td>\n",
              "      <td>58.714286</td>\n",
              "    </tr>\n",
              "    <tr>\n",
              "      <th>Thalkirchen-Obersendling-Forstenried-Fürstenried-Solln</th>\n",
              "      <td>51.142857</td>\n",
              "      <td>66.339286</td>\n",
              "    </tr>\n",
              "    <tr>\n",
              "      <th>Ramersdorf-Perlach</th>\n",
              "      <td>50.388889</td>\n",
              "      <td>72.833333</td>\n",
              "    </tr>\n",
              "    <tr>\n",
              "      <th>Hadern</th>\n",
              "      <td>49.235294</td>\n",
              "      <td>62.411765</td>\n",
              "    </tr>\n",
              "    <tr>\n",
              "      <th>Pasing-Obermenzing</th>\n",
              "      <td>48.944444</td>\n",
              "      <td>50.138889</td>\n",
              "    </tr>\n",
              "    <tr>\n",
              "      <th>Feldmoching-Hasenbergl</th>\n",
              "      <td>47.437500</td>\n",
              "      <td>106.187500</td>\n",
              "    </tr>\n",
              "    <tr>\n",
              "      <th>Laim</th>\n",
              "      <td>47.017857</td>\n",
              "      <td>58.839286</td>\n",
              "    </tr>\n",
              "    <tr>\n",
              "      <th>Aubing-Lochhausen-Langwied</th>\n",
              "      <td>45.933333</td>\n",
              "      <td>36.400000</td>\n",
              "    </tr>\n",
              "    <tr>\n",
              "      <th>Moosach</th>\n",
              "      <td>42.294118</td>\n",
              "      <td>57.705882</td>\n",
              "    </tr>\n",
              "  </tbody>\n",
              "</table>\n",
              "</div>"
            ],
            "text/plain": [
              "                                                        price  number_of_reviews\n",
              "neighbourhood                                                                   \n",
              "Neuhausen-Nymphenburg                               57.326733          63.653465\n",
              "Schwabing-Freimann                                  56.326923          84.471154\n",
              "Untergiesing-Harlaching                             56.319149          66.085106\n",
              "Bogenhausen                                         56.073529          63.588235\n",
              "Tudering-Riem                                       54.175676          53.621622\n",
              "Milbertshofen-Am Hart                               53.686567          63.238806\n",
              "Obergiesing                                         52.456140          65.754386\n",
              "Allach-Untermenzing                                 51.571429          44.428571\n",
              "Berg am Laim                                        51.542857          58.714286\n",
              "Thalkirchen-Obersendling-Forstenried-Fürstenrie...  51.142857          66.339286\n",
              "Ramersdorf-Perlach                                  50.388889          72.833333\n",
              "Hadern                                              49.235294          62.411765\n",
              "Pasing-Obermenzing                                  48.944444          50.138889\n",
              "Feldmoching-Hasenbergl                              47.437500         106.187500\n",
              "Laim                                                47.017857          58.839286\n",
              "Aubing-Lochhausen-Langwied                          45.933333          36.400000\n",
              "Moosach                                             42.294118          57.705882"
            ]
          },
          "metadata": {
            "tags": []
          },
          "execution_count": 54
        }
      ]
    },
    {
      "cell_type": "code",
      "metadata": {
        "id": "hDOYXCIZ8DWK",
        "colab_type": "code",
        "colab": {
          "base_uri": "https://localhost:8080/",
          "height": 34
        },
        "outputId": "559c535b-daeb-435e-e7e0-606b24b13e8c"
      },
      "source": [
        "# Quantidade de imóveis disponíveis\n",
        "df_clean['price'].count()"
      ],
      "execution_count": null,
      "outputs": [
        {
          "output_type": "execute_result",
          "data": {
            "text/plain": [
              "10062"
            ]
          },
          "metadata": {
            "tags": []
          },
          "execution_count": 55
        }
      ]
    },
    {
      "cell_type": "markdown",
      "metadata": {
        "id": "6cKP-s7_NYkf",
        "colab_type": "text"
      },
      "source": [
        "Dos 10.062 imóveis disponíveis, 54,0% estão disponíveis como aluguel de casa/apartamento, seguido de 43,6% dos imóveis disponiilizados para aluguél de quarto privativo. Para os imóveis de Munique cadastrados no Airbnb, apenas 1,8% e 0,6% estão, respectivamente, disponíveis para  aluguéis de quartos compartilhados ou quarto de holtel.\n",
        "\n",
        "Tanto para os bairros indicados como centrais quanto para os indicados como periféricos os imóveis indicados como “Hotel room” são os que apresentam menor número de disponibilidade e maior média de “reviews”. \n",
        "\n",
        "Em todas as categorias, os valores praticados na região central são superiores às das regiões periféricas seguindo por 33,80% para hotéis; 21,21% para quartos privativos; 9,35% para apartamentos completos e 6,37% para quartos divididos.\n",
        "\n",
        "**Para a região central:**\n",
        "\n",
        "* *Maiores médias de reviews:* Maxvorstadt, Ludwigsvorstadt-Isarvorstadt e Altstadt-Lehel\n",
        "* *Menores médias de preço:* Sendling-Westpark, Sendling, Schwabing-West.\n",
        "\n",
        "O bairro de Maxvorstadt: (o 4o mais caro) chama a atenção neste ponto por ser o 4o mais caro (dentre os indicados) e ter  a maior média de revieews.\n",
        "\n",
        "\n",
        "**Para os bairros periféricos:**\n",
        "\n",
        "* *Maiores médias de reviews:* Feldmoching-Hasenbergl, Schwabing-Freimann e Ramersdorf-Perlach;\n",
        "\n",
        "* *Menores médias de preços:* Moosach, Aubing-Lochhausen-Langwied, Laim\n",
        "\n",
        "Tanto nos bairros mais centrais quanto nos mais periféricos aqueles que têm menor média de preço parecem ter igualmente a menor média de reviews. \n",
        "\n",
        "De maneira geral, os bairros centrais detêm a maioria dos imoveis cadastrados nesse dataset, com atenção para o bairro de Ludwigsvorstadt-Isarvorstadt que lidera a disponibilidade de imóveis em todas as classes."
      ]
    },
    {
      "cell_type": "markdown",
      "metadata": {
        "id": "eC3IQOskhgK0",
        "colab_type": "text"
      },
      "source": [
        "### **Q8. Qual o perfil mais comum dos proprietários dos imóveis?**\n",
        "\n",
        "A maior parte dos proprietários de imóveis cadastrados possuem 1 ou 2 imóveis e preferencialmente na região central da cidade, especialmente Altstadt-Lehel e Ludwgsvorstadt-Isarvorstadt"
      ]
    },
    {
      "cell_type": "code",
      "metadata": {
        "id": "2Rq4cZAryq8T",
        "colab_type": "code",
        "colab": {
          "base_uri": "https://localhost:8080/",
          "height": 306
        },
        "outputId": "08b031ee-186a-4794-b2a2-3d050791d191"
      },
      "source": [
        "#Identificar a quantos proprietários têm um mesmo número de imóves\n",
        "df_clean.calculated_host_listings_count.value_counts()"
      ],
      "execution_count": null,
      "outputs": [
        {
          "output_type": "execute_result",
          "data": {
            "text/plain": [
              "1     7736\n",
              "2     1272\n",
              "3      372\n",
              "4      170\n",
              "5       99\n",
              "6       75\n",
              "8       62\n",
              "21      42\n",
              "10      38\n",
              "12      36\n",
              "34      33\n",
              "18      33\n",
              "7       28\n",
              "9       28\n",
              "11      21\n",
              "37      17\n",
              "Name: calculated_host_listings_count, dtype: int64"
            ]
          },
          "metadata": {
            "tags": []
          },
          "execution_count": 58
        }
      ]
    },
    {
      "cell_type": "markdown",
      "metadata": {
        "id": "XdA_HIhpwkD3",
        "colab_type": "text"
      },
      "source": [
        "Para as próximas etapas deste tópico, o conjunto de imóveis foi dividido em dois subconjuntos:\n",
        "* 1 ou 2 imóveis: 9.008 proprietários (89,5%)\n",
        "* Mais do que 2 imóveis: 1057 proprietários (10,5%) "
      ]
    },
    {
      "cell_type": "code",
      "metadata": {
        "id": "kBX8oLqQiFl_",
        "colab_type": "code",
        "colab": {
          "base_uri": "https://localhost:8080/",
          "height": 173
        },
        "outputId": "e9466dc4-7847-493a-cb0b-0cc29b272795"
      },
      "source": [
        "# Separar os proprietários que tem 1 ou 2 imóveis e mostrar a quais bairros pertencem\n",
        "df_menos = df_clean.loc[df_clean['calculated_host_listings_count']<=2]\n",
        "df_menor = df_menos[['neighbourhood', 'price']].groupby('neighbourhood').mean()\n",
        "df_menor['number'] = df_menos.neighbourhood.value_counts()\n",
        "df_menor['reviews'] = df_menos[['neighbourhood', 'number_of_reviews']].groupby('neighbourhood').mean()\n",
        "df_menor.sort_values(by='price', ascending=False)[:3]\n"
      ],
      "execution_count": null,
      "outputs": [
        {
          "output_type": "execute_result",
          "data": {
            "text/html": [
              "<div>\n",
              "<style scoped>\n",
              "    .dataframe tbody tr th:only-of-type {\n",
              "        vertical-align: middle;\n",
              "    }\n",
              "\n",
              "    .dataframe tbody tr th {\n",
              "        vertical-align: top;\n",
              "    }\n",
              "\n",
              "    .dataframe thead th {\n",
              "        text-align: right;\n",
              "    }\n",
              "</style>\n",
              "<table border=\"1\" class=\"dataframe\">\n",
              "  <thead>\n",
              "    <tr style=\"text-align: right;\">\n",
              "      <th></th>\n",
              "      <th>price</th>\n",
              "      <th>number</th>\n",
              "      <th>reviews</th>\n",
              "    </tr>\n",
              "    <tr>\n",
              "      <th>neighbourhood</th>\n",
              "      <th></th>\n",
              "      <th></th>\n",
              "      <th></th>\n",
              "    </tr>\n",
              "  </thead>\n",
              "  <tbody>\n",
              "    <tr>\n",
              "      <th>Altstadt-Lehel</th>\n",
              "      <td>106.672727</td>\n",
              "      <td>275</td>\n",
              "      <td>17.327273</td>\n",
              "    </tr>\n",
              "    <tr>\n",
              "      <th>Ludwigsvorstadt-Isarvorstadt</th>\n",
              "      <td>100.703371</td>\n",
              "      <td>890</td>\n",
              "      <td>15.896629</td>\n",
              "    </tr>\n",
              "    <tr>\n",
              "      <th>Schwanthalerhöhe</th>\n",
              "      <td>98.683616</td>\n",
              "      <td>354</td>\n",
              "      <td>12.881356</td>\n",
              "    </tr>\n",
              "  </tbody>\n",
              "</table>\n",
              "</div>"
            ],
            "text/plain": [
              "                                   price  number    reviews\n",
              "neighbourhood                                              \n",
              "Altstadt-Lehel                106.672727     275  17.327273\n",
              "Ludwigsvorstadt-Isarvorstadt  100.703371     890  15.896629\n",
              "Schwanthalerhöhe               98.683616     354  12.881356"
            ]
          },
          "metadata": {
            "tags": []
          },
          "execution_count": 65
        }
      ]
    },
    {
      "cell_type": "code",
      "metadata": {
        "id": "6lU9lIuqn6qU",
        "colab_type": "code",
        "colab": {
          "base_uri": "https://localhost:8080/",
          "height": 204
        },
        "outputId": "2064c203-694a-4ace-dbfc-a44fbb3a20e8"
      },
      "source": [
        "# indicar qual tipo de imóveis mais comum para os proprietários que tem 1 ou 2 imóveis \n",
        "df_menos_room = df_menos[['room_type', 'price', 'minimum_nights']].groupby('room_type').mean()\n",
        "df_menos_room['number'] = df_menos.room_type.value_counts()\n",
        "df_menos_room.sort_values(by='minimum_nights', ascending=False)"
      ],
      "execution_count": null,
      "outputs": [
        {
          "output_type": "execute_result",
          "data": {
            "text/html": [
              "<div>\n",
              "<style scoped>\n",
              "    .dataframe tbody tr th:only-of-type {\n",
              "        vertical-align: middle;\n",
              "    }\n",
              "\n",
              "    .dataframe tbody tr th {\n",
              "        vertical-align: top;\n",
              "    }\n",
              "\n",
              "    .dataframe thead th {\n",
              "        text-align: right;\n",
              "    }\n",
              "</style>\n",
              "<table border=\"1\" class=\"dataframe\">\n",
              "  <thead>\n",
              "    <tr style=\"text-align: right;\">\n",
              "      <th></th>\n",
              "      <th>price</th>\n",
              "      <th>minimum_nights</th>\n",
              "      <th>number</th>\n",
              "    </tr>\n",
              "    <tr>\n",
              "      <th>room_type</th>\n",
              "      <th></th>\n",
              "      <th></th>\n",
              "      <th></th>\n",
              "    </tr>\n",
              "  </thead>\n",
              "  <tbody>\n",
              "    <tr>\n",
              "      <th>Entire home/apt</th>\n",
              "      <td>100.374165</td>\n",
              "      <td>3.709455</td>\n",
              "      <td>4939</td>\n",
              "    </tr>\n",
              "    <tr>\n",
              "      <th>Private room</th>\n",
              "      <td>73.586374</td>\n",
              "      <td>2.353406</td>\n",
              "      <td>3919</td>\n",
              "    </tr>\n",
              "    <tr>\n",
              "      <th>Hotel room</th>\n",
              "      <td>87.400000</td>\n",
              "      <td>2.200000</td>\n",
              "      <td>5</td>\n",
              "    </tr>\n",
              "    <tr>\n",
              "      <th>Shared room</th>\n",
              "      <td>66.620690</td>\n",
              "      <td>1.668966</td>\n",
              "      <td>145</td>\n",
              "    </tr>\n",
              "  </tbody>\n",
              "</table>\n",
              "</div>"
            ],
            "text/plain": [
              "                      price  minimum_nights  number\n",
              "room_type                                          \n",
              "Entire home/apt  100.374165        3.709455    4939\n",
              "Private room      73.586374        2.353406    3919\n",
              "Hotel room        87.400000        2.200000       5\n",
              "Shared room       66.620690        1.668966     145"
            ]
          },
          "metadata": {
            "tags": []
          },
          "execution_count": 74
        }
      ]
    },
    {
      "cell_type": "code",
      "metadata": {
        "id": "0ie6q38tRbIy",
        "colab_type": "code",
        "colab": {
          "base_uri": "https://localhost:8080/",
          "height": 51
        },
        "outputId": "fa671ed1-0aed-4840-a3d5-2cbffd25cddb"
      },
      "source": [
        "print('O número médio de noites para esse grupo é {:.2f}'.format(df_menos['minimum_nights'].mean()))\n",
        "print(\"O preço médio do grupo com 1 ou 2 imóveis é $:{:.2f}\".format(df_menor['price'].mean()))"
      ],
      "execution_count": null,
      "outputs": [
        {
          "output_type": "stream",
          "text": [
            "O número médio de noites para esse grupo é 3.09\n",
            "O preço médio do grupo com 1 ou 2 imóveis é $:85.03\n"
          ],
          "name": "stdout"
        }
      ]
    },
    {
      "cell_type": "code",
      "metadata": {
        "id": "0UCzOgvD0VCS",
        "colab_type": "code",
        "colab": {
          "base_uri": "https://localhost:8080/",
          "height": 173
        },
        "outputId": "a3b4ba77-57b6-4c42-f788-645608c189c7"
      },
      "source": [
        "# Separar os proprietários que tem mais que 2 imóveis \n",
        "df_mais = df_clean.loc[df_clean['calculated_host_listings_count']>2]\n",
        "df_maior = df_mais[['neighbourhood', 'price']].groupby('neighbourhood').mean()\n",
        "df_maior['number'] = df_mais.neighbourhood.value_counts()\n",
        "df_maior['reviews'] = df_mais[['neighbourhood', 'number_of_reviews']].groupby('neighbourhood').mean()\n",
        "df_maior.sort_values(by='price', ascending=True)[:3]"
      ],
      "execution_count": null,
      "outputs": [
        {
          "output_type": "execute_result",
          "data": {
            "text/html": [
              "<div>\n",
              "<style scoped>\n",
              "    .dataframe tbody tr th:only-of-type {\n",
              "        vertical-align: middle;\n",
              "    }\n",
              "\n",
              "    .dataframe tbody tr th {\n",
              "        vertical-align: top;\n",
              "    }\n",
              "\n",
              "    .dataframe thead th {\n",
              "        text-align: right;\n",
              "    }\n",
              "</style>\n",
              "<table border=\"1\" class=\"dataframe\">\n",
              "  <thead>\n",
              "    <tr style=\"text-align: right;\">\n",
              "      <th></th>\n",
              "      <th>price</th>\n",
              "      <th>number</th>\n",
              "      <th>reviews</th>\n",
              "    </tr>\n",
              "    <tr>\n",
              "      <th>neighbourhood</th>\n",
              "      <th></th>\n",
              "      <th></th>\n",
              "      <th></th>\n",
              "    </tr>\n",
              "  </thead>\n",
              "  <tbody>\n",
              "    <tr>\n",
              "      <th>Ramersdorf-Perlach</th>\n",
              "      <td>63.989691</td>\n",
              "      <td>97</td>\n",
              "      <td>37.175258</td>\n",
              "    </tr>\n",
              "    <tr>\n",
              "      <th>Moosach</th>\n",
              "      <td>67.135135</td>\n",
              "      <td>37</td>\n",
              "      <td>3.837838</td>\n",
              "    </tr>\n",
              "    <tr>\n",
              "      <th>Obergiesing</th>\n",
              "      <td>67.480000</td>\n",
              "      <td>25</td>\n",
              "      <td>25.240000</td>\n",
              "    </tr>\n",
              "  </tbody>\n",
              "</table>\n",
              "</div>"
            ],
            "text/plain": [
              "                        price  number    reviews\n",
              "neighbourhood                                   \n",
              "Ramersdorf-Perlach  63.989691      97  37.175258\n",
              "Moosach             67.135135      37   3.837838\n",
              "Obergiesing         67.480000      25  25.240000"
            ]
          },
          "metadata": {
            "tags": []
          },
          "execution_count": 76
        }
      ]
    },
    {
      "cell_type": "code",
      "metadata": {
        "id": "AuzPASiFpfeV",
        "colab_type": "code",
        "colab": {
          "base_uri": "https://localhost:8080/",
          "height": 204
        },
        "outputId": "0364577b-4c8e-4114-a8ea-b72f79feeac7"
      },
      "source": [
        "# indicar qual tipo de imóveis mais comum para os proprietários que tem mais de 2 imóveis.\n",
        "df_mais_room = df_mais[['room_type', 'price', 'minimum_nights']].groupby('room_type').mean()\n",
        "df_mais_room['number'] = df_mais.room_type.value_counts()\n",
        "df_mais_room.sort_values(by='minimum_nights', ascending=False)"
      ],
      "execution_count": null,
      "outputs": [
        {
          "output_type": "execute_result",
          "data": {
            "text/html": [
              "<div>\n",
              "<style scoped>\n",
              "    .dataframe tbody tr th:only-of-type {\n",
              "        vertical-align: middle;\n",
              "    }\n",
              "\n",
              "    .dataframe tbody tr th {\n",
              "        vertical-align: top;\n",
              "    }\n",
              "\n",
              "    .dataframe thead th {\n",
              "        text-align: right;\n",
              "    }\n",
              "</style>\n",
              "<table border=\"1\" class=\"dataframe\">\n",
              "  <thead>\n",
              "    <tr style=\"text-align: right;\">\n",
              "      <th></th>\n",
              "      <th>price</th>\n",
              "      <th>minimum_nights</th>\n",
              "      <th>number</th>\n",
              "    </tr>\n",
              "    <tr>\n",
              "      <th>room_type</th>\n",
              "      <th></th>\n",
              "      <th></th>\n",
              "      <th></th>\n",
              "    </tr>\n",
              "  </thead>\n",
              "  <tbody>\n",
              "    <tr>\n",
              "      <th>Entire home/apt</th>\n",
              "      <td>95.666004</td>\n",
              "      <td>7.652087</td>\n",
              "      <td>503</td>\n",
              "    </tr>\n",
              "    <tr>\n",
              "      <th>Hotel room</th>\n",
              "      <td>107.867925</td>\n",
              "      <td>4.679245</td>\n",
              "      <td>53</td>\n",
              "    </tr>\n",
              "    <tr>\n",
              "      <th>Private room</th>\n",
              "      <td>77.944444</td>\n",
              "      <td>2.442308</td>\n",
              "      <td>468</td>\n",
              "    </tr>\n",
              "    <tr>\n",
              "      <th>Shared room</th>\n",
              "      <td>53.900000</td>\n",
              "      <td>1.400000</td>\n",
              "      <td>30</td>\n",
              "    </tr>\n",
              "  </tbody>\n",
              "</table>\n",
              "</div>"
            ],
            "text/plain": [
              "                      price  minimum_nights  number\n",
              "room_type                                          \n",
              "Entire home/apt   95.666004        7.652087     503\n",
              "Hotel room       107.867925        4.679245      53\n",
              "Private room      77.944444        2.442308     468\n",
              "Shared room       53.900000        1.400000      30"
            ]
          },
          "metadata": {
            "tags": []
          },
          "execution_count": 77
        }
      ]
    },
    {
      "cell_type": "code",
      "metadata": {
        "id": "oLdxQPtkUv_l",
        "colab_type": "code",
        "colab": {
          "base_uri": "https://localhost:8080/",
          "height": 51
        },
        "outputId": "048f95f9-35ed-494b-9de8-aff1d0139079"
      },
      "source": [
        "print('O número médio de noites é {:.2f}'.format(df_mais['minimum_nights'].mean()))\n",
        "print(\"O preço médio do grupo com mais de 2 imóveis é $:{:.2f}\".format(df_maior['price'].mean()))"
      ],
      "execution_count": null,
      "outputs": [
        {
          "output_type": "stream",
          "text": [
            "O número médio de noites é 5.01\n",
            "O preço médio do grupo com mais de 2 imóveis é $:86.97\n"
          ],
          "name": "stdout"
        }
      ]
    },
    {
      "cell_type": "markdown",
      "metadata": {
        "id": "gzxqkdP34RZV",
        "colab_type": "text"
      },
      "source": [
        "**Propriétários com 1 ou 2 imóveis (a média de preço é $85,03):**\n",
        "* *Menor média de preços:* Hadern, Feldmoching-Hasenbergl, Hadern;\n",
        "* *Maior média de preços:* Altstadt-Lehel, Ludwigsvorstadt-Isavorstadt, Schwanthalerhöhe;\n",
        "* *Maior número:* Ludwigsvorstadt-Isarvorstadt, Maxvorstadt, Schwabing-West;\n",
        "* *Maior média de reviews:* Feldmoching-Hasenbergl, Tudering-Riem, Schwabing-Freimann;\n",
        ">* *Tipo de imóvel (maior número):* Entire home/apt, Private room, Shared room;\n",
        ">* *Menor média de preço entre os tipos de imóveis:* Shared room, Private room, Entire home/apt;\n",
        ">* *Maior média de preço entre os tipos de imóveis:* Hotel room (apenas 7 amostras),  Entire home/apt, Private room.\n",
        ">* *Número médio de noites:* Aproximadamente 3.\n",
        "\n",
        "\n",
        "**Proprietários com mais de 2 imóveis (a média de preço é $86,97):**\n",
        "* *Menor média de preços:* Obergiesing, Moosach, Aubing-Lochhausen-Langwied;\n",
        "* *Maior média de preços:* Altstadt-Lehel, Untergiesing-Harlaching, Allach-Untermenzing;\n",
        "* *Maior número:* Ludwigsvorstadt-Isarvorstadt, Ramersdorf-Perlach, Maxvorstadt;\n",
        "* *Maior média de reviews:* Maxvorstadt, Schwabing-Freimann, Bogenhausen;\n",
        ">* *Tipo de de imóvel (maior número):* Entire home/apt, Private room, Hotel room;\n",
        ">* *Maior média de preços entre os tipos de imóveis:* Hotel room, Entire home/apt, Private room;\n",
        ">* *Menor média de preços entre os tipos de imóveis:* Shared room, Private room, Entire home/apt.\n",
        ">* *Número médio de noites:* Aproximadamente 5.\n",
        "\n"
      ]
    },
    {
      "cell_type": "markdown",
      "metadata": {
        "id": "7LyFCan9r0fi",
        "colab_type": "text"
      },
      "source": [
        "###**Q9. Qual a influência do número de reviews nos alugueis dos imóveis**\n",
        "\n"
      ]
    },
    {
      "cell_type": "code",
      "metadata": {
        "id": "6XTm-wmmmJsF",
        "colab_type": "code",
        "colab": {
          "base_uri": "https://localhost:8080/",
          "height": 170
        },
        "outputId": "a324093e-08f1-4201-c585-0256385ea34b"
      },
      "source": [
        "# Analisar a distribuição do dateset\n",
        "df_clean.number_of_reviews.describe()"
      ],
      "execution_count": null,
      "outputs": [
        {
          "output_type": "execute_result",
          "data": {
            "text/plain": [
              "count    10062.00000\n",
              "mean        16.36772\n",
              "std         42.23455\n",
              "min          0.00000\n",
              "25%          1.00000\n",
              "50%          3.00000\n",
              "75%         13.00000\n",
              "max        688.00000\n",
              "Name: number_of_reviews, dtype: float64"
            ]
          },
          "metadata": {
            "tags": []
          },
          "execution_count": 79
        }
      ]
    },
    {
      "cell_type": "markdown",
      "metadata": {
        "id": "8kYLzeFysYdl",
        "colab_type": "text"
      },
      "source": [
        "Neste momento o dataset será dividido em dois subgrupos: Os imóveis que têm até 3 reviews e aqueles que tem mais de 3 reviews."
      ]
    },
    {
      "cell_type": "code",
      "metadata": {
        "id": "eLArHwBusy0t",
        "colab_type": "code",
        "colab": {
          "base_uri": "https://localhost:8080/",
          "height": 173
        },
        "outputId": "85cebe25-92d6-4e10-95ed-6fd1aabd9223"
      },
      "source": [
        "# Imóveis que têm até 3 reviews\n",
        "df_menos3 = df_clean.loc[df_clean['number_of_reviews']<=3]\n",
        "df_menos3[['neighbourhood', 'price',]].groupby(\n",
        "    'neighbourhood').mean().sort_values(by='price', ascending=False)[:3]"
      ],
      "execution_count": null,
      "outputs": [
        {
          "output_type": "execute_result",
          "data": {
            "text/html": [
              "<div>\n",
              "<style scoped>\n",
              "    .dataframe tbody tr th:only-of-type {\n",
              "        vertical-align: middle;\n",
              "    }\n",
              "\n",
              "    .dataframe tbody tr th {\n",
              "        vertical-align: top;\n",
              "    }\n",
              "\n",
              "    .dataframe thead th {\n",
              "        text-align: right;\n",
              "    }\n",
              "</style>\n",
              "<table border=\"1\" class=\"dataframe\">\n",
              "  <thead>\n",
              "    <tr style=\"text-align: right;\">\n",
              "      <th></th>\n",
              "      <th>price</th>\n",
              "    </tr>\n",
              "    <tr>\n",
              "      <th>neighbourhood</th>\n",
              "      <th></th>\n",
              "    </tr>\n",
              "  </thead>\n",
              "  <tbody>\n",
              "    <tr>\n",
              "      <th>Altstadt-Lehel</th>\n",
              "      <td>111.739726</td>\n",
              "    </tr>\n",
              "    <tr>\n",
              "      <th>Ludwigsvorstadt-Isarvorstadt</th>\n",
              "      <td>107.592079</td>\n",
              "    </tr>\n",
              "    <tr>\n",
              "      <th>Schwanthalerhöhe</th>\n",
              "      <td>105.125654</td>\n",
              "    </tr>\n",
              "  </tbody>\n",
              "</table>\n",
              "</div>"
            ],
            "text/plain": [
              "                                   price\n",
              "neighbourhood                           \n",
              "Altstadt-Lehel                111.739726\n",
              "Ludwigsvorstadt-Isarvorstadt  107.592079\n",
              "Schwanthalerhöhe              105.125654"
            ]
          },
          "metadata": {
            "tags": []
          },
          "execution_count": 101
        }
      ]
    },
    {
      "cell_type": "code",
      "metadata": {
        "id": "pgSZR6iY1ZAG",
        "colab_type": "code",
        "colab": {
          "base_uri": "https://localhost:8080/",
          "height": 102
        },
        "outputId": "70b5ea0f-09e3-4d73-800e-dc058f410503"
      },
      "source": [
        "# Tipos de imóveis mais comuns para o grupo com menor média de reviews\n",
        "df_menos3.room_type.value_counts()"
      ],
      "execution_count": null,
      "outputs": [
        {
          "output_type": "execute_result",
          "data": {
            "text/plain": [
              "Entire home/apt    2731\n",
              "Private room       2197\n",
              "Shared room          92\n",
              "Hotel room           35\n",
              "Name: room_type, dtype: int64"
            ]
          },
          "metadata": {
            "tags": []
          },
          "execution_count": 102
        }
      ]
    },
    {
      "cell_type": "code",
      "metadata": {
        "id": "_WJp558N3DDT",
        "colab_type": "code",
        "colab": {
          "base_uri": "https://localhost:8080/",
          "height": 34
        },
        "outputId": "3c8363db-035c-42bd-a18b-1371df9b2b4b"
      },
      "source": [
        "print(\"A média valores praticados para imóveis com até 3 reviews é R$:{:.2f}\".format(df_menos3.price.mean()))"
      ],
      "execution_count": null,
      "outputs": [
        {
          "output_type": "stream",
          "text": [
            "A média valores praticados para imóveis com até 3 reviews é R$:93.66\n"
          ],
          "name": "stdout"
        }
      ]
    },
    {
      "cell_type": "code",
      "metadata": {
        "id": "baQLvAt1wzBT",
        "colab_type": "code",
        "colab": {
          "base_uri": "https://localhost:8080/",
          "height": 173
        },
        "outputId": "618f3f0a-06c5-4c60-ddcc-d298bd0e7eec"
      },
      "source": [
        "# Imóveis com mais de 3 reviews\n",
        "df_mais3 = df_clean.loc[df_clean['number_of_reviews']>3]\n",
        "df_mais3[['neighbourhood', 'price']].groupby(\n",
        "    'neighbourhood').mean().sort_values(by='price', ascending=False)[:3]"
      ],
      "execution_count": null,
      "outputs": [
        {
          "output_type": "execute_result",
          "data": {
            "text/html": [
              "<div>\n",
              "<style scoped>\n",
              "    .dataframe tbody tr th:only-of-type {\n",
              "        vertical-align: middle;\n",
              "    }\n",
              "\n",
              "    .dataframe tbody tr th {\n",
              "        vertical-align: top;\n",
              "    }\n",
              "\n",
              "    .dataframe thead th {\n",
              "        text-align: right;\n",
              "    }\n",
              "</style>\n",
              "<table border=\"1\" class=\"dataframe\">\n",
              "  <thead>\n",
              "    <tr style=\"text-align: right;\">\n",
              "      <th></th>\n",
              "      <th>price</th>\n",
              "    </tr>\n",
              "    <tr>\n",
              "      <th>neighbourhood</th>\n",
              "      <th></th>\n",
              "    </tr>\n",
              "  </thead>\n",
              "  <tbody>\n",
              "    <tr>\n",
              "      <th>Altstadt-Lehel</th>\n",
              "      <td>110.712707</td>\n",
              "    </tr>\n",
              "    <tr>\n",
              "      <th>Schwanthalerhöhe</th>\n",
              "      <td>93.648936</td>\n",
              "    </tr>\n",
              "    <tr>\n",
              "      <th>Ludwigsvorstadt-Isarvorstadt</th>\n",
              "      <td>92.200361</td>\n",
              "    </tr>\n",
              "  </tbody>\n",
              "</table>\n",
              "</div>"
            ],
            "text/plain": [
              "                                   price\n",
              "neighbourhood                           \n",
              "Altstadt-Lehel                110.712707\n",
              "Schwanthalerhöhe               93.648936\n",
              "Ludwigsvorstadt-Isarvorstadt   92.200361"
            ]
          },
          "metadata": {
            "tags": []
          },
          "execution_count": 109
        }
      ]
    },
    {
      "cell_type": "code",
      "metadata": {
        "id": "VOG8SneI0aiD",
        "colab_type": "code",
        "colab": {
          "base_uri": "https://localhost:8080/",
          "height": 102
        },
        "outputId": "19dffe98-f118-463e-b05c-0732e04eba0b"
      },
      "source": [
        "# Tipos de imóveis mais comuns para o grupo com maior média de reviews\n",
        "df_mais3.room_type.value_counts()"
      ],
      "execution_count": null,
      "outputs": [
        {
          "output_type": "execute_result",
          "data": {
            "text/plain": [
              "Entire home/apt    2711\n",
              "Private room       2190\n",
              "Shared room          83\n",
              "Hotel room           23\n",
              "Name: room_type, dtype: int64"
            ]
          },
          "metadata": {
            "tags": []
          },
          "execution_count": 110
        }
      ]
    },
    {
      "cell_type": "code",
      "metadata": {
        "id": "dmReM-Om3Jg9",
        "colab_type": "code",
        "colab": {
          "base_uri": "https://localhost:8080/",
          "height": 34
        },
        "outputId": "947760a9-0b14-4fc0-c670-b43af1a8e5d4"
      },
      "source": [
        "print(\"A média valores praticados para imóveis com mais de 3 reviews é R$:{:.2f}\".format(df_mais3.price.mean()))"
      ],
      "execution_count": null,
      "outputs": [
        {
          "output_type": "stream",
          "text": [
            "A média valores praticados para imóveis com mais de 3 reviews é R$:82.42\n"
          ],
          "name": "stdout"
        }
      ]
    },
    {
      "cell_type": "markdown",
      "metadata": {
        "id": "13d_gmh32XV-",
        "colab_type": "text"
      },
      "source": [
        "**Imóveis com até pelo menos 3 reviews de média (média de preço $93,66)**\n",
        "\n",
        "* *Maior média de preço:* Altstadt-Lehel, Ludwigsvorstadt-Isarvorstadt, Schwanthalerhöhe;\n",
        "* *Menor média de preço:* Milbertshofen-Am Hart, Hadern, Laim;\n",
        "* *Maior média de reviews:* Milbertshofen-Am Hart, Schwabing-Freimann, Sendling-Westpark;\n",
        "* *Tipos de imóveis mais frequentes:* Entire home/apt, Private room, Shared room\n",
        "\n",
        "**Imóveis com mais de 3 reviews de média (média de preço $82,42)**\n",
        "\n",
        "* *Maior média de preço:* Altstadt-Lehel, Schwanthalerhöhe, Ludwigsvorstadt-Isarvorstadt;\n",
        "* *Menor média de preço:* Hadern, Ramersdorf-Perlach, Moosach;\n",
        "* *Maior média de reviews:* Feldmoching-Hasenbergl, Maxvorstadt, Schwabing-Freimann;\n",
        "* *Tipos de imóveis mais frequentes:* Entire home/apt, Private room, Shared room"
      ]
    },
    {
      "cell_type": "markdown",
      "metadata": {
        "id": "MFa5NbnLJMcd",
        "colab_type": "text"
      },
      "source": [
        "### **Q10. Qual a localidade mais cara em Munique??**\n",
        "\n",
        "A localidade mais cara do dataset fica no bairro de \"Au-Haidhausen\", e a id do imóvel é 4087614 e preço de $240,0. Contudo, os bairros com maiores médias de preço são, respectivamente: Altstadt-Lehel, Schwanthalerhöhe e Ludwigsvorstadt-Isarvorstadt. "
      ]
    },
    {
      "cell_type": "code",
      "metadata": {
        "id": "_yhk7iRysl9F",
        "colab_type": "code",
        "colab": {
          "base_uri": "https://localhost:8080/",
          "height": 80
        },
        "outputId": "32777553-1e29-4a4b-915e-c440e969d995"
      },
      "source": [
        "#Localidade mais cara do dataset\n",
        "df_clean[['id', 'neighbourhood', 'room_type', 'price', 'latitude', 'longitude', 'place']].sort_values(by='price', ascending=False).head(1)"
      ],
      "execution_count": null,
      "outputs": [
        {
          "output_type": "execute_result",
          "data": {
            "text/html": [
              "<div>\n",
              "<style scoped>\n",
              "    .dataframe tbody tr th:only-of-type {\n",
              "        vertical-align: middle;\n",
              "    }\n",
              "\n",
              "    .dataframe tbody tr th {\n",
              "        vertical-align: top;\n",
              "    }\n",
              "\n",
              "    .dataframe thead th {\n",
              "        text-align: right;\n",
              "    }\n",
              "</style>\n",
              "<table border=\"1\" class=\"dataframe\">\n",
              "  <thead>\n",
              "    <tr style=\"text-align: right;\">\n",
              "      <th></th>\n",
              "      <th>id</th>\n",
              "      <th>neighbourhood</th>\n",
              "      <th>room_type</th>\n",
              "      <th>price</th>\n",
              "      <th>latitude</th>\n",
              "      <th>longitude</th>\n",
              "      <th>place</th>\n",
              "    </tr>\n",
              "  </thead>\n",
              "  <tbody>\n",
              "    <tr>\n",
              "      <th>933</th>\n",
              "      <td>4087614</td>\n",
              "      <td>Au-Haidhausen</td>\n",
              "      <td>Private room</td>\n",
              "      <td>240</td>\n",
              "      <td>48.12732</td>\n",
              "      <td>11.59469</td>\n",
              "      <td>d_t</td>\n",
              "    </tr>\n",
              "  </tbody>\n",
              "</table>\n",
              "</div>"
            ],
            "text/plain": [
              "          id  neighbourhood     room_type  price  latitude  longitude place\n",
              "933  4087614  Au-Haidhausen  Private room    240  48.12732   11.59469   d_t"
            ]
          },
          "metadata": {
            "tags": []
          },
          "execution_count": 114
        }
      ]
    },
    {
      "cell_type": "code",
      "metadata": {
        "id": "MD_xa143JZpi",
        "colab_type": "code",
        "colab": {
          "base_uri": "https://localhost:8080/",
          "height": 173
        },
        "outputId": "c8757c12-686b-4d15-8e44-7ac7f1d442ad"
      },
      "source": [
        "# ver preços por bairros, na média\n",
        "df_clean[['neighbourhood', 'price']].groupby(['neighbourhood']).mean().sort_values(by='price', ascending=False)[:3]"
      ],
      "execution_count": null,
      "outputs": [
        {
          "output_type": "execute_result",
          "data": {
            "text/html": [
              "<div>\n",
              "<style scoped>\n",
              "    .dataframe tbody tr th:only-of-type {\n",
              "        vertical-align: middle;\n",
              "    }\n",
              "\n",
              "    .dataframe tbody tr th {\n",
              "        vertical-align: top;\n",
              "    }\n",
              "\n",
              "    .dataframe thead th {\n",
              "        text-align: right;\n",
              "    }\n",
              "</style>\n",
              "<table border=\"1\" class=\"dataframe\">\n",
              "  <thead>\n",
              "    <tr style=\"text-align: right;\">\n",
              "      <th></th>\n",
              "      <th>price</th>\n",
              "    </tr>\n",
              "    <tr>\n",
              "      <th>neighbourhood</th>\n",
              "      <th></th>\n",
              "    </tr>\n",
              "  </thead>\n",
              "  <tbody>\n",
              "    <tr>\n",
              "      <th>Altstadt-Lehel</th>\n",
              "      <td>111.171254</td>\n",
              "    </tr>\n",
              "    <tr>\n",
              "      <th>Ludwigsvorstadt-Isarvorstadt</th>\n",
              "      <td>99.540132</td>\n",
              "    </tr>\n",
              "    <tr>\n",
              "      <th>Schwanthalerhöhe</th>\n",
              "      <td>99.432718</td>\n",
              "    </tr>\n",
              "  </tbody>\n",
              "</table>\n",
              "</div>"
            ],
            "text/plain": [
              "                                   price\n",
              "neighbourhood                           \n",
              "Altstadt-Lehel                111.171254\n",
              "Ludwigsvorstadt-Isarvorstadt   99.540132\n",
              "Schwanthalerhöhe               99.432718"
            ]
          },
          "metadata": {
            "tags": []
          },
          "execution_count": 115
        }
      ]
    },
    {
      "cell_type": "code",
      "metadata": {
        "id": "d9emTuWgP6pz",
        "colab_type": "code",
        "colab": {
          "base_uri": "https://localhost:8080/",
          "height": 459
        },
        "outputId": "1ba3d170-3b61-4b9d-c7d3-5f9392123c0c"
      },
      "source": [
        " #verificar número de locações por bairro\n",
        "df_clean['neighbourhood'].value_counts()"
      ],
      "execution_count": null,
      "outputs": [
        {
          "output_type": "execute_result",
          "data": {
            "text/plain": [
              "Ludwigsvorstadt-Isarvorstadt                              1059\n",
              "Maxvorstadt                                                983\n",
              "Schwabing-West                                             747\n",
              "Neuhausen-Nymphenburg                                      708\n",
              "Au-Haidhausen                                              648\n",
              "Schwabing-Freimann                                         560\n",
              "Bogenhausen                                                486\n",
              "Milbertshofen-Am Hart                                      437\n",
              "Sendling                                                   399\n",
              "Ramersdorf-Perlach                                         387\n",
              "Schwanthalerhöhe                                           379\n",
              "Thalkirchen-Obersendling-Forstenried-Fürstenried-Solln     366\n",
              "Laim                                                       358\n",
              "Obergiesing                                                347\n",
              "Sendling-Westpark                                          339\n",
              "Altstadt-Lehel                                             327\n",
              "Untergiesing-Harlaching                                    306\n",
              "Tudering-Riem                                              260\n",
              "Pasing-Obermenzing                                         204\n",
              "Moosach                                                    203\n",
              "Berg am Laim                                               188\n",
              "Hadern                                                     127\n",
              "Feldmoching-Hasenbergl                                      99\n",
              "Aubing-Lochhausen-Langwied                                  82\n",
              "Allach-Untermenzing                                         63\n",
              "Name: neighbourhood, dtype: int64"
            ]
          },
          "metadata": {
            "tags": []
          },
          "execution_count": 117
        }
      ]
    },
    {
      "cell_type": "code",
      "metadata": {
        "id": "UxVJqJ_3W59I",
        "colab_type": "code",
        "colab": {
          "base_uri": "https://localhost:8080/",
          "height": 469
        },
        "outputId": "39c9e25e-d66a-4ed5-c54a-b1705ee54cdf"
      },
      "source": [
        "# plotar os imóveis pela latitude-longitude\n",
        "df_clean.plot(kind=\"scatter\", x='longitude', y='latitude', alpha=0.4, c=df_clean['price'], s=8,\n",
        "              cmap=plt.get_cmap('jet'), figsize=(12,8));"
      ],
      "execution_count": null,
      "outputs": [
        {
          "output_type": "display_data",
          "data": {
            "image/png": "[encoded data removed]",
            "text/plain": [
              "<Figure size 864x576 with 2 Axes>"
            ]
          },
          "metadata": {
            "tags": [],
            "needs_background": "light"
          }
        }
      ]
    },
    {
      "cell_type": "markdown",
      "metadata": {
        "id": "vTneAMRUYvr1",
        "colab_type": "text"
      },
      "source": [
        "### **Q11. Qual é a média do mínimo de noites para aluguel (minimum_nights)?**"
      ]
    },
    {
      "cell_type": "code",
      "metadata": {
        "id": "_VzNhrEgY82N",
        "colab_type": "code",
        "colab": {
          "base_uri": "https://localhost:8080/",
          "height": 51
        },
        "outputId": "129df80f-ef82-4f2a-b951-5b6fa383e3b3"
      },
      "source": [
        "# ver a média da coluna `minimum_nights``\n",
        "nights = df_clean['minimum_nights'].mean()\n",
        "print('A média do mínimo de noites é {}'.format(int(nights)))\n",
        "print(\"(Considerando um valor máximo de $240,50)\")"
      ],
      "execution_count": null,
      "outputs": [
        {
          "output_type": "stream",
          "text": [
            "A média do mínimo de noites é 3\n",
            "(Considerando um valor máximo de $240,50)\n"
          ],
          "name": "stdout"
        }
      ]
    },
    {
      "cell_type": "markdown",
      "metadata": {
        "id": "GkvAg623RjoR",
        "colab_type": "text"
      },
      "source": [
        "### Conclusões\n"
      ]
    },
    {
      "cell_type": "markdown",
      "metadata": {
        "id": "rbZ3Hsy9Ypw8",
        "colab_type": "text"
      },
      "source": [
        "\n",
        "Após uma análise inicial do dataset pudemos verificar que a maior disponibilidade de imóveis e as maiores médias de preços praticados informados neste dataset estão nos bairros mais centrais da cidade.\n",
        "\n",
        "Uma análise dos preços praticados na cidade:\n",
        "* Apesar de uma cidade com elevada ação turística para o mês de outubro (Oktoberfest), a disponibilidadde de imóveis com preços até $129 (representam 75% de todos os imóveis disponíveis) é ampplamente distribido por toda a cidade (ver pontos roxos no gráfico de latitude longitude).\n",
        "* A maior quantidade de imóveis disponíveis está localizada no centro da cidade, especialmente no bairro de Ludwigsvorstadt-Isavorstadt;\n",
        "* Imóveis localizados em bairros mais periféricos têm, em média, menores valores.\n",
        "\n",
        "Para os bairros:\n",
        "* O bairro com maior número de imóveis dispoíveis é o Ludwigsvorstadt-Isarvorstadt (8,5% mais caro que 75% dos imóveis);\n",
        "* O bairro com maior média de preço é o Altstadt-Lehel (24% mais caro que 75% dos imóveis e que concentra majoritariamente a arquitetura germânica tradicional.\n",
        "\n",
        "Dentro da classificação do Airbnb para os tipos de imóveis:\n",
        "* Os quartos de hotel são os que têm a maior média de preço (86% mais caro que 75% dos imóveis) e concentram mais reviews. Entretanto, respondem pela menor parcela de possibilidades (menos de 1% de todos os registros);\n",
        "* A maior possibilidade de imóveis para alguel é do tipo casa/apartamento completo, que responde por 56% dos imóveis disponíveis e com média de preço de 1,6% maior quue 75% dos imóveis cadastrados.\n",
        "\n",
        "Sobre os proprietários dos imóveis:\n",
        "* A grande maioria dos proprietários possuem apenas um imóvel.\n",
        "* Idependente do número de imóveis do proprietário bairros mais afastados do centro tendem a ser mais baratos que os da região central, tendo \"Hadern\" e \"Ludwigsvorstadt-Isavorstadt\" como exemplos, respectivamente;\n",
        "* Exceto pelo bairro de Maxvorstadt (bairro localizado mais ao centro) os proprietários que têm seus imóveis localizados em bairros mais periféricos tendem a ter maior média de reviews.\n",
        "\n",
        "Influência do número de reviews:\n",
        "* Não foi possível identificar diferenças nos números de reviews na relação \"preços praticados\" x \"bairros\" x \"tipos de imóveis\";\n",
        "* imóveis com até 3 reviews seriam, em média, cerca de 25% mais caros que os imóveis com mais de 3 reviews.\n",
        "\n",
        "Por essa análise podemos concluir que os imóveis da cidade de Munique cadastrados no Airbnb podem ser encontrados ao longo de toda a cidade com maior concentração nos bairros centrais. As médias de preços alteram de bairro para bairro (principalmente para os que oferecem maiores atrações turísticas), mas sem muito esforço pode-se econtrar ótimos preços. Apesar de todo o fluxo de turistas que a Oktoberfest traz à cidade, aparentemente, existe grande possibilidade de hospedar-se no bairro que evento ocorre pagando um ótimo preço idependende se for um viajante sozinho ou em grupo."
      ]
    },
    {
      "cell_type": "code",
      "metadata": {
        "id": "O9jaygXvZs2f",
        "colab_type": "code",
        "colab": {
          "base_uri": "https://localhost:8080/",
          "height": 34
        },
        "outputId": "7638d0b9-825b-468e-a99e-6b304a3bff8f"
      },
      "source": [
        "# Simulação de uma viagem: 4 pessoas, uma semana, até $20/dia, mais próximo ao centro\n",
        "hospedagem = df_clean.loc[((((df_clean['room_type']=='Entire home/apt')\\\n",
        "                            & (df_clean['minimum_nights']<=7))\\\n",
        "                            & (df_clean['price']<=20))\\\n",
        "                           &(df_clean['place']=='d_t'))]\n",
        "hospedagem.shape"
      ],
      "execution_count": null,
      "outputs": [
        {
          "output_type": "execute_result",
          "data": {
            "text/plain": [
              "(4, 16)"
            ]
          },
          "metadata": {
            "tags": []
          },
          "execution_count": 140
        }
      ]
    },
    {
      "cell_type": "code",
      "metadata": {
        "id": "NRAKjh5THN_M",
        "colab_type": "code",
        "colab": {
          "base_uri": "https://localhost:8080/",
          "height": 173
        },
        "outputId": "59565491-bbcb-4f77-a02f-f30c30711bd1"
      },
      "source": [
        "# Retorno da minha pesqquisa\n",
        "hospedagem[['id', 'neighbourhood', 'price', 'number_of_reviews']].sort_values(by='price', ascending=False)"
      ],
      "execution_count": null,
      "outputs": [
        {
          "output_type": "execute_result",
          "data": {
            "text/html": [
              "<div>\n",
              "<style scoped>\n",
              "    .dataframe tbody tr th:only-of-type {\n",
              "        vertical-align: middle;\n",
              "    }\n",
              "\n",
              "    .dataframe tbody tr th {\n",
              "        vertical-align: top;\n",
              "    }\n",
              "\n",
              "    .dataframe thead th {\n",
              "        text-align: right;\n",
              "    }\n",
              "</style>\n",
              "<table border=\"1\" class=\"dataframe\">\n",
              "  <thead>\n",
              "    <tr style=\"text-align: right;\">\n",
              "      <th></th>\n",
              "      <th>id</th>\n",
              "      <th>neighbourhood</th>\n",
              "      <th>price</th>\n",
              "      <th>number_of_reviews</th>\n",
              "    </tr>\n",
              "  </thead>\n",
              "  <tbody>\n",
              "    <tr>\n",
              "      <th>5553</th>\n",
              "      <td>23114484</td>\n",
              "      <td>Maxvorstadt</td>\n",
              "      <td>20</td>\n",
              "      <td>0</td>\n",
              "    </tr>\n",
              "    <tr>\n",
              "      <th>2817</th>\n",
              "      <td>12043670</td>\n",
              "      <td>Sendling</td>\n",
              "      <td>19</td>\n",
              "      <td>16</td>\n",
              "    </tr>\n",
              "    <tr>\n",
              "      <th>8298</th>\n",
              "      <td>34992016</td>\n",
              "      <td>Au-Haidhausen</td>\n",
              "      <td>18</td>\n",
              "      <td>19</td>\n",
              "    </tr>\n",
              "    <tr>\n",
              "      <th>8348</th>\n",
              "      <td>35226303</td>\n",
              "      <td>Schwabing-West</td>\n",
              "      <td>11</td>\n",
              "      <td>3</td>\n",
              "    </tr>\n",
              "  </tbody>\n",
              "</table>\n",
              "</div>"
            ],
            "text/plain": [
              "            id   neighbourhood  price  number_of_reviews\n",
              "5553  23114484     Maxvorstadt     20                  0\n",
              "2817  12043670        Sendling     19                 16\n",
              "8298  34992016   Au-Haidhausen     18                 19\n",
              "8348  35226303  Schwabing-West     11                  3"
            ]
          },
          "metadata": {
            "tags": []
          },
          "execution_count": 146
        }
      ]
    }
  ]
}