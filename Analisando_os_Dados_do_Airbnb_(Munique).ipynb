{
  "nbformat": 4,
  "nbformat_minor": 0,
  "metadata": {
    "colab": {
      "name": "Analisando_os_Dados_do_Airbnb_(Munique).ipynb",
      "provenance": [],
      "collapsed_sections": [],
      "include_colab_link": true
    },
    "kernelspec": {
      "name": "python3",
      "display_name": "Python 3"
    }
  },
  "cells": [
    {
      "cell_type": "markdown",
      "metadata": {
        "id": "view-in-github",
        "colab_type": "text"
      },
      "source": [
        "<a href=\"https://colab.research.google.com/github/mateusgandra/data_science/blob/master/Analisando_os_Dados_do_Airbnb_(Munique).ipynb\" target=\"_parent\"><img src=\"https://colab.research.google.com/assets/colab-badge.svg\" alt=\"Open In Colab\"/></a>"
      ]
    },
    {
      "cell_type": "markdown",
      "metadata": {
        "id": "kLI0gJtzDGuQ",
        "colab_type": "text"
      },
      "source": [
        "\n",
        "<img alt=\"Colaboratory logo\" width=\"15%\" src=\"https://raw.githubusercontent.com/carlosfab/escola-data-science/master/img/novo_logo_bg_claro.png\">\n",
        "\n",
        "##### **Data Science na Prática 2.0**\n",
        "\n",
        "---\n",
        "\n",
        "# Análise dos Dados do Airbnb - *Munique*\n",
        "*por Mateus Gandra*\n",
        " \n",
        "O [Airbnb](https://www.airbnb.com.br/) é considerado atualmente a maior empresa hoteleira no mundo. Entretanto, seu modelo de negócio se diferencia dos demais por não possuir **nenhum** hotel.\n",
        "\n",
        "Fundada em 2008, a Startup conecta pessoas que querem viajar (e se hospedar) com anfitriões que querem alugar seus imóveis de maneira prática. O Airbnb tem fornecido uma plataforma inovadora para tornar o processo de hospedagem mais alternativa e que já foi utilizada por **mais de 300 milhões de pessoas** ao redor te todo o mundo.\n",
        "\n",
        "Uma das iniciativas do Airbnb é disponibilizar dados do site, para algumas das principais cidades do mundo. Por meio do portal [Inside Airbnb](http://insideairbnb.com/get-the-data.html), é possível baixar uma grande quantidade de dados para desenvolver projetos e soluções de *Data Science*.\n",
        "\n",
        "<img alt=\"Analisando Airbnb\" width=\"10%\" src=\"https://www.area360.com.au/wp-content/uploads/2017/09/airbnb-logo.jpg\">\n",
        "\n",
        "**Neste *notebook*, serão analisados os dados referentes à cidade Munique (Alemanha) para extrair insights a partir dos dados brutos.**"
      ]
    },
    {
      "cell_type": "markdown",
      "metadata": {
        "id": "Ui9yVByHLMN0",
        "colab_type": "text"
      },
      "source": [
        "<img alt=\"Landscape Munique\" width=\"100%\" src=\"https://github.com/mateusgandra/suporte/blob/master/Munique.png?raw=true\">\n",
        "\n",
        "###**Sobre a cidade de Munique**\n",
        "\n",
        "Munique (em alemão: München) é uma cidade da Alemanha, capital do estado alemão da Baviera, no sudeste do país. No ano de 2012, contava com cerca de 1,3 milhão de habitantes, enquanto a sua região metropolitana, que engloba diversas cidades vizinhas ou próximas, abriga mais de 2,6 milhões de pessoas. Munique é a cidade mais populosa da Baviera e do sul da Alemanha, e a terceira cidade mais populosa do país (depois da capital, Berlim, e de Hamburgo).\n",
        "\n",
        "A Munique moderna é um importante e desenvolvido centro financeiro, urbano, logístico, cultural e político da Alemanha e da Europa continental. É sede de diversas empresas de renome mundial, incluindo a montadora BMW. Entre 2011 e 2012, Munique foi posicionada na 4ª posição entre as \"Cidade Mais Habitáveis do Mundo\", segundo estudos da consultoria internacional Mercer. A partir de 2006, o lema da cidade passou a ser \"München mag dich\" (Munique ama você).\n",
        "\n",
        "Com a nova divisão das regiões da cidade em 1992, o número de bairros de Munique diminuiu de 41 para 25. Abaixo encontra-se os bairros listados em ordem alfabética. De maneira geral, quanto mais alta a numeração indicada em um deles, mais novo é o bairro:\n",
        "\n",
        "\n",
        "![Bairros de Munique](https://github.com/mateusgandra/suporte/blob/master/Stadtbezirke.png?raw=true)\n",
        "\n",
        "\n",
        "É em Munique que se realiza anualmente a Oktoberfest, uma tradicional festa alemã. A Oktoberfest (também conhecida como \"Wiesn\" em Munique) é um festival de cerveja originado em Munique e foi criada pelo rei bávaro Luís I para celebrar o seu casamento em 1810. A festa, para a qual estavam convidados todos os moradores de Munique, aconteceu num parque batizado como Theresienwiese, em homenagem à noiva, no bairro de Ludwigsvorstadt-Isarvorstadt (centro da cidade). Ainda hoje, é neste mesmo parque que acontece a Oktoberfest de Munique. \n",
        "\n",
        "<img alt=\"Oktoberfest\" width=\"70%\" src=\"https://github.com/mateusgandra/suporte/blob/master/Oktoberfest.jpg?raw=true\">\n",
        "\n",
        "\n",
        "A Oktoberfest é também uma feira de produtos e diversões, sendo o evento um dos principais alicerces turísticos da Alemanha e disseminada por vários lugares do mundo. Anualmente, a Oktoberfest é frequentada por cerca de seis milhões de visitantes de todo o mundo e se inicia desde 1872 sempre no sábado depois do 15 de Setembro as 12.00 horas com a tradicional cerimonia de abertura \"O'zapft is\". Termina duas semanas mais tarde, no primeiro domingo de outubro - daí o nome Oktoberfest (em alemão, \"Oktober\" significa outubro, \"Fest\", festa ou festival, literalmente \"Festa de Outubro\").\n",
        "\n",
        "\n",
        "---\n",
        "Fonte:\n",
        "* [Wikpedia](https://pt.wikipedia.org/wiki/Munique)"
      ]
    },
    {
      "cell_type": "markdown",
      "metadata": {
        "id": "0zxQHhIUDF_2",
        "colab_type": "text"
      },
      "source": [
        "## Obtenção dos Dados\n"
      ]
    },
    {
      "cell_type": "code",
      "metadata": {
        "id": "Vhp2wMPgJ6zX",
        "colab_type": "code",
        "colab": {}
      },
      "source": [
        "# importar os pacotes necessarios\n",
        "import pandas as pd  \n",
        "import numpy as np\n",
        "import matplotlib.pyplot as plt\n",
        "import seaborn as sns\n",
        "\n",
        "%matplotlib inline"
      ],
      "execution_count": null,
      "outputs": []
    },
    {
      "cell_type": "code",
      "metadata": {
        "id": "zA-M0WaUC3yv",
        "colab_type": "code",
        "colab": {
          "base_uri": "https://localhost:8080/",
          "height": 122
        },
        "outputId": "113643bd-3677-4028-d5f7-65e04dbf67f3"
      },
      "source": [
        "from google.colab import drive\n",
        "drive.mount('/content/drive')"
      ],
      "execution_count": null,
      "outputs": [
        {
          "output_type": "stream",
          "text": [
            "Go to this URL in a browser: https://accounts.google.com/o/oauth2/auth?client_id=947318989803-6bn6qk8qdgf4n4g3pfee6491hc0brc4i.apps.googleusercontent.com&redirect_uri=urn%3aietf%3awg%3aoauth%3a2.0%3aoob&response_type=code&scope=email%20https%3a%2f%2fwww.googleapis.com%2fauth%2fdocs.test%20https%3a%2f%2fwww.googleapis.com%2fauth%2fdrive%20https%3a%2f%2fwww.googleapis.com%2fauth%2fdrive.photos.readonly%20https%3a%2f%2fwww.googleapis.com%2fauth%2fpeopleapi.readonly\n",
            "\n",
            "Enter your authorization code:\n",
            "··········\n",
            "Mounted at /content/drive\n"
          ],
          "name": "stdout"
        }
      ]
    },
    {
      "cell_type": "code",
      "metadata": {
        "id": "tUmoAT8DLQ5T",
        "colab_type": "code",
        "colab": {}
      },
      "source": [
        "# importar o arquivo listings.csv para um DataFrame\n",
        "data = pd.read_csv('http://data.insideairbnb.com/germany/bv/munich/2020-04-25/visualisations/listings.csv')\n",
        "df = data.copy(deep=True)"
      ],
      "execution_count": null,
      "outputs": []
    },
    {
      "cell_type": "markdown",
      "metadata": {
        "id": "RYgvuebKNg8-",
        "colab_type": "text"
      },
      "source": [
        "## Análise dos Dados\n",
        "**Dicionário das variáveis:**\n",
        "\n",
        "* **id -** Número gerado para identificar o imóvel (identidade);\n",
        "* **name -** Nome da propriedade anunciada ;\n",
        "* **host-id -** Número gerado para identificar o proprietário do imóvel;\n",
        "* **host_name -** Nome do responsável legal do imóvel;\n",
        "* **neighbourhood_group -** Distrito da cidade;\n",
        "* **neighbourhood -** Nome do bairro ou logradouro onde o imóvel está localizado;\n",
        "* **latitude -** coordenada de latitude do imóvel;\n",
        "* **longitude -** coordenada de longitude do imóvel;\n",
        "* **room_type -** Tipo de acomodação disponível no imóvel (ex.: quarto privativo, estabelecimento completo);\n",
        "* **price -** Preço orçado para o aluguel;\n",
        "* **minimum_nights -** Número mínimo de noites para aluguel do estabeleciimento;\n",
        "* **number_of_reviews -** Número de reviews feitos a respeito do imóvel ou trâmites para o aluguel;\n",
        "* **last_review -** Último reviews realizado sobre o imóvel;\n",
        "* **reviews_per_month -** Número de reviews por mês;\n",
        "* **calculated_host_listings_count -** Número de imóveis de um mesmo anfitrião;\n",
        "* **availability_365 -** Número de dias disponíveis em um prazo de 365 dias.\n",
        "\n",
        "\n",
        "Antes de iniciar qualquer análise, vamos verificar a cara do nosso *dataset*, analisando as 5 primeiras entradas.\n",
        "\n",
        "*A data informada no banco de dados durante a realização dessas análises é 25/04/2020.*"
      ]
    },
    {
      "cell_type": "code",
      "metadata": {
        "id": "elKuxok8Ehal",
        "colab_type": "code",
        "colab": {
          "base_uri": "https://localhost:8080/",
          "height": 102
        },
        "outputId": "3160cd3d-b049-46e4-ba1e-31920bef499d"
      },
      "source": [
        "# mostrar todas as variáveis\n",
        "df.columns.values"
      ],
      "execution_count": null,
      "outputs": [
        {
          "output_type": "execute_result",
          "data": {
            "text/plain": [
              "array(['id', 'name', 'host_id', 'host_name', 'neighbourhood_group',\n",
              "       'neighbourhood', 'latitude', 'longitude', 'room_type', 'price',\n",
              "       'minimum_nights', 'number_of_reviews', 'last_review',\n",
              "       'reviews_per_month', 'calculated_host_listings_count',\n",
              "       'availability_365'], dtype=object)"
            ]
          },
          "metadata": {
            "tags": []
          },
          "execution_count": 5
        }
      ]
    },
    {
      "cell_type": "code",
      "metadata": {
        "id": "2iS_dae7YQtO",
        "colab_type": "code",
        "colab": {
          "base_uri": "https://localhost:8080/",
          "height": 445
        },
        "outputId": "b6b4fff8-9435-4339-cb8e-44d6f17256dc"
      },
      "source": [
        "# mostrar as 5 primeiras entradas\n",
        "df.head(5)"
      ],
      "execution_count": null,
      "outputs": [
        {
          "output_type": "execute_result",
          "data": {
            "text/html": [
              "<div>\n",
              "<style scoped>\n",
              "    .dataframe tbody tr th:only-of-type {\n",
              "        vertical-align: middle;\n",
              "    }\n",
              "\n",
              "    .dataframe tbody tr th {\n",
              "        vertical-align: top;\n",
              "    }\n",
              "\n",
              "    .dataframe thead th {\n",
              "        text-align: right;\n",
              "    }\n",
              "</style>\n",
              "<table border=\"1\" class=\"dataframe\">\n",
              "  <thead>\n",
              "    <tr style=\"text-align: right;\">\n",
              "      <th></th>\n",
              "      <th>id</th>\n",
              "      <th>name</th>\n",
              "      <th>host_id</th>\n",
              "      <th>host_name</th>\n",
              "      <th>neighbourhood_group</th>\n",
              "      <th>neighbourhood</th>\n",
              "      <th>latitude</th>\n",
              "      <th>longitude</th>\n",
              "      <th>room_type</th>\n",
              "      <th>price</th>\n",
              "      <th>minimum_nights</th>\n",
              "      <th>number_of_reviews</th>\n",
              "      <th>last_review</th>\n",
              "      <th>reviews_per_month</th>\n",
              "      <th>calculated_host_listings_count</th>\n",
              "      <th>availability_365</th>\n",
              "    </tr>\n",
              "  </thead>\n",
              "  <tbody>\n",
              "    <tr>\n",
              "      <th>0</th>\n",
              "      <td>36720</td>\n",
              "      <td>Beautiful 2 rooms flat, Glockenbach</td>\n",
              "      <td>158413</td>\n",
              "      <td>Gabriela</td>\n",
              "      <td>NaN</td>\n",
              "      <td>Ludwigsvorstadt-Isarvorstadt</td>\n",
              "      <td>48.13057</td>\n",
              "      <td>11.56929</td>\n",
              "      <td>Entire home/apt</td>\n",
              "      <td>95</td>\n",
              "      <td>2</td>\n",
              "      <td>25</td>\n",
              "      <td>2017-07-22</td>\n",
              "      <td>0.34</td>\n",
              "      <td>1</td>\n",
              "      <td>0</td>\n",
              "    </tr>\n",
              "    <tr>\n",
              "      <th>1</th>\n",
              "      <td>49309</td>\n",
              "      <td>Sublet - Apartment with Balcony in Downtown (1)</td>\n",
              "      <td>224802</td>\n",
              "      <td>Damien</td>\n",
              "      <td>NaN</td>\n",
              "      <td>Ludwigsvorstadt-Isarvorstadt</td>\n",
              "      <td>48.12456</td>\n",
              "      <td>11.55567</td>\n",
              "      <td>Private room</td>\n",
              "      <td>40</td>\n",
              "      <td>14</td>\n",
              "      <td>40</td>\n",
              "      <td>2017-10-15</td>\n",
              "      <td>0.34</td>\n",
              "      <td>1</td>\n",
              "      <td>364</td>\n",
              "    </tr>\n",
              "    <tr>\n",
              "      <th>2</th>\n",
              "      <td>97945</td>\n",
              "      <td>Deluxw-Apartm. with roof terrace</td>\n",
              "      <td>517685</td>\n",
              "      <td>Angelika</td>\n",
              "      <td>NaN</td>\n",
              "      <td>Hadern</td>\n",
              "      <td>48.11476</td>\n",
              "      <td>11.48782</td>\n",
              "      <td>Entire home/apt</td>\n",
              "      <td>80</td>\n",
              "      <td>2</td>\n",
              "      <td>131</td>\n",
              "      <td>2019-10-03</td>\n",
              "      <td>1.26</td>\n",
              "      <td>2</td>\n",
              "      <td>229</td>\n",
              "    </tr>\n",
              "    <tr>\n",
              "      <th>3</th>\n",
              "      <td>114695</td>\n",
              "      <td>Apartment Munich/East with sundeck</td>\n",
              "      <td>581737</td>\n",
              "      <td>Stephan</td>\n",
              "      <td>NaN</td>\n",
              "      <td>Berg am Laim</td>\n",
              "      <td>48.11923</td>\n",
              "      <td>11.63726</td>\n",
              "      <td>Entire home/apt</td>\n",
              "      <td>95</td>\n",
              "      <td>1</td>\n",
              "      <td>53</td>\n",
              "      <td>2019-10-06</td>\n",
              "      <td>0.49</td>\n",
              "      <td>2</td>\n",
              "      <td>142</td>\n",
              "    </tr>\n",
              "    <tr>\n",
              "      <th>4</th>\n",
              "      <td>127383</td>\n",
              "      <td>City apartment next to Pinakothek</td>\n",
              "      <td>630556</td>\n",
              "      <td>Sonja</td>\n",
              "      <td>NaN</td>\n",
              "      <td>Maxvorstadt</td>\n",
              "      <td>48.15198</td>\n",
              "      <td>11.56486</td>\n",
              "      <td>Entire home/apt</td>\n",
              "      <td>120</td>\n",
              "      <td>2</td>\n",
              "      <td>84</td>\n",
              "      <td>2020-03-01</td>\n",
              "      <td>0.78</td>\n",
              "      <td>2</td>\n",
              "      <td>0</td>\n",
              "    </tr>\n",
              "  </tbody>\n",
              "</table>\n",
              "</div>"
            ],
            "text/plain": [
              "       id  ... availability_365\n",
              "0   36720  ...                0\n",
              "1   49309  ...              364\n",
              "2   97945  ...              229\n",
              "3  114695  ...              142\n",
              "4  127383  ...                0\n",
              "\n",
              "[5 rows x 16 columns]"
            ]
          },
          "metadata": {
            "tags": []
          },
          "execution_count": 6
        }
      ]
    },
    {
      "cell_type": "markdown",
      "metadata": {
        "id": "6-B_qtEaYEd-",
        "colab_type": "text"
      },
      "source": [
        "### **Q1. Quantos atributos (variáveis) e quantas entradas o nosso conjunto de dados possui? Quais os tipos das variáveis?**\n",
        "\n",
        "O dataset que será explorado nesse projeto é a versão resumida do arquivo disponível para essa cidade. Para uma análise mais detalhada é possível usar uma versão mais completada, disponibilizada nesse [link](https://colab.research.google.com/drive/125nhJYvOyY5K0Ws-kVZP1zvdj3wAJGCp#scrollTo=6-B_qtEaYEd-&line=3&uniqifier=1).\n"
      ]
    },
    {
      "cell_type": "code",
      "metadata": {
        "id": "TFRK0tniLV-G",
        "colab_type": "code",
        "colab": {
          "base_uri": "https://localhost:8080/",
          "height": 357
        },
        "outputId": "44756901-58cd-4167-daa9-50c18d9135a4"
      },
      "source": [
        "# identificar o volume de dados do DataFrame\n",
        "print('Entradas =\\t {}'.format(df.shape[0]))\n",
        "print('Variáveis =\\t {}\\n'.format(df.shape[1]))\n",
        "# verificar as 5 primeiras entradas do dataset\n",
        "display(df.dtypes)"
      ],
      "execution_count": null,
      "outputs": [
        {
          "output_type": "stream",
          "text": [
            "Entradas =\t 11131\n",
            "Variáveis =\t 16\n",
            "\n"
          ],
          "name": "stdout"
        },
        {
          "output_type": "display_data",
          "data": {
            "text/plain": [
              "id                                  int64\n",
              "name                               object\n",
              "host_id                             int64\n",
              "host_name                          object\n",
              "neighbourhood_group               float64\n",
              "neighbourhood                      object\n",
              "latitude                          float64\n",
              "longitude                         float64\n",
              "room_type                          object\n",
              "price                               int64\n",
              "minimum_nights                      int64\n",
              "number_of_reviews                   int64\n",
              "last_review                        object\n",
              "reviews_per_month                 float64\n",
              "calculated_host_listings_count      int64\n",
              "availability_365                    int64\n",
              "dtype: object"
            ]
          },
          "metadata": {
            "tags": []
          }
        }
      ]
    },
    {
      "cell_type": "markdown",
      "metadata": {
        "id": "bvknezhennxC",
        "colab_type": "text"
      },
      "source": [
        "O conjunto de dados possui 16 variáveis, apresentadas no forma de colunas, e 11.131 entradas, dispostadas na forma de linhas.\n"
      ]
    },
    {
      "cell_type": "markdown",
      "metadata": {
        "id": "yz1urSUGW9iE",
        "colab_type": "text"
      },
      "source": [
        "### **Q2. Qual a porcentagem de valores ausentes no *dataset*?**\n",
        "Uma métrica muito importate para determinar a qualidade de um dataset é a porcentagem de valores nulos. É importante entender logo no início se esses valores nulos são significativos comparados ao total de entradas."
      ]
    },
    {
      "cell_type": "code",
      "metadata": {
        "id": "plk2FjbCXOqP",
        "colab_type": "code",
        "colab": {
          "base_uri": "https://localhost:8080/",
          "height": 306
        },
        "outputId": "9d4c5cb6-6a70-4afc-be30-403321659281"
      },
      "source": [
        "# ordenar em ordem decrescente as variáveis por seus valores ausentes\n",
        "((df.isnull().sum() / df.shape[0])*100).sort_values(ascending=False)"
      ],
      "execution_count": null,
      "outputs": [
        {
          "output_type": "execute_result",
          "data": {
            "text/plain": [
              "neighbourhood_group               100.000000\n",
              "reviews_per_month                  23.762465\n",
              "last_review                        23.762465\n",
              "name                                0.179678\n",
              "host_name                           0.053904\n",
              "availability_365                    0.000000\n",
              "calculated_host_listings_count      0.000000\n",
              "number_of_reviews                   0.000000\n",
              "minimum_nights                      0.000000\n",
              "price                               0.000000\n",
              "room_type                           0.000000\n",
              "longitude                           0.000000\n",
              "latitude                            0.000000\n",
              "neighbourhood                       0.000000\n",
              "host_id                             0.000000\n",
              "id                                  0.000000\n",
              "dtype: float64"
            ]
          },
          "metadata": {
            "tags": []
          },
          "execution_count": 8
        }
      ]
    },
    {
      "cell_type": "markdown",
      "metadata": {
        "id": "igQDCBhBoLz1",
        "colab_type": "text"
      },
      "source": [
        "Neste dataset, é possível observar que dos 16 atributos apresentados, cerca de 31% das variáveis (5 variáveis) apresentam valores nulos e, destas 3 apresentam mais de 15% dos seus valores nessa classificação.\n",
        "\n",
        "* A variável \"neighbourhood_group) apresenta 100% dos seus dados como \"nulo\";\n",
        "* Ambas as variáveis \"reviews_per_month\" e \"last_review\" apresentam cerca de 23% de suas entradas como nulos;\n",
        "* Já as variáveis \"name\" e \"host_name\" possuem, respectivamentem, 0,17% e 0,05% de suas entradas como nulas."
      ]
    },
    {
      "cell_type": "markdown",
      "metadata": {
        "id": "iHXvvHIxaoNc",
        "colab_type": "text"
      },
      "source": [
        "### **Q3. Qual o tipo de distribuição das variáveis?** \n",
        "\n",
        "A avaliação da distribuição das variáveis será feita plotando histograma."
      ]
    },
    {
      "cell_type": "code",
      "metadata": {
        "id": "q2wWSfeRbmBo",
        "colab_type": "code",
        "colab": {
          "base_uri": "https://localhost:8080/",
          "height": 607
        },
        "outputId": "3bd867d5-788b-402d-8a59-092920618e06"
      },
      "source": [
        "# plotar o histograma das variáveis numéricas\n",
        "df.hist(bins=15, figsize=(15,10));"
      ],
      "execution_count": null,
      "outputs": [
        {
          "output_type": "display_data",
          "data": {
            "image/png": "[encoded data removed]",
            "text/plain": [
              "<Figure size 1080x720 with 12 Axes>"
            ]
          },
          "metadata": {
            "tags": [],
            "needs_background": "light"
          }
        }
      ]
    },
    {
      "cell_type": "markdown",
      "metadata": {
        "id": "KIQ2a68kPlXA",
        "colab_type": "text"
      },
      "source": [
        "### **Q4. É possível identificar outliers?**\n",
        "\n",
        "A presença de outliers (ou valores atípicos) são observações que apresentam grande afastamento dos demais valores da série ou são inconsistentes. Tipicamente, um dataset com outliers possui ruidos que prejudicam a interpretação dos resultados dos testes estatísticos aplicados às amostras.\n",
        "A análise dos histogramas, juntamente com a tabela com análise descritiva revela alguns pontos:\n",
        "*   Para a variável \"price\", 75% dos valores dos imóveis são de até 128 reais, (cerca de 10X menores que o valor máximo, 12000 reais);\n",
        "*   Para a variável \"minimum_nights\" o valor máximo apresentado, 1000 noites, ultrapassa o período de 30 dias. É importante ressaltar que contratos de aluguéis registrados tendem a seguir a vigência mínima de 6 ou 12 meses."
      ]
    },
    {
      "cell_type": "code",
      "metadata": {
        "id": "D0m28KR_674i",
        "colab_type": "code",
        "colab": {
          "base_uri": "https://localhost:8080/",
          "height": 297
        },
        "outputId": "beac5ea9-5ded-4841-82d2-ac3490965f80"
      },
      "source": [
        "# Análise estatística descritiva das variáveis numéricas\n",
        "df[['price', 'minimum_nights', 'number_of_reviews',\n",
        "               'reviews_per_month', 'calculated_host_listings_count', 'latitude', 'longitude']].describe()\n"
      ],
      "execution_count": null,
      "outputs": [
        {
          "output_type": "execute_result",
          "data": {
            "text/html": [
              "<div>\n",
              "<style scoped>\n",
              "    .dataframe tbody tr th:only-of-type {\n",
              "        vertical-align: middle;\n",
              "    }\n",
              "\n",
              "    .dataframe tbody tr th {\n",
              "        vertical-align: top;\n",
              "    }\n",
              "\n",
              "    .dataframe thead th {\n",
              "        text-align: right;\n",
              "    }\n",
              "</style>\n",
              "<table border=\"1\" class=\"dataframe\">\n",
              "  <thead>\n",
              "    <tr style=\"text-align: right;\">\n",
              "      <th></th>\n",
              "      <th>price</th>\n",
              "      <th>minimum_nights</th>\n",
              "      <th>number_of_reviews</th>\n",
              "      <th>reviews_per_month</th>\n",
              "      <th>calculated_host_listings_count</th>\n",
              "      <th>latitude</th>\n",
              "      <th>longitude</th>\n",
              "    </tr>\n",
              "  </thead>\n",
              "  <tbody>\n",
              "    <tr>\n",
              "      <th>count</th>\n",
              "      <td>11131.000000</td>\n",
              "      <td>11131.000000</td>\n",
              "      <td>11131.000000</td>\n",
              "      <td>8486.000000</td>\n",
              "      <td>11131.000000</td>\n",
              "      <td>11131.000000</td>\n",
              "      <td>11131.000000</td>\n",
              "    </tr>\n",
              "    <tr>\n",
              "      <th>mean</th>\n",
              "      <td>116.398796</td>\n",
              "      <td>5.561136</td>\n",
              "      <td>15.522235</td>\n",
              "      <td>0.711913</td>\n",
              "      <td>1.874674</td>\n",
              "      <td>48.140349</td>\n",
              "      <td>11.564691</td>\n",
              "    </tr>\n",
              "    <tr>\n",
              "      <th>std</th>\n",
              "      <td>215.215258</td>\n",
              "      <td>25.361266</td>\n",
              "      <td>40.792679</td>\n",
              "      <td>1.161900</td>\n",
              "      <td>3.415468</td>\n",
              "      <td>0.024947</td>\n",
              "      <td>0.043791</td>\n",
              "    </tr>\n",
              "    <tr>\n",
              "      <th>min</th>\n",
              "      <td>8.000000</td>\n",
              "      <td>1.000000</td>\n",
              "      <td>0.000000</td>\n",
              "      <td>0.010000</td>\n",
              "      <td>1.000000</td>\n",
              "      <td>48.069290</td>\n",
              "      <td>11.378370</td>\n",
              "    </tr>\n",
              "    <tr>\n",
              "      <th>25%</th>\n",
              "      <td>53.000000</td>\n",
              "      <td>1.000000</td>\n",
              "      <td>1.000000</td>\n",
              "      <td>0.130000</td>\n",
              "      <td>1.000000</td>\n",
              "      <td>48.123910</td>\n",
              "      <td>11.540695</td>\n",
              "    </tr>\n",
              "    <tr>\n",
              "      <th>50%</th>\n",
              "      <td>80.000000</td>\n",
              "      <td>2.000000</td>\n",
              "      <td>3.000000</td>\n",
              "      <td>0.320000</td>\n",
              "      <td>1.000000</td>\n",
              "      <td>48.137820</td>\n",
              "      <td>11.565820</td>\n",
              "    </tr>\n",
              "    <tr>\n",
              "      <th>75%</th>\n",
              "      <td>128.000000</td>\n",
              "      <td>3.000000</td>\n",
              "      <td>12.000000</td>\n",
              "      <td>0.800000</td>\n",
              "      <td>1.000000</td>\n",
              "      <td>48.156575</td>\n",
              "      <td>11.584935</td>\n",
              "    </tr>\n",
              "    <tr>\n",
              "      <th>max</th>\n",
              "      <td>12000.000000</td>\n",
              "      <td>1000.000000</td>\n",
              "      <td>688.000000</td>\n",
              "      <td>25.000000</td>\n",
              "      <td>37.000000</td>\n",
              "      <td>48.222970</td>\n",
              "      <td>11.710870</td>\n",
              "    </tr>\n",
              "  </tbody>\n",
              "</table>\n",
              "</div>"
            ],
            "text/plain": [
              "              price  minimum_nights  ...      latitude     longitude\n",
              "count  11131.000000    11131.000000  ...  11131.000000  11131.000000\n",
              "mean     116.398796        5.561136  ...     48.140349     11.564691\n",
              "std      215.215258       25.361266  ...      0.024947      0.043791\n",
              "min        8.000000        1.000000  ...     48.069290     11.378370\n",
              "25%       53.000000        1.000000  ...     48.123910     11.540695\n",
              "50%       80.000000        2.000000  ...     48.137820     11.565820\n",
              "75%      128.000000        3.000000  ...     48.156575     11.584935\n",
              "max    12000.000000     1000.000000  ...     48.222970     11.710870\n",
              "\n",
              "[8 rows x 7 columns]"
            ]
          },
          "metadata": {
            "tags": []
          },
          "execution_count": 10
        }
      ]
    },
    {
      "cell_type": "code",
      "metadata": {
        "id": "8P-3ZRzyzs1q",
        "colab_type": "code",
        "colab": {
          "base_uri": "https://localhost:8080/",
          "height": 262
        },
        "outputId": "335361de-a457-4baa-cba5-5c9580bda36e"
      },
      "source": [
        "#Box-Plot para a variável \"price\"\n",
        "df.price.plot(kind='box', vert=False, figsize=(15,3), )\n",
        "plt.show()\n",
        "\n",
        "#Ver a quantidade de valores acima de $547 para \"price\" (mean + 2(std))\n",
        "print(\"price: valores acima de 1000\")\n",
        "print(\"{} entradas\".format(len(df[df.price > 547])))\n",
        "print(\"{:.2f}%\".format((len(df[df.price > 300]) / df.shape[0])*100))\n"
      ],
      "execution_count": null,
      "outputs": [
        {
          "output_type": "display_data",
          "data": {
            "image/png": "[encoded data removed]",
            "text/plain": [
              "<Figure size 1080x216 with 1 Axes>"
            ]
          },
          "metadata": {
            "tags": [],
            "needs_background": "light"
          }
        },
        {
          "output_type": "stream",
          "text": [
            "price: valores acima de 1000\n",
            "137 entradas\n",
            "3.88%\n"
          ],
          "name": "stdout"
        }
      ]
    },
    {
      "cell_type": "code",
      "metadata": {
        "id": "L37AuLgYzsor",
        "colab_type": "code",
        "colab": {
          "base_uri": "https://localhost:8080/",
          "height": 262
        },
        "outputId": "9230f321-fbb6-41c2-c731-030ad0558017"
      },
      "source": [
        "#Box-Plot para a variável \"minimum_nights\"\n",
        "df.minimum_nights.plot(kind='box', vert=False, figsize=(15,3))\n",
        "plt.show()\n",
        "\n",
        "#Ver a quantidade de valores acima de 30 dias\n",
        "print(\"minimum_nights: valores acima de 30 dias\")\n",
        "print(\"{} entradas\".format(len(df[df.minimum_nights > 30])))\n",
        "print(\"{:.2f}%\".format((len(df[df.minimum_nights > 30]) / df.shape[0])*100))"
      ],
      "execution_count": null,
      "outputs": [
        {
          "output_type": "display_data",
          "data": {
            "image/png": "[encoded data removed]",
            "text/plain": [
              "<Figure size 1080x216 with 1 Axes>"
            ]
          },
          "metadata": {
            "tags": [],
            "needs_background": "light"
          }
        },
        {
          "output_type": "stream",
          "text": [
            "minimum_nights: valores acima de 30 dias\n",
            "205 entradas\n",
            "1.84%\n"
          ],
          "name": "stdout"
        }
      ]
    },
    {
      "cell_type": "markdown",
      "metadata": {
        "id": "WKRjcN63I9fo",
        "colab_type": "text"
      },
      "source": [
        "Uma vez identificado outliers nas variáveis price e minimum_nights, estes serão removidos. Uma reanalize nos histogramas será feita."
      ]
    },
    {
      "cell_type": "code",
      "metadata": {
        "id": "5ZQXBfqtI5o6",
        "colab_type": "code",
        "colab": {
          "base_uri": "https://localhost:8080/",
          "height": 607
        },
        "outputId": "37fd9b72-7a99-4ca6-e28f-4fd5649200d3"
      },
      "source": [
        "#Remover os outliers em um novo dataframe\n",
        "df_clean = df.copy(deep=True)\n",
        "df_clean.drop(df_clean[df_clean.price > 547].index, axis=0, inplace=True)\n",
        "df_clean.drop(df_clean[df_clean.minimum_nights > 30].index, axis=0, inplace=True)\n",
        "\n",
        "#Remover 'neighbourhood_group', pois está vazio\n",
        "df_clean.drop('neighbourhood_group', axis=1, inplace=True)\n",
        "\n",
        "#Plotar o histograma para as variáveis numéricas\n",
        "df_clean.hist(bins=15, figsize=(15,10));"
      ],
      "execution_count": null,
      "outputs": [
        {
          "output_type": "display_data",
          "data": {
            "image/png": "[encoded data removed]",
            "text/plain": [
              "<Figure size 1080x720 with 12 Axes>"
            ]
          },
          "metadata": {
            "tags": [],
            "needs_background": "light"
          }
        }
      ]
    },
    {
      "cell_type": "markdown",
      "metadata": {
        "id": "7-u7CzVptPJE",
        "colab_type": "text"
      },
      "source": [
        "Para esse trabalho exploratório serão utilizadas apenas as variáveis \"price\", \"minimum_nights\", \"number_of_reviews\", \"reviews_per_month\", \"calculated_host_listings_count\", \"latitude\" e \"longitude\"."
      ]
    },
    {
      "cell_type": "code",
      "metadata": {
        "id": "mx3zEhn21-0Q",
        "colab_type": "code",
        "colab": {
          "base_uri": "https://localhost:8080/",
          "height": 297
        },
        "outputId": "44cde4cd-aa95-4593-fdaa-6b87f3bd00af"
      },
      "source": [
        "# Análise estatística descritiva das variáveis numéricas\n",
        "df_clean[['price', 'minimum_nights', 'number_of_reviews',\n",
        "               'reviews_per_month', 'calculated_host_listings_count', 'latitude', 'longitude']].describe()"
      ],
      "execution_count": null,
      "outputs": [
        {
          "output_type": "execute_result",
          "data": {
            "text/html": [
              "<div>\n",
              "<style scoped>\n",
              "    .dataframe tbody tr th:only-of-type {\n",
              "        vertical-align: middle;\n",
              "    }\n",
              "\n",
              "    .dataframe tbody tr th {\n",
              "        vertical-align: top;\n",
              "    }\n",
              "\n",
              "    .dataframe thead th {\n",
              "        text-align: right;\n",
              "    }\n",
              "</style>\n",
              "<table border=\"1\" class=\"dataframe\">\n",
              "  <thead>\n",
              "    <tr style=\"text-align: right;\">\n",
              "      <th></th>\n",
              "      <th>price</th>\n",
              "      <th>minimum_nights</th>\n",
              "      <th>number_of_reviews</th>\n",
              "      <th>reviews_per_month</th>\n",
              "      <th>calculated_host_listings_count</th>\n",
              "      <th>latitude</th>\n",
              "      <th>longitude</th>\n",
              "    </tr>\n",
              "  </thead>\n",
              "  <tbody>\n",
              "    <tr>\n",
              "      <th>count</th>\n",
              "      <td>10789.000000</td>\n",
              "      <td>10789.000000</td>\n",
              "      <td>10789.000000</td>\n",
              "      <td>8302.000000</td>\n",
              "      <td>10789.000000</td>\n",
              "      <td>10789.000000</td>\n",
              "      <td>10789.000000</td>\n",
              "    </tr>\n",
              "    <tr>\n",
              "      <th>mean</th>\n",
              "      <td>104.176476</td>\n",
              "      <td>3.243489</td>\n",
              "      <td>15.786542</td>\n",
              "      <td>0.718494</td>\n",
              "      <td>1.799981</td>\n",
              "      <td>48.140349</td>\n",
              "      <td>11.564763</td>\n",
              "    </tr>\n",
              "    <tr>\n",
              "      <th>std</th>\n",
              "      <td>78.013639</td>\n",
              "      <td>4.826575</td>\n",
              "      <td>41.233893</td>\n",
              "      <td>1.171082</td>\n",
              "      <td>3.100683</td>\n",
              "      <td>0.024974</td>\n",
              "      <td>0.043972</td>\n",
              "    </tr>\n",
              "    <tr>\n",
              "      <th>min</th>\n",
              "      <td>8.000000</td>\n",
              "      <td>1.000000</td>\n",
              "      <td>0.000000</td>\n",
              "      <td>0.010000</td>\n",
              "      <td>1.000000</td>\n",
              "      <td>48.069290</td>\n",
              "      <td>11.378370</td>\n",
              "    </tr>\n",
              "    <tr>\n",
              "      <th>25%</th>\n",
              "      <td>53.000000</td>\n",
              "      <td>1.000000</td>\n",
              "      <td>1.000000</td>\n",
              "      <td>0.130000</td>\n",
              "      <td>1.000000</td>\n",
              "      <td>48.123910</td>\n",
              "      <td>11.540800</td>\n",
              "    </tr>\n",
              "    <tr>\n",
              "      <th>50%</th>\n",
              "      <td>80.000000</td>\n",
              "      <td>2.000000</td>\n",
              "      <td>3.000000</td>\n",
              "      <td>0.320000</td>\n",
              "      <td>1.000000</td>\n",
              "      <td>48.137850</td>\n",
              "      <td>11.566000</td>\n",
              "    </tr>\n",
              "    <tr>\n",
              "      <th>75%</th>\n",
              "      <td>125.000000</td>\n",
              "      <td>3.000000</td>\n",
              "      <td>12.000000</td>\n",
              "      <td>0.810000</td>\n",
              "      <td>1.000000</td>\n",
              "      <td>48.156540</td>\n",
              "      <td>11.585150</td>\n",
              "    </tr>\n",
              "    <tr>\n",
              "      <th>max</th>\n",
              "      <td>540.000000</td>\n",
              "      <td>30.000000</td>\n",
              "      <td>688.000000</td>\n",
              "      <td>25.000000</td>\n",
              "      <td>37.000000</td>\n",
              "      <td>48.222970</td>\n",
              "      <td>11.710870</td>\n",
              "    </tr>\n",
              "  </tbody>\n",
              "</table>\n",
              "</div>"
            ],
            "text/plain": [
              "              price  minimum_nights  ...      latitude     longitude\n",
              "count  10789.000000    10789.000000  ...  10789.000000  10789.000000\n",
              "mean     104.176476        3.243489  ...     48.140349     11.564763\n",
              "std       78.013639        4.826575  ...      0.024974      0.043972\n",
              "min        8.000000        1.000000  ...     48.069290     11.378370\n",
              "25%       53.000000        1.000000  ...     48.123910     11.540800\n",
              "50%       80.000000        2.000000  ...     48.137850     11.566000\n",
              "75%      125.000000        3.000000  ...     48.156540     11.585150\n",
              "max      540.000000       30.000000  ...     48.222970     11.710870\n",
              "\n",
              "[8 rows x 7 columns]"
            ]
          },
          "metadata": {
            "tags": []
          },
          "execution_count": 14
        }
      ]
    },
    {
      "cell_type": "markdown",
      "metadata": {
        "id": "7x4aw1j5wNmn",
        "colab_type": "text"
      },
      "source": [
        "### **Q5. Qual a média dos preços de aluguel?**"
      ]
    },
    {
      "cell_type": "code",
      "metadata": {
        "id": "ff-8gUahLk-C",
        "colab_type": "code",
        "colab": {
          "base_uri": "https://localhost:8080/",
          "height": 34
        },
        "outputId": "f2dc381b-837e-4419-a9d9-4ee0402886fe"
      },
      "source": [
        "# ver a média da coluna \"price\"\n",
        "print(\"A média de valores praticados é $:{:.2f}\".format(df_clean['price'].mean()))"
      ],
      "execution_count": null,
      "outputs": [
        {
          "output_type": "stream",
          "text": [
            "A média de valores praticados é $:104.18\n"
          ],
          "name": "stdout"
        }
      ]
    },
    {
      "cell_type": "markdown",
      "metadata": {
        "id": "IXn2oIo5qx-w",
        "colab_type": "text"
      },
      "source": [
        "### **Q6. Qual a correlação existente entre as variáveis?**\n",
        "\n",
        "Nessa análise exploratória buscamos identificar se há alguma correlação existente entre duas variáveis.\n",
        "\n",
        "Essa relação pode ser medida, e é função do coeficiente de correlação estabelecer qual a intensidade dela. Para identificar as correlações existentes entre as variáveis de interesse, serão montadas:\n",
        "\n",
        "* Uma matriz de correlação\n",
        "* Um *heatmap* a partir dessa matriz, usando a biblioteca `seaborn`"
      ]
    },
    {
      "cell_type": "code",
      "metadata": {
        "id": "x2ayzBajqxyd",
        "colab_type": "code",
        "colab": {
          "base_uri": "https://localhost:8080/",
          "height": 235
        },
        "outputId": "950073da-d017-410a-fdbf-c4ba12ead149"
      },
      "source": [
        "# criar uma matriz de correlação\n",
        "corrMatrix_clean = df_clean[['price', 'minimum_nights', 'number_of_reviews', 'calculated_host_listings_count', 'latitude', 'longitude']].corr()\n",
        "# mostrar a matriz de correlação\n",
        "corrMatrix_clean"
      ],
      "execution_count": null,
      "outputs": [
        {
          "output_type": "execute_result",
          "data": {
            "text/html": [
              "<div>\n",
              "<style scoped>\n",
              "    .dataframe tbody tr th:only-of-type {\n",
              "        vertical-align: middle;\n",
              "    }\n",
              "\n",
              "    .dataframe tbody tr th {\n",
              "        vertical-align: top;\n",
              "    }\n",
              "\n",
              "    .dataframe thead th {\n",
              "        text-align: right;\n",
              "    }\n",
              "</style>\n",
              "<table border=\"1\" class=\"dataframe\">\n",
              "  <thead>\n",
              "    <tr style=\"text-align: right;\">\n",
              "      <th></th>\n",
              "      <th>price</th>\n",
              "      <th>minimum_nights</th>\n",
              "      <th>number_of_reviews</th>\n",
              "      <th>calculated_host_listings_count</th>\n",
              "      <th>latitude</th>\n",
              "      <th>longitude</th>\n",
              "    </tr>\n",
              "  </thead>\n",
              "  <tbody>\n",
              "    <tr>\n",
              "      <th>price</th>\n",
              "      <td>1.000000</td>\n",
              "      <td>-0.074507</td>\n",
              "      <td>-0.103121</td>\n",
              "      <td>-0.020769</td>\n",
              "      <td>-0.020593</td>\n",
              "      <td>0.018627</td>\n",
              "    </tr>\n",
              "    <tr>\n",
              "      <th>minimum_nights</th>\n",
              "      <td>-0.074507</td>\n",
              "      <td>1.000000</td>\n",
              "      <td>-0.067033</td>\n",
              "      <td>0.298455</td>\n",
              "      <td>-0.005385</td>\n",
              "      <td>0.006127</td>\n",
              "    </tr>\n",
              "    <tr>\n",
              "      <th>number_of_reviews</th>\n",
              "      <td>-0.103121</td>\n",
              "      <td>-0.067033</td>\n",
              "      <td>1.000000</td>\n",
              "      <td>0.085881</td>\n",
              "      <td>-0.010510</td>\n",
              "      <td>0.040010</td>\n",
              "    </tr>\n",
              "    <tr>\n",
              "      <th>calculated_host_listings_count</th>\n",
              "      <td>-0.020769</td>\n",
              "      <td>0.298455</td>\n",
              "      <td>0.085881</td>\n",
              "      <td>1.000000</td>\n",
              "      <td>-0.037721</td>\n",
              "      <td>0.014584</td>\n",
              "    </tr>\n",
              "    <tr>\n",
              "      <th>latitude</th>\n",
              "      <td>-0.020593</td>\n",
              "      <td>-0.005385</td>\n",
              "      <td>-0.010510</td>\n",
              "      <td>-0.037721</td>\n",
              "      <td>1.000000</td>\n",
              "      <td>-0.068594</td>\n",
              "    </tr>\n",
              "    <tr>\n",
              "      <th>longitude</th>\n",
              "      <td>0.018627</td>\n",
              "      <td>0.006127</td>\n",
              "      <td>0.040010</td>\n",
              "      <td>0.014584</td>\n",
              "      <td>-0.068594</td>\n",
              "      <td>1.000000</td>\n",
              "    </tr>\n",
              "  </tbody>\n",
              "</table>\n",
              "</div>"
            ],
            "text/plain": [
              "                                   price  minimum_nights  ...  latitude  longitude\n",
              "price                           1.000000       -0.074507  ... -0.020593   0.018627\n",
              "minimum_nights                 -0.074507        1.000000  ... -0.005385   0.006127\n",
              "number_of_reviews              -0.103121       -0.067033  ... -0.010510   0.040010\n",
              "calculated_host_listings_count -0.020769        0.298455  ... -0.037721   0.014584\n",
              "latitude                       -0.020593       -0.005385  ...  1.000000  -0.068594\n",
              "longitude                       0.018627        0.006127  ... -0.068594   1.000000\n",
              "\n",
              "[6 rows x 6 columns]"
            ]
          },
          "metadata": {
            "tags": []
          },
          "execution_count": 16
        }
      ]
    },
    {
      "cell_type": "markdown",
      "metadata": {
        "id": "TG_7Faf9MPrq",
        "colab_type": "text"
      },
      "source": [
        "De maneira geral, os dados não apresentaram correlação significativa entre si que não tivessem características colineares (ex.: id / host_id e number_of_reviews / reviews_per_month.\n",
        "\n",
        "De alguma forma, o número de imóveis pertencentes a uma mesma pessoa (\"calculated_host_listings_count\") parece ter alguma relação com o número mínimo de noites para locação (\"minimum_nights\")."
      ]
    },
    {
      "cell_type": "code",
      "metadata": {
        "id": "91UujDr6ueqE",
        "colab_type": "code",
        "colab": {
          "base_uri": "https://localhost:8080/",
          "height": 411
        },
        "outputId": "7c9e669f-0d60-4689-ed78-dac3ba12f2c1"
      },
      "source": [
        "# plotar um heatmap a partir das correlações\n",
        "plt.figure(figsize=(6,4))\n",
        "sns.heatmap(data=corrMatrix_clean, cmap='coolwarm', linewidths=.1, annot=True);"
      ],
      "execution_count": null,
      "outputs": [
        {
          "output_type": "display_data",
          "data": {
            "image/png": "[encoded data removed]",
            "text/plain": [
              "<Figure size 432x288 with 2 Axes>"
            ]
          },
          "metadata": {
            "tags": [],
            "needs_background": "light"
          }
        }
      ]
    },
    {
      "cell_type": "markdown",
      "metadata": {
        "id": "7b6RMWpuHKN-",
        "colab_type": "text"
      },
      "source": [
        "### **Q7. Qual o tipo de imóvel mais alugado no Airbnb?**\n",
        "O sistema do Airbnb categoriza os imóveis disponíveis para aluguel em 4 calsses:\n",
        "*   Imóvel completo, casa/apartamento;\n",
        "*   Quarto privativo;\n",
        "*   Quarto dividido;\n",
        "*   Quarto de hotel."
      ]
    },
    {
      "cell_type": "code",
      "metadata": {
        "id": "ueLPNWvPHgfB",
        "colab_type": "code",
        "colab": {
          "base_uri": "https://localhost:8080/",
          "height": 102
        },
        "outputId": "0eb1615d-e68e-4f17-e6c3-5b8e045d18cc"
      },
      "source": [
        "# mostrar a quantidade de cada tipo de imóvel disponível\n",
        "df_room = df_clean.room_type.value_counts()\n",
        "df_room"
      ],
      "execution_count": null,
      "outputs": [
        {
          "output_type": "execute_result",
          "data": {
            "text/plain": [
              "Entire home/apt    6045\n",
              "Private room       4492\n",
              "Shared room         180\n",
              "Hotel room           72\n",
              "Name: room_type, dtype: int64"
            ]
          },
          "metadata": {
            "tags": []
          },
          "execution_count": 18
        }
      ]
    },
    {
      "cell_type": "code",
      "metadata": {
        "id": "EvwoO-XAHhIm",
        "colab_type": "code",
        "colab": {
          "base_uri": "https://localhost:8080/",
          "height": 102
        },
        "outputId": "18602f94-0fd1-45ac-e131-48734a575239"
      },
      "source": [
        "  # mostrar a porcentagem de cada tipo de imóvel disponível\n",
        "df_room_percent = (df_room/len(df_clean['room_type']))*100\n",
        "df_room_percent"
      ],
      "execution_count": null,
      "outputs": [
        {
          "output_type": "execute_result",
          "data": {
            "text/plain": [
              "Entire home/apt    56.029289\n",
              "Private room       41.634999\n",
              "Shared room         1.668366\n",
              "Hotel room          0.667346\n",
              "Name: room_type, dtype: float64"
            ]
          },
          "metadata": {
            "tags": []
          },
          "execution_count": 19
        }
      ]
    },
    {
      "cell_type": "code",
      "metadata": {
        "id": "0L4pbOJH7MzG",
        "colab_type": "code",
        "colab": {
          "base_uri": "https://localhost:8080/",
          "height": 173
        },
        "outputId": "1e52b70e-f4f4-47e5-b92c-ea5b2a3a8216"
      },
      "source": [
        "# mostrar a média dos preços e dos reviews e a quantidade imóveis cadastrados como \"Entire home/apt\"\n",
        "df_entire = df_clean.loc[df_clean['room_type']=='Entire home/apt']\n",
        "df_e = df_entire[['neighbourhood', 'price']].groupby('neighbourhood').mean()\n",
        "df_e['number'] = df_entire.neighbourhood.value_counts()\n",
        "df_e['reviews'] = df_entire[['neighbourhood', 'number_of_reviews']].groupby('neighbourhood').mean()\n",
        "df_e.sort_values(by='price', ascending=True)[:3]"
      ],
      "execution_count": null,
      "outputs": [
        {
          "output_type": "execute_result",
          "data": {
            "text/html": [
              "<div>\n",
              "<style scoped>\n",
              "    .dataframe tbody tr th:only-of-type {\n",
              "        vertical-align: middle;\n",
              "    }\n",
              "\n",
              "    .dataframe tbody tr th {\n",
              "        vertical-align: top;\n",
              "    }\n",
              "\n",
              "    .dataframe thead th {\n",
              "        text-align: right;\n",
              "    }\n",
              "</style>\n",
              "<table border=\"1\" class=\"dataframe\">\n",
              "  <thead>\n",
              "    <tr style=\"text-align: right;\">\n",
              "      <th></th>\n",
              "      <th>price</th>\n",
              "      <th>number</th>\n",
              "      <th>reviews</th>\n",
              "    </tr>\n",
              "    <tr>\n",
              "      <th>neighbourhood</th>\n",
              "      <th></th>\n",
              "      <th></th>\n",
              "      <th></th>\n",
              "    </tr>\n",
              "  </thead>\n",
              "  <tbody>\n",
              "    <tr>\n",
              "      <th>Ramersdorf-Perlach</th>\n",
              "      <td>91.495327</td>\n",
              "      <td>214</td>\n",
              "      <td>18.182243</td>\n",
              "    </tr>\n",
              "    <tr>\n",
              "      <th>Moosach</th>\n",
              "      <td>102.571429</td>\n",
              "      <td>105</td>\n",
              "      <td>6.428571</td>\n",
              "    </tr>\n",
              "    <tr>\n",
              "      <th>Milbertshofen-Am Hart</th>\n",
              "      <td>103.708661</td>\n",
              "      <td>254</td>\n",
              "      <td>9.023622</td>\n",
              "    </tr>\n",
              "  </tbody>\n",
              "</table>\n",
              "</div>"
            ],
            "text/plain": [
              "                            price  number    reviews\n",
              "neighbourhood                                       \n",
              "Ramersdorf-Perlach      91.495327     214  18.182243\n",
              "Moosach                102.571429     105   6.428571\n",
              "Milbertshofen-Am Hart  103.708661     254   9.023622"
            ]
          },
          "metadata": {
            "tags": []
          },
          "execution_count": 20
        }
      ]
    },
    {
      "cell_type": "code",
      "metadata": {
        "id": "eewtQcI6RmAX",
        "colab_type": "code",
        "colab": {
          "base_uri": "https://localhost:8080/",
          "height": 173
        },
        "outputId": "cc175882-2f74-4712-ff99-ac222bce1e0d"
      },
      "source": [
        "# mostrar a média dos preços e dos reviews e a quantidade imóveis cadastrados como \"Hotel room\"\n",
        "df_hotel = df_clean.loc[df_clean['room_type']=='Hotel room']\n",
        "df_h = df_hotel[['neighbourhood', 'price']].groupby('neighbourhood').mean()\n",
        "df_h['number'] = df_hotel.neighbourhood.value_counts()\n",
        "df_h['reviews'] = df_hotel[['neighbourhood', 'number_of_reviews']].groupby('neighbourhood').mean()\n",
        "df_h.sort_values(by='price', ascending=True)[:3]"
      ],
      "execution_count": null,
      "outputs": [
        {
          "output_type": "execute_result",
          "data": {
            "text/html": [
              "<div>\n",
              "<style scoped>\n",
              "    .dataframe tbody tr th:only-of-type {\n",
              "        vertical-align: middle;\n",
              "    }\n",
              "\n",
              "    .dataframe tbody tr th {\n",
              "        vertical-align: top;\n",
              "    }\n",
              "\n",
              "    .dataframe thead th {\n",
              "        text-align: right;\n",
              "    }\n",
              "</style>\n",
              "<table border=\"1\" class=\"dataframe\">\n",
              "  <thead>\n",
              "    <tr style=\"text-align: right;\">\n",
              "      <th></th>\n",
              "      <th>price</th>\n",
              "      <th>number</th>\n",
              "      <th>reviews</th>\n",
              "    </tr>\n",
              "    <tr>\n",
              "      <th>neighbourhood</th>\n",
              "      <th></th>\n",
              "      <th></th>\n",
              "      <th></th>\n",
              "    </tr>\n",
              "  </thead>\n",
              "  <tbody>\n",
              "    <tr>\n",
              "      <th>Milbertshofen-Am Hart</th>\n",
              "      <td>79.3</td>\n",
              "      <td>10</td>\n",
              "      <td>17.200000</td>\n",
              "    </tr>\n",
              "    <tr>\n",
              "      <th>Moosach</th>\n",
              "      <td>84.0</td>\n",
              "      <td>2</td>\n",
              "      <td>0.000000</td>\n",
              "    </tr>\n",
              "    <tr>\n",
              "      <th>Neuhausen-Nymphenburg</th>\n",
              "      <td>85.0</td>\n",
              "      <td>3</td>\n",
              "      <td>53.666667</td>\n",
              "    </tr>\n",
              "  </tbody>\n",
              "</table>\n",
              "</div>"
            ],
            "text/plain": [
              "                       price  number    reviews\n",
              "neighbourhood                                  \n",
              "Milbertshofen-Am Hart   79.3      10  17.200000\n",
              "Moosach                 84.0       2   0.000000\n",
              "Neuhausen-Nymphenburg   85.0       3  53.666667"
            ]
          },
          "metadata": {
            "tags": []
          },
          "execution_count": 21
        }
      ]
    },
    {
      "cell_type": "code",
      "metadata": {
        "id": "UaHd6Rh3My1B",
        "colab_type": "code",
        "colab": {
          "base_uri": "https://localhost:8080/",
          "height": 173
        },
        "outputId": "aceb453e-c6d7-429e-826c-7c4ae65fb23b"
      },
      "source": [
        "# mostrar a média dos preços e dos reviews e a quantidade imóveis cadastrados como \"Private room\"\n",
        "df_private = df_clean.loc[df_clean['room_type']=='Private room']\n",
        "df_p = df_private[['neighbourhood', 'price']].groupby('neighbourhood').mean()\n",
        "df_p['number'] = df_private.neighbourhood.value_counts()\n",
        "df_p['reviews'] = df_private[['neighbourhood', 'number_of_reviews']].groupby('neighbourhood').mean()\n",
        "df_p.sort_values(by='price', ascending=True)[:3]\n"
      ],
      "execution_count": null,
      "outputs": [
        {
          "output_type": "execute_result",
          "data": {
            "text/html": [
              "<div>\n",
              "<style scoped>\n",
              "    .dataframe tbody tr th:only-of-type {\n",
              "        vertical-align: middle;\n",
              "    }\n",
              "\n",
              "    .dataframe tbody tr th {\n",
              "        vertical-align: top;\n",
              "    }\n",
              "\n",
              "    .dataframe thead th {\n",
              "        text-align: right;\n",
              "    }\n",
              "</style>\n",
              "<table border=\"1\" class=\"dataframe\">\n",
              "  <thead>\n",
              "    <tr style=\"text-align: right;\">\n",
              "      <th></th>\n",
              "      <th>price</th>\n",
              "      <th>number</th>\n",
              "      <th>reviews</th>\n",
              "    </tr>\n",
              "    <tr>\n",
              "      <th>neighbourhood</th>\n",
              "      <th></th>\n",
              "      <th></th>\n",
              "      <th></th>\n",
              "    </tr>\n",
              "  </thead>\n",
              "  <tbody>\n",
              "    <tr>\n",
              "      <th>Milbertshofen-Am Hart</th>\n",
              "      <td>61.276836</td>\n",
              "      <td>177</td>\n",
              "      <td>19.757062</td>\n",
              "    </tr>\n",
              "    <tr>\n",
              "      <th>Ramersdorf-Perlach</th>\n",
              "      <td>63.005747</td>\n",
              "      <td>174</td>\n",
              "      <td>25.287356</td>\n",
              "    </tr>\n",
              "    <tr>\n",
              "      <th>Feldmoching-Hasenbergl</th>\n",
              "      <td>63.169492</td>\n",
              "      <td>59</td>\n",
              "      <td>31.898305</td>\n",
              "    </tr>\n",
              "  </tbody>\n",
              "</table>\n",
              "</div>"
            ],
            "text/plain": [
              "                            price  number    reviews\n",
              "neighbourhood                                       \n",
              "Milbertshofen-Am Hart   61.276836     177  19.757062\n",
              "Ramersdorf-Perlach      63.005747     174  25.287356\n",
              "Feldmoching-Hasenbergl  63.169492      59  31.898305"
            ]
          },
          "metadata": {
            "tags": []
          },
          "execution_count": 22
        }
      ]
    },
    {
      "cell_type": "code",
      "metadata": {
        "id": "gtb2UpDLQ9Sn",
        "colab_type": "code",
        "colab": {
          "base_uri": "https://localhost:8080/",
          "height": 173
        },
        "outputId": "c2ade78c-df0f-48f9-be8a-3eca83235071"
      },
      "source": [
        "# mostrar a média dos preços e dos reviews e a quantidade imóveis cadastrados como \"Shared room\"\n",
        "df_shared = df_clean.loc[df_clean['room_type']=='Shared room']\n",
        "df_s = df_shared[['neighbourhood', 'price']].groupby('neighbourhood').mean()\n",
        "df_s['number'] = df_shared.neighbourhood.value_counts()\n",
        "df_s['reviews'] = df_shared[['neighbourhood', 'number_of_reviews']].groupby('neighbourhood').mean()\n",
        "df_s.sort_values(by='price', ascending=True)[:3]"
      ],
      "execution_count": null,
      "outputs": [
        {
          "output_type": "execute_result",
          "data": {
            "text/html": [
              "<div>\n",
              "<style scoped>\n",
              "    .dataframe tbody tr th:only-of-type {\n",
              "        vertical-align: middle;\n",
              "    }\n",
              "\n",
              "    .dataframe tbody tr th {\n",
              "        vertical-align: top;\n",
              "    }\n",
              "\n",
              "    .dataframe thead th {\n",
              "        text-align: right;\n",
              "    }\n",
              "</style>\n",
              "<table border=\"1\" class=\"dataframe\">\n",
              "  <thead>\n",
              "    <tr style=\"text-align: right;\">\n",
              "      <th></th>\n",
              "      <th>price</th>\n",
              "      <th>number</th>\n",
              "      <th>reviews</th>\n",
              "    </tr>\n",
              "    <tr>\n",
              "      <th>neighbourhood</th>\n",
              "      <th></th>\n",
              "      <th></th>\n",
              "      <th></th>\n",
              "    </tr>\n",
              "  </thead>\n",
              "  <tbody>\n",
              "    <tr>\n",
              "      <th>Laim</th>\n",
              "      <td>30.6</td>\n",
              "      <td>5</td>\n",
              "      <td>18.8</td>\n",
              "    </tr>\n",
              "    <tr>\n",
              "      <th>Untergiesing-Harlaching</th>\n",
              "      <td>45.0</td>\n",
              "      <td>2</td>\n",
              "      <td>0.5</td>\n",
              "    </tr>\n",
              "    <tr>\n",
              "      <th>Hadern</th>\n",
              "      <td>46.0</td>\n",
              "      <td>5</td>\n",
              "      <td>4.6</td>\n",
              "    </tr>\n",
              "  </tbody>\n",
              "</table>\n",
              "</div>"
            ],
            "text/plain": [
              "                         price  number  reviews\n",
              "neighbourhood                                  \n",
              "Laim                      30.6       5     18.8\n",
              "Untergiesing-Harlaching   45.0       2      0.5\n",
              "Hadern                    46.0       5      4.6"
            ]
          },
          "metadata": {
            "tags": []
          },
          "execution_count": 26
        }
      ]
    },
    {
      "cell_type": "code",
      "metadata": {
        "id": "6TQO0fn3xyXb",
        "colab_type": "code",
        "colab": {
          "base_uri": "https://localhost:8080/",
          "height": 204
        },
        "outputId": "2313d551-2858-4477-9c52-0e552300873c"
      },
      "source": [
        "# mostrar a média dos preços, o número de imóveis, a % de imóveis e a média de reviews para todos os tipos de imóveis cadastrados.\n",
        "df_room_explore = df_clean[['room_type', 'price']].groupby(['room_type']).mean()\n",
        "df_room_explore['imóveis_n'] = df_room\n",
        "df_room_explore['imóveis_%'] = df_room_percent\n",
        "df_room_explore['reviews'] = df_clean[['room_type', 'number_of_reviews']].groupby('room_type').mean()\n",
        "df_room_explore"
      ],
      "execution_count": null,
      "outputs": [
        {
          "output_type": "execute_result",
          "data": {
            "text/html": [
              "<div>\n",
              "<style scoped>\n",
              "    .dataframe tbody tr th:only-of-type {\n",
              "        vertical-align: middle;\n",
              "    }\n",
              "\n",
              "    .dataframe tbody tr th {\n",
              "        vertical-align: top;\n",
              "    }\n",
              "\n",
              "    .dataframe thead th {\n",
              "        text-align: right;\n",
              "    }\n",
              "</style>\n",
              "<table border=\"1\" class=\"dataframe\">\n",
              "  <thead>\n",
              "    <tr style=\"text-align: right;\">\n",
              "      <th></th>\n",
              "      <th>price</th>\n",
              "      <th>imóveis_n</th>\n",
              "      <th>imóveis_%</th>\n",
              "      <th>reviews</th>\n",
              "    </tr>\n",
              "    <tr>\n",
              "      <th>room_type</th>\n",
              "      <th></th>\n",
              "      <th></th>\n",
              "      <th></th>\n",
              "      <th></th>\n",
              "    </tr>\n",
              "  </thead>\n",
              "  <tbody>\n",
              "    <tr>\n",
              "      <th>Entire home/apt</th>\n",
              "      <td>110.595070</td>\n",
              "      <td>5801</td>\n",
              "      <td>55.279207</td>\n",
              "      <td>14.625237</td>\n",
              "    </tr>\n",
              "    <tr>\n",
              "      <th>Hotel room</th>\n",
              "      <td>112.383333</td>\n",
              "      <td>60</td>\n",
              "      <td>0.571755</td>\n",
              "      <td>25.450000</td>\n",
              "    </tr>\n",
              "    <tr>\n",
              "      <th>Private room</th>\n",
              "      <td>76.963845</td>\n",
              "      <td>4453</td>\n",
              "      <td>42.433772</td>\n",
              "      <td>17.719515</td>\n",
              "    </tr>\n",
              "    <tr>\n",
              "      <th>Shared room</th>\n",
              "      <td>70.144444</td>\n",
              "      <td>180</td>\n",
              "      <td>1.715266</td>\n",
              "      <td>15.400000</td>\n",
              "    </tr>\n",
              "  </tbody>\n",
              "</table>\n",
              "</div>"
            ],
            "text/plain": [
              "                      price  imóveis_n  imóveis_%    reviews\n",
              "room_type                                                   \n",
              "Entire home/apt  110.595070       5801  55.279207  14.625237\n",
              "Hotel room       112.383333         60   0.571755  25.450000\n",
              "Private room      76.963845       4453  42.433772  17.719515\n",
              "Shared room       70.144444        180   1.715266  15.400000"
            ]
          },
          "metadata": {
            "tags": []
          },
          "execution_count": 31
        }
      ]
    },
    {
      "cell_type": "code",
      "metadata": {
        "id": "hDOYXCIZ8DWK",
        "colab_type": "code",
        "colab": {
          "base_uri": "https://localhost:8080/",
          "height": 34
        },
        "outputId": "da526693-966e-46dc-bac3-0bf1a39e9e29"
      },
      "source": [
        "# Quantidade de imóveis disponíveis\n",
        "df_clean['price'].count()"
      ],
      "execution_count": null,
      "outputs": [
        {
          "output_type": "execute_result",
          "data": {
            "text/plain": [
              "10494"
            ]
          },
          "metadata": {
            "tags": []
          },
          "execution_count": 32
        }
      ]
    },
    {
      "cell_type": "markdown",
      "metadata": {
        "id": "6cKP-s7_NYkf",
        "colab_type": "text"
      },
      "source": [
        "\n",
        "Dos 10.789 imóveis disponíveis, 56,0% estão disponíveis como aluguel de casa/apartamento, seguido de 41,6% dos imóveis disponiilizados para aluguél de quarto privativo. Para os imóveis de Munique cadastrados no Airbnb, apenas 1,7% e 0,7% estão, respectivamente, disponíveis para  aluguéis de quartos compartilhados ou quarto de holtel.\n",
        "\n",
        "A maior média de preços praticados neste ramo é para aluguel de quartos de hotel, igualmente é para esse nincho que se encontra a maior média de reviews. Esse tipo de resultado poderia apontar, respectivamente, para serviços normalmente encontrado em hotéis (ex.: recepção, camareira, café da manhã incluso) e ação massiva de convite para reviews como forma de expansão do setor.\n",
        "\n",
        "Analisando os tipos de imóveis por bairros temos:\n",
        "\n",
        "**Entire home/apt:** \n",
        "* *Menor média de preços:* Ramersdorf-Perlach, Moosach, Milbertshofen-Am Hart;\n",
        "* *Maior média de preços:* Altstadt-Lehel, Tudering-Riem, Schwanthalerhöhe;\n",
        "* *Maior quantidade:* Ludwigsvorstadt-Isarvorstadt, Maxvorstadt, Schwabing-West;\n",
        "* *Maior média de reviews:* Maxvorstadt, Bogenhausen, Schwabing-Freimann.\n",
        "\n",
        "**Hotel room:** -Atenção!!! Amostra pouco representativa.\n",
        "* *Menor méida de preços:* Milbertshofen-Am Hart, Moosach, Neuhausen-Nymphenburg;\n",
        "* *Maior média de preços:* Ramersdorf-Perlach, Au-Haidhausen, Altstadt-Lehel;\n",
        "* *Maior quantidade:* Ludwigsvorstadt-Isarvorstadt, Au-Haidhausen, Milbertshofen-Am Hart;\n",
        "* *Maior média de reviews:* Maxvorstadt, Neuhausen-Nymphenburg, Schwabing-Freimann.\n",
        "\n",
        "**Private room:**\n",
        "* *Menor méida de preços:* Milbertshofen-Am Hart, Ramersdorf-Perlach, Feldmoching-Hasenbergl;\n",
        "* *Maior média de preços:* Allach-Untermenzing, Schwanthalerhöhe,Altstadt-Lehel;\n",
        "* *Maior quantidade:* Ludwigsvorstadt-Isarvorstadt, Maxvorstadt, Neuhausen-Nymphenburg;\n",
        "* *Maior média de reviews:* Feldmoching-Hasenbergl, Ramersdorf-Perlach, Berg am Laim.\n",
        "\n",
        "**Shared room:** -Atenção!!! Amostra pouco representativa.\n",
        "* *Menor média de preços:* Laim, Untergiesing-Harlaching, Hadern; \n",
        "* *Maior média de preços:* Sendling, Schwanthalerhöhe, Berg am Laim;\n",
        "* *Maior quantidade:* Ludwigsvorstadt-Isarvorstadt, Milbertshofen-Am Hart, Neuhausen-Nymphenburg;\n",
        "* *Maior média de reviews:* Ludwigsvorstadt-Isarvorstadt, Au-Haidhausen, Neuhausen-Nymphenburg.\n",
        "\n",
        "Os preços mais baixos são encontrados preferencialmente nos bairros mais afastados. Já os preços mais altos alternam entre bairros mais localizados em zonas centrais e periféricas de acordo com a classe do imóvel a ser escolhido. O bairro mais antigo \"Altstadt-Lehel\" (Altstadt, em alemão significa cidade antiga), exceto para a classe de quarto compartilhado, etá ranqueado entre as tres maiores médias de preço.\n",
        "\n",
        "De maneira geral, os bairros centrais detêm a maioria dos imoveis cadastrados nesse dataset, com atenção para o bairro de Ludwigsvorstadt-Isarvorstadt que lidera a disponibilidade de imóveis em todas as classes.\n",
        "\n",
        "Para a múmero de reviews, tantos os bairros localizados nas regiões mais centrais quanto os localizados mais perifericamente são ranqueados entre as três maiores médias ao longo de todas as classes de imóveis."
      ]
    },
    {
      "cell_type": "markdown",
      "metadata": {
        "id": "eC3IQOskhgK0",
        "colab_type": "text"
      },
      "source": [
        "### **Q8. Qual o perfil mais comum dos proprietários dos imóveis?**\n",
        "\n",
        "A maior parte dos proprietários de imóveis cadastrados possuem 1 ou 2 imóveis e preferencialmente na região central da cidade, especialmente Altstadt-Lehel e Ludwgsvorstadt-Isarvorstadt"
      ]
    },
    {
      "cell_type": "code",
      "metadata": {
        "id": "2Rq4cZAryq8T",
        "colab_type": "code",
        "colab": {
          "base_uri": "https://localhost:8080/",
          "height": 306
        },
        "outputId": "c7a03513-190d-411c-9310-706b134b0591"
      },
      "source": [
        "#Identificar a quantos proprietários têm um mesmo número de imóves\n",
        "df_clean.calculated_host_listings_count.value_counts()"
      ],
      "execution_count": null,
      "outputs": [
        {
          "output_type": "execute_result",
          "data": {
            "text/plain": [
              "1     8294\n",
              "2     1349\n",
              "3      416\n",
              "4      182\n",
              "5      106\n",
              "6       83\n",
              "8       64\n",
              "21      42\n",
              "7       40\n",
              "10      40\n",
              "12      36\n",
              "18      35\n",
              "34      34\n",
              "9       29\n",
              "11      22\n",
              "37      17\n",
              "Name: calculated_host_listings_count, dtype: int64"
            ]
          },
          "metadata": {
            "tags": []
          },
          "execution_count": 36
        }
      ]
    },
    {
      "cell_type": "markdown",
      "metadata": {
        "id": "XdA_HIhpwkD3",
        "colab_type": "text"
      },
      "source": [
        "Para as próximas etapas deste tópico, o conjunto de imóveis foi dividido em dois subconjuntos:\n",
        "* 1 ou 2 imóveis: 9.643 proprietários (89,38%)\n",
        "* Mais do que 2 imóveis: 1146 proprietários (10,62%) "
      ]
    },
    {
      "cell_type": "code",
      "metadata": {
        "id": "kBX8oLqQiFl_",
        "colab_type": "code",
        "colab": {
          "base_uri": "https://localhost:8080/",
          "height": 173
        },
        "outputId": "84b5c43a-5d17-4f71-bbcb-e275c57651b6"
      },
      "source": [
        "# Separar os proprietários que tem 1 ou 2 imóveis e mostrar a quais bairros pertencem\n",
        "df_menos = df_clean.loc[df_clean['calculated_host_listings_count']<=2]\n",
        "df_menor = df_menos[['neighbourhood', 'price']].groupby('neighbourhood').mean()\n",
        "df_menor['number'] = df_menos.neighbourhood.value_counts()\n",
        "df_menor['reviews'] = df_menos[['neighbourhood', 'number_of_reviews']].groupby('neighbourhood').mean()\n",
        "df_menor.sort_values(by='price', ascending=False)[:3]\n"
      ],
      "execution_count": null,
      "outputs": [
        {
          "output_type": "execute_result",
          "data": {
            "text/html": [
              "<div>\n",
              "<style scoped>\n",
              "    .dataframe tbody tr th:only-of-type {\n",
              "        vertical-align: middle;\n",
              "    }\n",
              "\n",
              "    .dataframe tbody tr th {\n",
              "        vertical-align: top;\n",
              "    }\n",
              "\n",
              "    .dataframe thead th {\n",
              "        text-align: right;\n",
              "    }\n",
              "</style>\n",
              "<table border=\"1\" class=\"dataframe\">\n",
              "  <thead>\n",
              "    <tr style=\"text-align: right;\">\n",
              "      <th></th>\n",
              "      <th>price</th>\n",
              "      <th>number</th>\n",
              "      <th>reviews</th>\n",
              "    </tr>\n",
              "    <tr>\n",
              "      <th>neighbourhood</th>\n",
              "      <th></th>\n",
              "      <th></th>\n",
              "      <th></th>\n",
              "    </tr>\n",
              "  </thead>\n",
              "  <tbody>\n",
              "    <tr>\n",
              "      <th>Altstadt-Lehel</th>\n",
              "      <td>132.669903</td>\n",
              "      <td>309</td>\n",
              "      <td>16.271845</td>\n",
              "    </tr>\n",
              "    <tr>\n",
              "      <th>Ludwigsvorstadt-Isarvorstadt</th>\n",
              "      <td>124.182276</td>\n",
              "      <td>993</td>\n",
              "      <td>14.837865</td>\n",
              "    </tr>\n",
              "    <tr>\n",
              "      <th>Schwanthalerhöhe</th>\n",
              "      <td>123.335013</td>\n",
              "      <td>397</td>\n",
              "      <td>11.957179</td>\n",
              "    </tr>\n",
              "  </tbody>\n",
              "</table>\n",
              "</div>"
            ],
            "text/plain": [
              "                                   price  number    reviews\n",
              "neighbourhood                                              \n",
              "Altstadt-Lehel                132.669903     309  16.271845\n",
              "Ludwigsvorstadt-Isarvorstadt  124.182276     993  14.837865\n",
              "Schwanthalerhöhe              123.335013     397  11.957179"
            ]
          },
          "metadata": {
            "tags": []
          },
          "execution_count": 141
        }
      ]
    },
    {
      "cell_type": "code",
      "metadata": {
        "id": "6lU9lIuqn6qU",
        "colab_type": "code",
        "colab": {
          "base_uri": "https://localhost:8080/",
          "height": 204
        },
        "outputId": "0367292e-a40e-4c73-9bad-2bd30cd0417b"
      },
      "source": [
        "# indicar qual tipo de imóveis mais comum para os proprietários que tem 1 ou 2 imóveis \n",
        "df_menos_room = df_menos[['room_type', 'price', 'minimum_nights']].groupby('room_type').mean()\n",
        "df_menos_room['number'] = df_menos.room_type.value_counts()\n",
        "df_menos_room.sort_values(by='minimum_nights', ascending=False)"
      ],
      "execution_count": null,
      "outputs": [
        {
          "output_type": "execute_result",
          "data": {
            "text/html": [
              "<div>\n",
              "<style scoped>\n",
              "    .dataframe tbody tr th:only-of-type {\n",
              "        vertical-align: middle;\n",
              "    }\n",
              "\n",
              "    .dataframe tbody tr th {\n",
              "        vertical-align: top;\n",
              "    }\n",
              "\n",
              "    .dataframe thead th {\n",
              "        text-align: right;\n",
              "    }\n",
              "</style>\n",
              "<table border=\"1\" class=\"dataframe\">\n",
              "  <thead>\n",
              "    <tr style=\"text-align: right;\">\n",
              "      <th></th>\n",
              "      <th>price</th>\n",
              "      <th>minimum_nights</th>\n",
              "      <th>number</th>\n",
              "    </tr>\n",
              "    <tr>\n",
              "      <th>room_type</th>\n",
              "      <th></th>\n",
              "      <th></th>\n",
              "      <th></th>\n",
              "    </tr>\n",
              "  </thead>\n",
              "  <tbody>\n",
              "    <tr>\n",
              "      <th>Entire home/apt</th>\n",
              "      <td>122.476086</td>\n",
              "      <td>3.597116</td>\n",
              "      <td>5478</td>\n",
              "    </tr>\n",
              "    <tr>\n",
              "      <th>Private room</th>\n",
              "      <td>78.985778</td>\n",
              "      <td>2.353543</td>\n",
              "      <td>4008</td>\n",
              "    </tr>\n",
              "    <tr>\n",
              "      <th>Hotel room</th>\n",
              "      <td>205.285714</td>\n",
              "      <td>1.857143</td>\n",
              "      <td>7</td>\n",
              "    </tr>\n",
              "    <tr>\n",
              "      <th>Shared room</th>\n",
              "      <td>73.393333</td>\n",
              "      <td>1.700000</td>\n",
              "      <td>150</td>\n",
              "    </tr>\n",
              "  </tbody>\n",
              "</table>\n",
              "</div>"
            ],
            "text/plain": [
              "                      price  minimum_nights  number\n",
              "room_type                                          \n",
              "Entire home/apt  122.476086        3.597116    5478\n",
              "Private room      78.985778        2.353543    4008\n",
              "Hotel room       205.285714        1.857143       7\n",
              "Shared room       73.393333        1.700000     150"
            ]
          },
          "metadata": {
            "tags": []
          },
          "execution_count": 143
        }
      ]
    },
    {
      "cell_type": "code",
      "metadata": {
        "id": "0ie6q38tRbIy",
        "colab_type": "code",
        "colab": {
          "base_uri": "https://localhost:8080/",
          "height": 51
        },
        "outputId": "5477bc29-a7b1-4cf2-e405-630862b2c33f"
      },
      "source": [
        "print('O número médio de noites para esse grupo é {:.2f}'.format(df_menos['minimum_nights'].mean()))\n",
        "print(\"O preço médio do grupo com 1 ou 2 imóveis é $:{:.2f}\".format(df_menor['price'].mean()))"
      ],
      "execution_count": null,
      "outputs": [
        {
          "output_type": "stream",
          "text": [
            "O número médio de noites para esse grupo é 3.05\n",
            "O preço médio do grupo com 1 ou 2 imóveis é $:99.76\n"
          ],
          "name": "stdout"
        }
      ]
    },
    {
      "cell_type": "code",
      "metadata": {
        "id": "0UCzOgvD0VCS",
        "colab_type": "code",
        "colab": {
          "base_uri": "https://localhost:8080/",
          "height": 173
        },
        "outputId": "1b06d2ad-a989-42b0-8ed3-603a7306bba8"
      },
      "source": [
        "# Separar os proprietários que tem mais que 2 imóveis \n",
        "df_mais = df_clean.loc[df_clean['calculated_host_listings_count']>2]\n",
        "df_maior = df_mais[['neighbourhood', 'price']].groupby('neighbourhood').mean()\n",
        "df_maior['number'] = df_mais.neighbourhood.value_counts()\n",
        "df_maior['reviews'] = df_mais[['neighbourhood', 'number_of_reviews']].groupby('neighbourhood').mean()\n",
        "df_maior.sort_values(by='price', ascending=True)[:3]"
      ],
      "execution_count": null,
      "outputs": [
        {
          "output_type": "execute_result",
          "data": {
            "text/html": [
              "<div>\n",
              "<style scoped>\n",
              "    .dataframe tbody tr th:only-of-type {\n",
              "        vertical-align: middle;\n",
              "    }\n",
              "\n",
              "    .dataframe tbody tr th {\n",
              "        vertical-align: top;\n",
              "    }\n",
              "\n",
              "    .dataframe thead th {\n",
              "        text-align: right;\n",
              "    }\n",
              "</style>\n",
              "<table border=\"1\" class=\"dataframe\">\n",
              "  <thead>\n",
              "    <tr style=\"text-align: right;\">\n",
              "      <th></th>\n",
              "      <th>price</th>\n",
              "      <th>number</th>\n",
              "      <th>reviews</th>\n",
              "    </tr>\n",
              "    <tr>\n",
              "      <th>neighbourhood</th>\n",
              "      <th></th>\n",
              "      <th></th>\n",
              "      <th></th>\n",
              "    </tr>\n",
              "  </thead>\n",
              "  <tbody>\n",
              "    <tr>\n",
              "      <th>Obergiesing</th>\n",
              "      <td>67.480000</td>\n",
              "      <td>25</td>\n",
              "      <td>25.240000</td>\n",
              "    </tr>\n",
              "    <tr>\n",
              "      <th>Moosach</th>\n",
              "      <td>72.447368</td>\n",
              "      <td>38</td>\n",
              "      <td>3.973684</td>\n",
              "    </tr>\n",
              "    <tr>\n",
              "      <th>Aubing-Lochhausen-Langwied</th>\n",
              "      <td>76.777778</td>\n",
              "      <td>9</td>\n",
              "      <td>6.222222</td>\n",
              "    </tr>\n",
              "  </tbody>\n",
              "</table>\n",
              "</div>"
            ],
            "text/plain": [
              "                                price  number    reviews\n",
              "neighbourhood                                           \n",
              "Obergiesing                 67.480000      25  25.240000\n",
              "Moosach                     72.447368      38   3.973684\n",
              "Aubing-Lochhausen-Langwied  76.777778       9   6.222222"
            ]
          },
          "metadata": {
            "tags": []
          },
          "execution_count": 40
        }
      ]
    },
    {
      "cell_type": "code",
      "metadata": {
        "id": "AuzPASiFpfeV",
        "colab_type": "code",
        "colab": {
          "base_uri": "https://localhost:8080/",
          "height": 204
        },
        "outputId": "2c79c0c5-6f5c-4395-e52e-7c721c6967de"
      },
      "source": [
        "# indicar qual tipo de imóveis mais comum para os proprietários que tem mais de 2 imóveis.\n",
        "df_mais_room = df_mais[['room_type', 'price', 'minimum_nights']].groupby('room_type').mean()\n",
        "df_mais_room['number'] = df_mais.room_type.value_counts()\n",
        "df_mais_room.sort_values(by='minimum_nights', ascending=False)"
      ],
      "execution_count": null,
      "outputs": [
        {
          "output_type": "execute_result",
          "data": {
            "text/html": [
              "<div>\n",
              "<style scoped>\n",
              "    .dataframe tbody tr th:only-of-type {\n",
              "        vertical-align: middle;\n",
              "    }\n",
              "\n",
              "    .dataframe tbody tr th {\n",
              "        vertical-align: top;\n",
              "    }\n",
              "\n",
              "    .dataframe thead th {\n",
              "        text-align: right;\n",
              "    }\n",
              "</style>\n",
              "<table border=\"1\" class=\"dataframe\">\n",
              "  <thead>\n",
              "    <tr style=\"text-align: right;\">\n",
              "      <th></th>\n",
              "      <th>price</th>\n",
              "      <th>minimum_nights</th>\n",
              "      <th>number</th>\n",
              "    </tr>\n",
              "    <tr>\n",
              "      <th>room_type</th>\n",
              "      <th></th>\n",
              "      <th></th>\n",
              "      <th></th>\n",
              "    </tr>\n",
              "  </thead>\n",
              "  <tbody>\n",
              "    <tr>\n",
              "      <th>Entire home/apt</th>\n",
              "      <td>121.735450</td>\n",
              "      <td>7.151675</td>\n",
              "      <td>567</td>\n",
              "    </tr>\n",
              "    <tr>\n",
              "      <th>Hotel room</th>\n",
              "      <td>173.938462</td>\n",
              "      <td>4.061538</td>\n",
              "      <td>65</td>\n",
              "    </tr>\n",
              "    <tr>\n",
              "      <th>Private room</th>\n",
              "      <td>86.917355</td>\n",
              "      <td>2.535124</td>\n",
              "      <td>484</td>\n",
              "    </tr>\n",
              "    <tr>\n",
              "      <th>Shared room</th>\n",
              "      <td>53.900000</td>\n",
              "      <td>1.400000</td>\n",
              "      <td>30</td>\n",
              "    </tr>\n",
              "  </tbody>\n",
              "</table>\n",
              "</div>"
            ],
            "text/plain": [
              "                      price  minimum_nights  number\n",
              "room_type                                          \n",
              "Entire home/apt  121.735450        7.151675     567\n",
              "Hotel room       173.938462        4.061538      65\n",
              "Private room      86.917355        2.535124     484\n",
              "Shared room       53.900000        1.400000      30"
            ]
          },
          "metadata": {
            "tags": []
          },
          "execution_count": 139
        }
      ]
    },
    {
      "cell_type": "code",
      "metadata": {
        "id": "oLdxQPtkUv_l",
        "colab_type": "code",
        "colab": {
          "base_uri": "https://localhost:8080/",
          "height": 51
        },
        "outputId": "c547a266-122d-47b5-b687-5a5e4b01add2"
      },
      "source": [
        "print('O número médio de noites é {:.2f}'.format(df_mais['minimum_nights'].mean()))\n",
        "print(\"O preço médio do grupo com mais de 2 imóveis é $:{:.2f}\".format(df_maior['price'].mean()))"
      ],
      "execution_count": null,
      "outputs": [
        {
          "output_type": "stream",
          "text": [
            "O número médio de noites é 4.88\n",
            "O preço médio do grupo com mais de 2 imóveis é $:107.51\n"
          ],
          "name": "stdout"
        }
      ]
    },
    {
      "cell_type": "markdown",
      "metadata": {
        "id": "gzxqkdP34RZV",
        "colab_type": "text"
      },
      "source": [
        "**Propriétários com 1 ou 2 imóveis (a média de preço é $99,76):**\n",
        "* *Menor média de preços:* Hadern, Feldmoching-Hasenbergl, Hadern;\n",
        "* *Maior média de preços:* Altstadt-Lehel, Ludwigsvorstadt-Isavorstadt, Schwanthalerhöhe;\n",
        "* *Maior número:* Ludwigsvorstadt-Isarvorstadt, Maxvorstadt, Schwabing-West;\n",
        "* *Maior média de reviews:* Feldmoching-Hasenbergl, Tudering-Riem, Schwabing-Freimann;\n",
        ">* *Tipo de imóvel (maior número):* Entire home/apt, Private room, Shared room;\n",
        ">* *Menor média de preço entre os tipos de imóveis:* Shared room, Private room, Entire home/apt;\n",
        ">* *Maior média de preço entre os tipos de imóveis:* Hotel room (apenas 7 amostras),  Entire home/apt, Private room.\n",
        ">* *Número médio de noites:* Aproximadamente 3.\n",
        "\n",
        "\n",
        "**Proprietários com mais de 2 imóveis (a média de preço é $105,51):**\n",
        "* *Menor média de preços:* Obergiesing, Moosach, Aubing-Lochhausen-Langwied;\n",
        "* *Maior média de preços:* Altstadt-Lehel, Untergiesing-Harlaching, Allach-Untermenzing;\n",
        "* *Maior número:* Ludwigsvorstadt-Isarvorstadt, Ramersdorf-Perlach, Maxvorstadt;\n",
        "* *Maior média de reviews:* Maxvorstadt, Schwabing-Freimann, Bogenhausen;\n",
        ">* *Tipo de de imóvel (maior número):* Entire home/apt, Private room, Hotel room;\n",
        ">* *Maior média de preços entre os tipos de imóveis:* Hotel room, Entire home/apt, Private room;\n",
        ">* *Menor média de preços entre os tipos de imóveis:* Shared room, Private room, Entire home/apt.\n",
        ">* *Número médio de noites:* Aproximadamente 5.\n",
        "\n"
      ]
    },
    {
      "cell_type": "markdown",
      "metadata": {
        "id": "7LyFCan9r0fi",
        "colab_type": "text"
      },
      "source": [
        "###**Q9. Qual a influência do número de reviews nos alugueis dos imóveis**\n",
        "\n"
      ]
    },
    {
      "cell_type": "code",
      "metadata": {
        "id": "6XTm-wmmmJsF",
        "colab_type": "code",
        "colab": {
          "base_uri": "https://localhost:8080/",
          "height": 170
        },
        "outputId": "0e90a34f-2107-483e-e5bc-da3a43be8887"
      },
      "source": [
        "# Analisar a distribuição do dateset\n",
        "df_clean.number_of_reviews.describe()"
      ],
      "execution_count": null,
      "outputs": [
        {
          "output_type": "execute_result",
          "data": {
            "text/plain": [
              "count    10789.000000\n",
              "mean        15.786542\n",
              "std         41.233893\n",
              "min          0.000000\n",
              "25%          1.000000\n",
              "50%          3.000000\n",
              "75%         12.000000\n",
              "max        688.000000\n",
              "Name: number_of_reviews, dtype: float64"
            ]
          },
          "metadata": {
            "tags": []
          },
          "execution_count": 82
        }
      ]
    },
    {
      "cell_type": "markdown",
      "metadata": {
        "id": "8kYLzeFysYdl",
        "colab_type": "text"
      },
      "source": [
        "Neste momento o dataset será dividido em dois subgrupos: Os imóveis que têm até 3 reviews e aqueles que tem mais de 3 reviews."
      ]
    },
    {
      "cell_type": "code",
      "metadata": {
        "id": "eLArHwBusy0t",
        "colab_type": "code",
        "colab": {
          "base_uri": "https://localhost:8080/",
          "height": 173
        },
        "outputId": "cc3b528f-0ed7-4076-9353-a89b5110f253"
      },
      "source": [
        "df_menos3 = df_clean.loc[df_clean['number_of_reviews']<=3]\n",
        "df_me3 = df_menos3[['neighbourhood', 'price', 'number_of_reviews']].groupby('neighbourhood').mean().sort_values(by='number_of_reviews', ascending=False)\n",
        "df_me3[:3]"
      ],
      "execution_count": null,
      "outputs": [
        {
          "output_type": "execute_result",
          "data": {
            "text/html": [
              "<div>\n",
              "<style scoped>\n",
              "    .dataframe tbody tr th:only-of-type {\n",
              "        vertical-align: middle;\n",
              "    }\n",
              "\n",
              "    .dataframe tbody tr th {\n",
              "        vertical-align: top;\n",
              "    }\n",
              "\n",
              "    .dataframe thead th {\n",
              "        text-align: right;\n",
              "    }\n",
              "</style>\n",
              "<table border=\"1\" class=\"dataframe\">\n",
              "  <thead>\n",
              "    <tr style=\"text-align: right;\">\n",
              "      <th></th>\n",
              "      <th>price</th>\n",
              "      <th>number_of_reviews</th>\n",
              "    </tr>\n",
              "    <tr>\n",
              "      <th>neighbourhood</th>\n",
              "      <th></th>\n",
              "      <th></th>\n",
              "    </tr>\n",
              "  </thead>\n",
              "  <tbody>\n",
              "    <tr>\n",
              "      <th>Milbertshofen-Am Hart</th>\n",
              "      <td>93.172691</td>\n",
              "      <td>1.120482</td>\n",
              "    </tr>\n",
              "    <tr>\n",
              "      <th>Schwabing-Freimann</th>\n",
              "      <td>110.520979</td>\n",
              "      <td>1.118881</td>\n",
              "    </tr>\n",
              "    <tr>\n",
              "      <th>Sendling-Westpark</th>\n",
              "      <td>104.789954</td>\n",
              "      <td>1.105023</td>\n",
              "    </tr>\n",
              "  </tbody>\n",
              "</table>\n",
              "</div>"
            ],
            "text/plain": [
              "                            price  number_of_reviews\n",
              "neighbourhood                                       \n",
              "Milbertshofen-Am Hart   93.172691           1.120482\n",
              "Schwabing-Freimann     110.520979           1.118881\n",
              "Sendling-Westpark      104.789954           1.105023"
            ]
          },
          "metadata": {
            "tags": []
          },
          "execution_count": 84
        }
      ]
    },
    {
      "cell_type": "code",
      "metadata": {
        "id": "pgSZR6iY1ZAG",
        "colab_type": "code",
        "colab": {
          "base_uri": "https://localhost:8080/",
          "height": 102
        },
        "outputId": "7ec3371b-4de2-44ff-8d62-9c07203b611e"
      },
      "source": [
        "df_menos3.room_type.value_counts()"
      ],
      "execution_count": null,
      "outputs": [
        {
          "output_type": "execute_result",
          "data": {
            "text/plain": [
              "Entire home/apt    3112\n",
              "Private room       2282\n",
              "Shared room          96\n",
              "Hotel room           48\n",
              "Name: room_type, dtype: int64"
            ]
          },
          "metadata": {
            "tags": []
          },
          "execution_count": 85
        }
      ]
    },
    {
      "cell_type": "code",
      "metadata": {
        "id": "_WJp558N3DDT",
        "colab_type": "code",
        "colab": {
          "base_uri": "https://localhost:8080/",
          "height": 34
        },
        "outputId": "6a16655c-cfe0-4143-b739-44d1e2ce3de5"
      },
      "source": [
        "print(\"A média valores praticados para imóveis com mais de 3 reviews é R$:{:.2f}\".format(df_menos3.price.mean()))"
      ],
      "execution_count": null,
      "outputs": [
        {
          "output_type": "stream",
          "text": [
            "A média valores praticados para imóveis com mais de 3 reviews é R$:114.19\n"
          ],
          "name": "stdout"
        }
      ]
    },
    {
      "cell_type": "code",
      "metadata": {
        "id": "baQLvAt1wzBT",
        "colab_type": "code",
        "colab": {
          "base_uri": "https://localhost:8080/",
          "height": 173
        },
        "outputId": "450229f0-0386-471e-969e-e7eba1f5d7da"
      },
      "source": [
        "df_mais3 = df_clean.loc[df_clean['number_of_reviews']>3]\n",
        "df_ma3 = df_menos3[['neighbourhood', 'price', 'number_of_reviews']].groupby('neighbourhood').mean().sort_values(by='number_of_reviews', ascending=False)\n",
        "df_ma3[:3]"
      ],
      "execution_count": null,
      "outputs": [
        {
          "output_type": "execute_result",
          "data": {
            "text/html": [
              "<div>\n",
              "<style scoped>\n",
              "    .dataframe tbody tr th:only-of-type {\n",
              "        vertical-align: middle;\n",
              "    }\n",
              "\n",
              "    .dataframe tbody tr th {\n",
              "        vertical-align: top;\n",
              "    }\n",
              "\n",
              "    .dataframe thead th {\n",
              "        text-align: right;\n",
              "    }\n",
              "</style>\n",
              "<table border=\"1\" class=\"dataframe\">\n",
              "  <thead>\n",
              "    <tr style=\"text-align: right;\">\n",
              "      <th></th>\n",
              "      <th>price</th>\n",
              "      <th>number_of_reviews</th>\n",
              "    </tr>\n",
              "    <tr>\n",
              "      <th>neighbourhood</th>\n",
              "      <th></th>\n",
              "      <th></th>\n",
              "    </tr>\n",
              "  </thead>\n",
              "  <tbody>\n",
              "    <tr>\n",
              "      <th>Milbertshofen-Am Hart</th>\n",
              "      <td>93.172691</td>\n",
              "      <td>1.120482</td>\n",
              "    </tr>\n",
              "    <tr>\n",
              "      <th>Schwabing-Freimann</th>\n",
              "      <td>110.520979</td>\n",
              "      <td>1.118881</td>\n",
              "    </tr>\n",
              "    <tr>\n",
              "      <th>Sendling-Westpark</th>\n",
              "      <td>104.789954</td>\n",
              "      <td>1.105023</td>\n",
              "    </tr>\n",
              "  </tbody>\n",
              "</table>\n",
              "</div>"
            ],
            "text/plain": [
              "                            price  number_of_reviews\n",
              "neighbourhood                                       \n",
              "Milbertshofen-Am Hart   93.172691           1.120482\n",
              "Schwabing-Freimann     110.520979           1.118881\n",
              "Sendling-Westpark      104.789954           1.105023"
            ]
          },
          "metadata": {
            "tags": []
          },
          "execution_count": 87
        }
      ]
    },
    {
      "cell_type": "code",
      "metadata": {
        "id": "VOG8SneI0aiD",
        "colab_type": "code",
        "colab": {
          "base_uri": "https://localhost:8080/",
          "height": 102
        },
        "outputId": "82ef0fc7-7898-4e40-dc76-1344534f64a6"
      },
      "source": [
        "df_mais3.room_type.value_counts()"
      ],
      "execution_count": null,
      "outputs": [
        {
          "output_type": "execute_result",
          "data": {
            "text/plain": [
              "Entire home/apt    2933\n",
              "Private room       2210\n",
              "Shared room          84\n",
              "Hotel room           24\n",
              "Name: room_type, dtype: int64"
            ]
          },
          "metadata": {
            "tags": []
          },
          "execution_count": 88
        }
      ]
    },
    {
      "cell_type": "code",
      "metadata": {
        "id": "dmReM-Om3Jg9",
        "colab_type": "code",
        "colab": {
          "base_uri": "https://localhost:8080/",
          "height": 34
        },
        "outputId": "4806110b-5e4f-4d75-9e73-7e525d9cf4a1"
      },
      "source": [
        "print(\"A média valores praticados para imóveis com mais de 3 reviews é R$:{:.2f}\".format(df_mais3.price.mean()))"
      ],
      "execution_count": null,
      "outputs": [
        {
          "output_type": "stream",
          "text": [
            "A média valores praticados para imóveis com mais de 3 reviews é R$:93.61\n"
          ],
          "name": "stdout"
        }
      ]
    },
    {
      "cell_type": "markdown",
      "metadata": {
        "id": "13d_gmh32XV-",
        "colab_type": "text"
      },
      "source": [
        "**Imóveis com até pelo menos 3 reviews de média**\n",
        "\n",
        "* *Maior média de preço:* Altstadt-Lehel, Ludwigsvorstadt-Isarvorstadt, Schwanthalerhöhe;\n",
        "* *Menor média de preço:* Milbertshofen-Am Hart, Hadern, Laim;\n",
        "* *Maior média de reviews:* Milbertshofen-Am Hart, Schwabing-Freimann, Sendling-Westpark;\n",
        "* *Tipos de imóveis mais frequentes:* Entire home/apt, Private room, Shared room\n",
        "\n",
        "**Imóveis com mais de 3 reviews de média**\n",
        "\n",
        "* *Maior média de preço:* Altstadt-Lehel, Schwanthalerhöhe, Ludwigsvorstadt-Isarvorstadt;\n",
        "* *Menor média de preço:* Hadern, Ramersdorf-Perlach, Moosach;\n",
        "* *Maior média de reviews:* Feldmoching-Hasenbergl, Maxvorstadt, Schwabing-Freimann;\n",
        "* *Tipos de imóveis mais frequentes:* Entire home/apt, Private room, Shared room\n",
        "\n",
        "\n",
        "Apenas a variável preço parece demosntrar alguma relação com a variável reviews. A média de valor encontrado para imóveis com até 3 reviews é de 114,19 euros.\n"
      ]
    },
    {
      "cell_type": "markdown",
      "metadata": {
        "id": "MFa5NbnLJMcd",
        "colab_type": "text"
      },
      "source": [
        "### **Q10. Qual a localidade mais cara em Munique??**\n",
        "\n",
        "A localidade mais cara do dataset fica no bairro de \"Obergiesing\", e a id do imóvel é 7573527 e preço de $540,0. Contudo, os bairros com maiores médias de preço são, respectivamente: Altstadt-Lehel, Schwanthalerhöhe e Ludwigsvorstadt-Isarvorstadt. "
      ]
    },
    {
      "cell_type": "code",
      "metadata": {
        "id": "_yhk7iRysl9F",
        "colab_type": "code",
        "colab": {
          "base_uri": "https://localhost:8080/",
          "height": 80
        },
        "outputId": "ed389deb-7a62-4844-f3fc-4690d39cd3e1"
      },
      "source": [
        "#Localidade mais cara do dataset\n",
        "df_clean[['id', 'neighbourhood', 'room_type', 'price', 'latitude', 'longitude']].sort_values(by='price', ascending=False).head(1)"
      ],
      "execution_count": null,
      "outputs": [
        {
          "output_type": "execute_result",
          "data": {
            "text/html": [
              "<div>\n",
              "<style scoped>\n",
              "    .dataframe tbody tr th:only-of-type {\n",
              "        vertical-align: middle;\n",
              "    }\n",
              "\n",
              "    .dataframe tbody tr th {\n",
              "        vertical-align: top;\n",
              "    }\n",
              "\n",
              "    .dataframe thead th {\n",
              "        text-align: right;\n",
              "    }\n",
              "</style>\n",
              "<table border=\"1\" class=\"dataframe\">\n",
              "  <thead>\n",
              "    <tr style=\"text-align: right;\">\n",
              "      <th></th>\n",
              "      <th>id</th>\n",
              "      <th>neighbourhood</th>\n",
              "      <th>room_type</th>\n",
              "      <th>price</th>\n",
              "      <th>latitude</th>\n",
              "      <th>longitude</th>\n",
              "    </tr>\n",
              "  </thead>\n",
              "  <tbody>\n",
              "    <tr>\n",
              "      <th>1634</th>\n",
              "      <td>7573527</td>\n",
              "      <td>Obergiesing</td>\n",
              "      <td>Entire home/apt</td>\n",
              "      <td>540</td>\n",
              "      <td>48.11585</td>\n",
              "      <td>11.59255</td>\n",
              "    </tr>\n",
              "  </tbody>\n",
              "</table>\n",
              "</div>"
            ],
            "text/plain": [
              "           id neighbourhood        room_type  price  latitude  longitude\n",
              "1634  7573527   Obergiesing  Entire home/apt    540  48.11585   11.59255"
            ]
          },
          "metadata": {
            "tags": []
          },
          "execution_count": 112
        }
      ]
    },
    {
      "cell_type": "code",
      "metadata": {
        "id": "MD_xa143JZpi",
        "colab_type": "code",
        "colab": {
          "base_uri": "https://localhost:8080/",
          "height": 173
        },
        "outputId": "f2a1b432-7094-43e8-9c16-26f428ec5230"
      },
      "source": [
        "# ver preços por bairros, na média\n",
        "df_clean[['neighbourhood', 'price']].groupby(['neighbourhood']).mean().sort_values(by='price', ascending=False)[:3]"
      ],
      "execution_count": null,
      "outputs": [
        {
          "output_type": "execute_result",
          "data": {
            "text/html": [
              "<div>\n",
              "<style scoped>\n",
              "    .dataframe tbody tr th:only-of-type {\n",
              "        vertical-align: middle;\n",
              "    }\n",
              "\n",
              "    .dataframe tbody tr th {\n",
              "        vertical-align: top;\n",
              "    }\n",
              "\n",
              "    .dataframe thead th {\n",
              "        text-align: right;\n",
              "    }\n",
              "</style>\n",
              "<table border=\"1\" class=\"dataframe\">\n",
              "  <thead>\n",
              "    <tr style=\"text-align: right;\">\n",
              "      <th></th>\n",
              "      <th>price</th>\n",
              "    </tr>\n",
              "    <tr>\n",
              "      <th>neighbourhood</th>\n",
              "      <th></th>\n",
              "    </tr>\n",
              "  </thead>\n",
              "  <tbody>\n",
              "    <tr>\n",
              "      <th>Altstadt-Lehel</th>\n",
              "      <td>138.697051</td>\n",
              "    </tr>\n",
              "    <tr>\n",
              "      <th>Schwanthalerhöhe</th>\n",
              "      <td>122.547393</td>\n",
              "    </tr>\n",
              "    <tr>\n",
              "      <th>Ludwigsvorstadt-Isarvorstadt</th>\n",
              "      <td>121.670077</td>\n",
              "    </tr>\n",
              "  </tbody>\n",
              "</table>\n",
              "</div>"
            ],
            "text/plain": [
              "                                   price\n",
              "neighbourhood                           \n",
              "Altstadt-Lehel                138.697051\n",
              "Schwanthalerhöhe              122.547393\n",
              "Ludwigsvorstadt-Isarvorstadt  121.670077"
            ]
          },
          "metadata": {
            "tags": []
          },
          "execution_count": 113
        }
      ]
    },
    {
      "cell_type": "code",
      "metadata": {
        "id": "d9emTuWgP6pz",
        "colab_type": "code",
        "colab": {
          "base_uri": "https://localhost:8080/",
          "height": 459
        },
        "outputId": "9242ba36-4ac7-4d9e-e653-5b5636a0c147"
      },
      "source": [
        " #verificar número de locações por bairro\n",
        "df_clean['neighbourhood'].value_counts()"
      ],
      "execution_count": null,
      "outputs": [
        {
          "output_type": "execute_result",
          "data": {
            "text/plain": [
              "Ludwigsvorstadt-Isarvorstadt                              1173\n",
              "Maxvorstadt                                               1052\n",
              "Schwabing-West                                             807\n",
              "Neuhausen-Nymphenburg                                      751\n",
              "Au-Haidhausen                                              709\n",
              "Schwabing-Freimann                                         590\n",
              "Bogenhausen                                                506\n",
              "Milbertshofen-Am Hart                                      453\n",
              "Schwanthalerhöhe                                           422\n",
              "Sendling                                                   421\n",
              "Ramersdorf-Perlach                                         403\n",
              "Thalkirchen-Obersendling-Forstenried-Fürstenried-Solln     388\n",
              "Altstadt-Lehel                                             373\n",
              "Laim                                                       371\n",
              "Obergiesing                                                365\n",
              "Sendling-Westpark                                          362\n",
              "Untergiesing-Harlaching                                    327\n",
              "Tudering-Riem                                              292\n",
              "Pasing-Obermenzing                                         220\n",
              "Moosach                                                    212\n",
              "Berg am Laim                                               199\n",
              "Hadern                                                     131\n",
              "Feldmoching-Hasenbergl                                     105\n",
              "Aubing-Lochhausen-Langwied                                  87\n",
              "Allach-Untermenzing                                         70\n",
              "Name: neighbourhood, dtype: int64"
            ]
          },
          "metadata": {
            "tags": []
          },
          "execution_count": 115
        }
      ]
    },
    {
      "cell_type": "code",
      "metadata": {
        "id": "UxVJqJ_3W59I",
        "colab_type": "code",
        "colab": {
          "base_uri": "https://localhost:8080/",
          "height": 469
        },
        "outputId": "6cce2773-1576-41ea-c98c-a64f61cc8f74"
      },
      "source": [
        "# plotar os imóveis pela latitude-longitude\n",
        "df_clean.plot(kind=\"scatter\", x='longitude', y='latitude', alpha=0.4, c=df_clean['price'], s=8,\n",
        "              cmap=plt.get_cmap('jet'), figsize=(12,8));"
      ],
      "execution_count": null,
      "outputs": [
        {
          "output_type": "display_data",
          "data": {
            "image/png": "[encoded data removed]",
            "text/plain": [
              "<Figure size 864x576 with 2 Axes>"
            ]
          },
          "metadata": {
            "tags": [],
            "needs_background": "light"
          }
        }
      ]
    },
    {
      "cell_type": "markdown",
      "metadata": {
        "id": "xfTqhOJwE16B",
        "colab_type": "text"
      },
      "source": [
        "***--***\n",
        "\n",
        "Apesar de a distribuição do número dos imóveis não ser uniforme ao longo dos bairros, apenas dois bairros têm menos de 100 imóveis (Allach-Untermenzing  - 70 e Aubing-Lochhausen-Langwied - 87), o que reduz o efeito de amostra não representativas.\n",
        "\n",
        "Como são fornecidas as Latitudes e Longitudes para os imóveis, é possível plotar cada ponto. Para isso, será considerado \"x=longitude\" e \"y=latitude\"."
      ]
    },
    {
      "cell_type": "markdown",
      "metadata": {
        "id": "vTneAMRUYvr1",
        "colab_type": "text"
      },
      "source": [
        "### **Q11. Qual é a média do mínimo de noites para aluguel (minimum_nights)?**"
      ]
    },
    {
      "cell_type": "code",
      "metadata": {
        "id": "_VzNhrEgY82N",
        "colab_type": "code",
        "colab": {
          "base_uri": "https://localhost:8080/",
          "height": 51
        },
        "outputId": "5a2a65ec-2ded-432a-9d92-cf8653d9a672"
      },
      "source": [
        "# ver a média da coluna `minimum_nights``\n",
        "nights = df_clean['minimum_nights'].mean()\n",
        "print('A média do mínimo de noites é {}'.format(int(nights)))\n",
        "print(\"(Considerando um valor máximo de $547,00)\")"
      ],
      "execution_count": null,
      "outputs": [
        {
          "output_type": "stream",
          "text": [
            "A média do mínimo de noites é 3\n",
            "(Considerando um valor máximo de $547,00)\n"
          ],
          "name": "stdout"
        }
      ]
    },
    {
      "cell_type": "markdown",
      "metadata": {
        "id": "GkvAg623RjoR",
        "colab_type": "text"
      },
      "source": [
        "### Conclusões\n"
      ]
    },
    {
      "cell_type": "markdown",
      "metadata": {
        "id": "rbZ3Hsy9Ypw8",
        "colab_type": "text"
      },
      "source": [
        "\n",
        "Após uma análise inicial do dataset pudemos verificar que a maior disponibilidade de imóveis e as maiores médias de preços praticados informados neste dataset estão nos bairros mais centrais da cidade.\n",
        "\n",
        "Uma análise dos preços praticados na cidade:\n",
        "* Apesar de uma cidade com elevada ação turística para o mês de outubro (Oktoberfest), a disponibilidadde de imóveis com preços até $129 (representam 75% de todos os imóveis disponíveis) é ampplamente distribido por toda a cidade (ver pontos roxos no gráfico de latitude longitude).\n",
        "* A maior quantidade de imóveis disponíveis está localizada no centro da cidade, especialmente no bairro de Ludwigsvorstadt-Isavorstadt;\n",
        "* Imóveis localizados em bairros mais periféricos têm, em média, menores valores.\n",
        "\n",
        "Para os bairros:\n",
        "* O bairro com maior número de imóveis dispoíveis é o Ludwigsvorstadt-Isarvorstadt (8,5% mais caro que 75% dos imóveis);\n",
        "* O bairro com maior média de preço é o Altstadt-Lehel (24% mais caro que 75% dos imóveis e que concentra majoritariamente a arquitetura germânica tradicional.\n",
        "\n",
        "Dentro da classificação do Airbnb para os tipos de imóveis:\n",
        "* Os quartos de hotel são os que têm a maior média de preço (86% mais caro que 75% dos imóveis) e concentram mais reviews. Entretanto, respondem pela menor parcela de possibilidades (menos de 1% de todos os registros);\n",
        "* A maior possibilidade de imóveis para alguel é do tipo casa/apartamento completo, que responde por 56% dos imóveis disponíveis e com média de preço de 1,6% maior quue 75% dos imóveis cadastrados.\n",
        "\n",
        "Sobre os proprietários dos imóveis:\n",
        "* A grande maioria dos proprietários possuem apenas um imóvel.\n",
        "* Idependente do número de imóveis do proprietário bairros mais afastados do centro tendem a ser mais baratos que os da região central, tendo \"Hadern\" e \"Ludwigsvorstadt-Isavorstadt\" como exemplos, respectivamente;\n",
        "* Exceto pelo bairro de Maxvorstadt (bairro localizado mais ao centro) os proprietários que têm seus imóveis localizados em bairros mais periféricos tendem a ter maior média de reviews.\n",
        "\n",
        "Influência do número de reviews:\n",
        "* Não foi possível identificar diferenças nos números de reviews na relação \"preços praticados\" x \"bairros\" x \"tipos de imóveis\";\n",
        "* imóveis com até 3 reviews seriam, em média, cerca de 25% mais caros que os imóveis com mais de 3 reviews.\n",
        "\n",
        "Por essa análise podemos concluir que os imóveis da cidade de Munique cadastrados no Airbnb podem ser encontrados ao longo de toda a cidade com maior concentração nos bairros centrais. As médias de preços alteram de bairro para bairro (principalmente para os que oferecem maiores atrações turísticas), mas sem muito esforço pode-se econtrar ótimos preços. Apesar de todo o fluxo de turistas que a Oktoberfest traz à cidade, aparentemente, existe grande possibilidade de hospedar-se no bairro que evento ocorre pagando um ótimo preço idependende se for um viajante sozinho ou em grupo."
      ]
    },
    {
      "cell_type": "code",
      "metadata": {
        "id": "O9jaygXvZs2f",
        "colab_type": "code",
        "colab": {
          "base_uri": "https://localhost:8080/",
          "height": 187
        },
        "outputId": "50e70d20-8527-4478-9e24-08264f9fd7a2"
      },
      "source": [
        "# Simulação de uma viagem: 4 pessoas, uma semana, até $20/dia, mais próximo ao centro\n",
        "hospedagem = df_clean.loc[df_clean['room_type']=='Entire home/apt']\n",
        "tempo = hospedagem.loc[hospedagem['minimum_nights']<=7]\n",
        "valor = tempo.loc[tempo['price']<=20]\n",
        "valor['neighbourhood'].value_counts()"
      ],
      "execution_count": null,
      "outputs": [
        {
          "output_type": "execute_result",
          "data": {
            "text/plain": [
              "Schwabing-Freimann         5\n",
              "Obergiesing                2\n",
              "Milbertshofen-Am Hart      1\n",
              "Maxvorstadt                1\n",
              "Au-Haidhausen              1\n",
              "Schwabing-West             1\n",
              "Berg am Laim               1\n",
              "Untergiesing-Harlaching    1\n",
              "Sendling                   1\n",
              "Name: neighbourhood, dtype: int64"
            ]
          },
          "metadata": {
            "tags": []
          },
          "execution_count": 118
        }
      ]
    },
    {
      "cell_type": "code",
      "metadata": {
        "id": "NRAKjh5THN_M",
        "colab_type": "code",
        "colab": {
          "base_uri": "https://localhost:8080/",
          "height": 117
        },
        "outputId": "df9fd08a-8b4d-4941-ce82-84e0c87ce322"
      },
      "source": [
        "valor.loc[valor['neighbourhood']=='Sendling']"
      ],
      "execution_count": null,
      "outputs": [
        {
          "output_type": "execute_result",
          "data": {
            "text/html": [
              "<div>\n",
              "<style scoped>\n",
              "    .dataframe tbody tr th:only-of-type {\n",
              "        vertical-align: middle;\n",
              "    }\n",
              "\n",
              "    .dataframe tbody tr th {\n",
              "        vertical-align: top;\n",
              "    }\n",
              "\n",
              "    .dataframe thead th {\n",
              "        text-align: right;\n",
              "    }\n",
              "</style>\n",
              "<table border=\"1\" class=\"dataframe\">\n",
              "  <thead>\n",
              "    <tr style=\"text-align: right;\">\n",
              "      <th></th>\n",
              "      <th>id</th>\n",
              "      <th>name</th>\n",
              "      <th>host_id</th>\n",
              "      <th>host_name</th>\n",
              "      <th>neighbourhood</th>\n",
              "      <th>latitude</th>\n",
              "      <th>longitude</th>\n",
              "      <th>room_type</th>\n",
              "      <th>price</th>\n",
              "      <th>minimum_nights</th>\n",
              "      <th>number_of_reviews</th>\n",
              "      <th>last_review</th>\n",
              "      <th>reviews_per_month</th>\n",
              "      <th>calculated_host_listings_count</th>\n",
              "      <th>availability_365</th>\n",
              "    </tr>\n",
              "  </thead>\n",
              "  <tbody>\n",
              "    <tr>\n",
              "      <th>2817</th>\n",
              "      <td>12043670</td>\n",
              "      <td>LOW BUDGET UNTERKUNFT</td>\n",
              "      <td>64484567</td>\n",
              "      <td>Nesta</td>\n",
              "      <td>Sendling</td>\n",
              "      <td>48.12543</td>\n",
              "      <td>11.54372</td>\n",
              "      <td>Entire home/apt</td>\n",
              "      <td>19</td>\n",
              "      <td>2</td>\n",
              "      <td>16</td>\n",
              "      <td>2017-02-18</td>\n",
              "      <td>0.32</td>\n",
              "      <td>1</td>\n",
              "      <td>0</td>\n",
              "    </tr>\n",
              "  </tbody>\n",
              "</table>\n",
              "</div>"
            ],
            "text/plain": [
              "            id  ... availability_365\n",
              "2817  12043670  ...                0\n",
              "\n",
              "[1 rows x 15 columns]"
            ]
          },
          "metadata": {
            "tags": []
          },
          "execution_count": 124
        }
      ]
    },
    {
      "cell_type": "markdown",
      "metadata": {
        "id": "mmhJWPIXGaV_",
        "colab_type": "text"
      },
      "source": [
        "Dessa forma, minha pesquisa retornou 4 imóveis em 4 bairros distintos:\n",
        "* **Maxvorstadt:**  id(23114484), valor($20,00), reviews(0);\n",
        "\n",
        "* **Au-Haidhausen:** id(34992016), valor($18,00), reviews(19).\n",
        "\n",
        "* **Schwabing-West:** id(35226303), valor($11,00), reviews(3);\n",
        "\n",
        "* **Sendling:** id(12043670), valor($19,00), reviews(16);\n",
        "\n"
      ]
    }
  ]
}