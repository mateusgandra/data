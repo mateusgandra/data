{
  "nbformat": 4,
  "nbformat_minor": 0,
  "metadata": {
    "colab": {
      "name": "Analisando_os_Crimes_do_Rio_de_Janeiro",
      "provenance": [],
      "collapsed_sections": [],
      "authorship_tag": "ABX9TyMsi3lR61kVgkoNiENi7chs",
      "include_colab_link": true
    },
    "kernelspec": {
      "name": "python3",
      "display_name": "Python 3"
    }
  },
  "cells": [
    {
      "cell_type": "markdown",
      "metadata": {
        "id": "view-in-github",
        "colab_type": "text"
      },
      "source": [
        "<a href=\"https://colab.research.google.com/github/mateusgandra/data_science/blob/master/Analisando_os_Crimes_do_Rio_de_Janeiro.ipynb\" target=\"_parent\"><img src=\"https://colab.research.google.com/assets/colab-badge.svg\" alt=\"Open In Colab\"/></a>"
      ]
    },
    {
      "cell_type": "markdown",
      "metadata": {
        "id": "nWfUXlfUMzN2",
        "colab_type": "text"
      },
      "source": [
        "<img alt=\"Colaboratory logo\" width=\"15%\" src=\"https://raw.githubusercontent.com/carlosfab/escola-data-science/master/img/novo_logo_bg_claro.png\">\n",
        "\n",
        "#### **Data Science na Prática 2.0**\n",
        "*by [sigmoidal.ai](https://sigmoidal.ai)*\n",
        "\n",
        "---\n"
      ]
    },
    {
      "cell_type": "markdown",
      "metadata": {
        "id": "m8q1KE79LlEU",
        "colab_type": "text"
      },
      "source": [
        "## Analisando a Violência no Rio de Janeiro"
      ]
    },
    {
      "cell_type": "markdown",
      "metadata": {
        "id": "q-z4SEQY5Axa",
        "colab_type": "text"
      },
      "source": [
        "<img alt=\"Landscape Munique\" width=\"100%\" src=\"https://github.com/mateusgandra/suporte/blob/master/violencia_rj.png?raw=true\">\n"
      ]
    },
    {
      "cell_type": "markdown",
      "metadata": {
        "id": "9c2h1sdt5Cwk",
        "colab_type": "text"
      },
      "source": [
        "O Rio de Janeiro é um estado que vivê uma triste dualidade na cabeça dos brasileiros e talvez de todos que acompanham as notícias no país. É um estado que remete a lindas paisagens seja com aspectos serranos (como Petrópolis, Nova Friburgo e Teresópolis), seja com aspectos litorâneos (como Rio de Janeiro, Buzios e Parati). A prórpia capital do estodo nspiração para músicas memoráveis (Garota de Ipanema - Tom Jobim), contem paiságens que são \"de tirar o fôlego\" (Pão de Açucar e Corcovado). Por outro lado, é um estado marcado por uma violência em níveis de gerras com presença de facções criminosas, grande disponibilidade de armas de fogo, territórios complexos e com urbanização caótica e elevado contingente de crianças e jovens sem acesso a um desenvolvimento infantil minimamente razoável (Fonte: [Revista Época](https://epoca.globo.com/brasil/noticia/2018/02/o-rio-de-janeiro-tem-solucao.html)).\n",
        "Este projeto visa analisar de maneira simplificada algumas das variaives consideradas para quantificar a violência na cidade do Rio de Janeiro."
      ]
    },
    {
      "cell_type": "markdown",
      "metadata": {
        "id": "Zqz4Pa5Z3qWe",
        "colab_type": "text"
      },
      "source": [
        "##Obtenção dos dados\n",
        "\n",
        "As informações trabalhadas nesse projeto estão disponíveis no site do Governo do Estado do Rio de Janeiro - Instituto de Segurança Pública [\"ISP - Dados Abertos\"](http://www.ispdados.rj.gov.br/estatistica.html).\n",
        "\n",
        "O arquivo CSV utilizado \"Estatísticas de segurança: série histórica mensal por área de delegacia desde 01/2003\", disponíveis neste [**link**](http://www.ispdados.rj.gov.br/Arquivos/BaseDPEvolucaoMensalCisp.csv), cobre valores mensais de ações que ferem a segurança no estado desde o ano de 2013, em uma contagem mensal."
      ]
    },
    {
      "cell_type": "code",
      "metadata": {
        "id": "K-ZHwtH1nlEk",
        "colab_type": "code",
        "colab": {
          "base_uri": "https://localhost:8080/",
          "height": 71
        },
        "outputId": "bec0e1bb-29dc-4a6b-f7c8-5115d59e93fb"
      },
      "source": [
        "# Importa as bibliotecas\n",
        "import pandas as pd\n",
        "import numpy as np\n",
        "import matplotlib.pyplot as plt\n",
        "import seaborn as sns\n",
        "\n",
        "%matplotlib inline"
      ],
      "execution_count": null,
      "outputs": [
        {
          "output_type": "stream",
          "text": [
            "/usr/local/lib/python3.6/dist-packages/statsmodels/tools/_testing.py:19: FutureWarning: pandas.util.testing is deprecated. Use the functions in the public API at pandas.testing instead.\n",
            "  import pandas.util.testing as tm\n"
          ],
          "name": "stderr"
        }
      ]
    },
    {
      "cell_type": "code",
      "metadata": {
        "id": "t9IIJRaZnvaI",
        "colab_type": "code",
        "colab": {
          "base_uri": "https://localhost:8080/",
          "height": 71
        },
        "outputId": "189fd196-92df-48b2-a722-a6aad785d593"
      },
      "source": [
        "# Importa os arquivos\n",
        "data = pd.read_csv('http://www.ispdados.rj.gov.br/Arquivos/BaseDPEvolucaoMensalCisp.csv', sep=';', encoding='iso-8859-1')"
      ],
      "execution_count": null,
      "outputs": [
        {
          "output_type": "stream",
          "text": [
            "/usr/local/lib/python3.6/dist-packages/IPython/core/interactiveshell.py:2718: DtypeWarning: Columns (26,30,37,45,46,47,49,50,51,52) have mixed types.Specify dtype option on import or set low_memory=False.\n",
            "  interactivity=interactivity, compiler=compiler, result=result)\n"
          ],
          "name": "stderr"
        }
      ]
    },
    {
      "cell_type": "code",
      "metadata": {
        "id": "iPSjc-H0rMiR",
        "colab_type": "code",
        "colab": {
          "base_uri": "https://localhost:8080/",
          "height": 309
        },
        "outputId": "297a0111-686d-41b3-9ae9-0f2a82433845"
      },
      "source": [
        "# Cria uma cópia independente do dataset e mostra as primeiras cinco linhas\n",
        "df = data.copy(deep=True)\n",
        "df.head()"
      ],
      "execution_count": null,
      "outputs": [
        {
          "output_type": "execute_result",
          "data": {
            "text/html": [
              "<div>\n",
              "<style scoped>\n",
              "    .dataframe tbody tr th:only-of-type {\n",
              "        vertical-align: middle;\n",
              "    }\n",
              "\n",
              "    .dataframe tbody tr th {\n",
              "        vertical-align: top;\n",
              "    }\n",
              "\n",
              "    .dataframe thead th {\n",
              "        text-align: right;\n",
              "    }\n",
              "</style>\n",
              "<table border=\"1\" class=\"dataframe\">\n",
              "  <thead>\n",
              "    <tr style=\"text-align: right;\">\n",
              "      <th></th>\n",
              "      <th>CISP</th>\n",
              "      <th>mes</th>\n",
              "      <th>ano</th>\n",
              "      <th>mes_ano</th>\n",
              "      <th>AISP</th>\n",
              "      <th>RISP</th>\n",
              "      <th>munic</th>\n",
              "      <th>mcirc</th>\n",
              "      <th>Regiao</th>\n",
              "      <th>hom_doloso</th>\n",
              "      <th>lesao_corp_morte</th>\n",
              "      <th>latrocinio</th>\n",
              "      <th>hom_por_interv_policial</th>\n",
              "      <th>letalidade_violenta</th>\n",
              "      <th>tentat_hom</th>\n",
              "      <th>lesao_corp_dolosa</th>\n",
              "      <th>estupro</th>\n",
              "      <th>hom_culposo</th>\n",
              "      <th>lesao_corp_culposa</th>\n",
              "      <th>roubo_comercio</th>\n",
              "      <th>roubo_residencia</th>\n",
              "      <th>roubo_veiculo</th>\n",
              "      <th>roubo_carga</th>\n",
              "      <th>roubo_transeunte</th>\n",
              "      <th>roubo_em_coletivo</th>\n",
              "      <th>roubo_banco</th>\n",
              "      <th>roubo_cx_eletronico</th>\n",
              "      <th>roubo_celular</th>\n",
              "      <th>roubo_conducao_saque</th>\n",
              "      <th>roubo_apos_saque</th>\n",
              "      <th>roubo_bicicleta</th>\n",
              "      <th>outros_roubos</th>\n",
              "      <th>total_roubos</th>\n",
              "      <th>furto_veiculos</th>\n",
              "      <th>furto_transeunte</th>\n",
              "      <th>furto_coletivo</th>\n",
              "      <th>furto_celular</th>\n",
              "      <th>furto_bicicleta</th>\n",
              "      <th>outros_furtos</th>\n",
              "      <th>total_furtos</th>\n",
              "      <th>sequestro</th>\n",
              "      <th>extorsao</th>\n",
              "      <th>sequestro_relampago</th>\n",
              "      <th>estelionato</th>\n",
              "      <th>apreensao_drogas</th>\n",
              "      <th>posse_drogas</th>\n",
              "      <th>trafico_drogas</th>\n",
              "      <th>apreensao_drogas_sem_autor</th>\n",
              "      <th>recuperacao_veiculos</th>\n",
              "      <th>apf</th>\n",
              "      <th>aaapai</th>\n",
              "      <th>cmp</th>\n",
              "      <th>cmba</th>\n",
              "      <th>ameaca</th>\n",
              "      <th>pessoas_desaparecidas</th>\n",
              "      <th>encontro_cadaver</th>\n",
              "      <th>encontro_ossada</th>\n",
              "      <th>pol_militares_mortos_serv</th>\n",
              "      <th>pol_civis_mortos_serv</th>\n",
              "      <th>indicador_cvli</th>\n",
              "      <th>indicador_roubo_rua</th>\n",
              "      <th>indicador_roubo_veic</th>\n",
              "      <th>indicador_roubo_carga</th>\n",
              "      <th>registro_ocorrencias</th>\n",
              "      <th>fase</th>\n",
              "    </tr>\n",
              "  </thead>\n",
              "  <tbody>\n",
              "    <tr>\n",
              "      <th>0</th>\n",
              "      <td>1</td>\n",
              "      <td>1</td>\n",
              "      <td>2003</td>\n",
              "      <td>2003m1</td>\n",
              "      <td>5</td>\n",
              "      <td>1</td>\n",
              "      <td>Rio de Janeiro</td>\n",
              "      <td>3304557</td>\n",
              "      <td>Capital</td>\n",
              "      <td>0</td>\n",
              "      <td>0</td>\n",
              "      <td>0</td>\n",
              "      <td>0</td>\n",
              "      <td>0</td>\n",
              "      <td>1</td>\n",
              "      <td>40</td>\n",
              "      <td>0</td>\n",
              "      <td>1</td>\n",
              "      <td>15</td>\n",
              "      <td>14</td>\n",
              "      <td>0</td>\n",
              "      <td>5</td>\n",
              "      <td>1</td>\n",
              "      <td>26</td>\n",
              "      <td>8</td>\n",
              "      <td>0</td>\n",
              "      <td>0</td>\n",
              "      <td>32</td>\n",
              "      <td>0</td>\n",
              "      <td>10</td>\n",
              "      <td></td>\n",
              "      <td>4</td>\n",
              "      <td>100</td>\n",
              "      <td>12</td>\n",
              "      <td>30</td>\n",
              "      <td>0</td>\n",
              "      <td>37</td>\n",
              "      <td></td>\n",
              "      <td>90</td>\n",
              "      <td>169</td>\n",
              "      <td>0</td>\n",
              "      <td>1</td>\n",
              "      <td>0</td>\n",
              "      <td>69</td>\n",
              "      <td>1</td>\n",
              "      <td></td>\n",
              "      <td></td>\n",
              "      <td></td>\n",
              "      <td>5</td>\n",
              "      <td></td>\n",
              "      <td></td>\n",
              "      <td></td>\n",
              "      <td></td>\n",
              "      <td>21</td>\n",
              "      <td>2</td>\n",
              "      <td>0</td>\n",
              "      <td>0</td>\n",
              "      <td>0</td>\n",
              "      <td>0</td>\n",
              "      <td>0</td>\n",
              "      <td>66</td>\n",
              "      <td>5</td>\n",
              "      <td>1</td>\n",
              "      <td>578</td>\n",
              "      <td>3</td>\n",
              "    </tr>\n",
              "    <tr>\n",
              "      <th>1</th>\n",
              "      <td>4</td>\n",
              "      <td>1</td>\n",
              "      <td>2003</td>\n",
              "      <td>2003m1</td>\n",
              "      <td>5</td>\n",
              "      <td>1</td>\n",
              "      <td>Rio de Janeiro</td>\n",
              "      <td>3304557</td>\n",
              "      <td>Capital</td>\n",
              "      <td>3</td>\n",
              "      <td>0</td>\n",
              "      <td>0</td>\n",
              "      <td>0</td>\n",
              "      <td>3</td>\n",
              "      <td>0</td>\n",
              "      <td>47</td>\n",
              "      <td>1</td>\n",
              "      <td>4</td>\n",
              "      <td>35</td>\n",
              "      <td>5</td>\n",
              "      <td>0</td>\n",
              "      <td>9</td>\n",
              "      <td>1</td>\n",
              "      <td>25</td>\n",
              "      <td>12</td>\n",
              "      <td>0</td>\n",
              "      <td>1</td>\n",
              "      <td>14</td>\n",
              "      <td>1</td>\n",
              "      <td>3</td>\n",
              "      <td></td>\n",
              "      <td>11</td>\n",
              "      <td>82</td>\n",
              "      <td>9</td>\n",
              "      <td>42</td>\n",
              "      <td>5</td>\n",
              "      <td>23</td>\n",
              "      <td></td>\n",
              "      <td>36</td>\n",
              "      <td>115</td>\n",
              "      <td>0</td>\n",
              "      <td>1</td>\n",
              "      <td>0</td>\n",
              "      <td>1</td>\n",
              "      <td>35</td>\n",
              "      <td></td>\n",
              "      <td></td>\n",
              "      <td></td>\n",
              "      <td>7</td>\n",
              "      <td></td>\n",
              "      <td></td>\n",
              "      <td></td>\n",
              "      <td></td>\n",
              "      <td>15</td>\n",
              "      <td>6</td>\n",
              "      <td>0</td>\n",
              "      <td>1</td>\n",
              "      <td>0</td>\n",
              "      <td>0</td>\n",
              "      <td>3</td>\n",
              "      <td>51</td>\n",
              "      <td>9</td>\n",
              "      <td>1</td>\n",
              "      <td>441</td>\n",
              "      <td>3</td>\n",
              "    </tr>\n",
              "    <tr>\n",
              "      <th>2</th>\n",
              "      <td>5</td>\n",
              "      <td>1</td>\n",
              "      <td>2003</td>\n",
              "      <td>2003m1</td>\n",
              "      <td>5</td>\n",
              "      <td>1</td>\n",
              "      <td>Rio de Janeiro</td>\n",
              "      <td>3304557</td>\n",
              "      <td>Capital</td>\n",
              "      <td>3</td>\n",
              "      <td>0</td>\n",
              "      <td>0</td>\n",
              "      <td>0</td>\n",
              "      <td>3</td>\n",
              "      <td>1</td>\n",
              "      <td>73</td>\n",
              "      <td>2</td>\n",
              "      <td>1</td>\n",
              "      <td>19</td>\n",
              "      <td>10</td>\n",
              "      <td>1</td>\n",
              "      <td>11</td>\n",
              "      <td>5</td>\n",
              "      <td>26</td>\n",
              "      <td>4</td>\n",
              "      <td>2</td>\n",
              "      <td>0</td>\n",
              "      <td>34</td>\n",
              "      <td>2</td>\n",
              "      <td>4</td>\n",
              "      <td></td>\n",
              "      <td>24</td>\n",
              "      <td>123</td>\n",
              "      <td>28</td>\n",
              "      <td>42</td>\n",
              "      <td>2</td>\n",
              "      <td>47</td>\n",
              "      <td></td>\n",
              "      <td>97</td>\n",
              "      <td>216</td>\n",
              "      <td>0</td>\n",
              "      <td>0</td>\n",
              "      <td>0</td>\n",
              "      <td>37</td>\n",
              "      <td>4</td>\n",
              "      <td></td>\n",
              "      <td></td>\n",
              "      <td></td>\n",
              "      <td>10</td>\n",
              "      <td></td>\n",
              "      <td></td>\n",
              "      <td></td>\n",
              "      <td></td>\n",
              "      <td>47</td>\n",
              "      <td>2</td>\n",
              "      <td>1</td>\n",
              "      <td>0</td>\n",
              "      <td>0</td>\n",
              "      <td>0</td>\n",
              "      <td>3</td>\n",
              "      <td>64</td>\n",
              "      <td>11</td>\n",
              "      <td>5</td>\n",
              "      <td>637</td>\n",
              "      <td>3</td>\n",
              "    </tr>\n",
              "    <tr>\n",
              "      <th>3</th>\n",
              "      <td>6</td>\n",
              "      <td>1</td>\n",
              "      <td>2003</td>\n",
              "      <td>2003m1</td>\n",
              "      <td>1</td>\n",
              "      <td>1</td>\n",
              "      <td>Rio de Janeiro</td>\n",
              "      <td>3304557</td>\n",
              "      <td>Capital</td>\n",
              "      <td>6</td>\n",
              "      <td>0</td>\n",
              "      <td>0</td>\n",
              "      <td>0</td>\n",
              "      <td>6</td>\n",
              "      <td>2</td>\n",
              "      <td>43</td>\n",
              "      <td>2</td>\n",
              "      <td>1</td>\n",
              "      <td>20</td>\n",
              "      <td>10</td>\n",
              "      <td>0</td>\n",
              "      <td>27</td>\n",
              "      <td>6</td>\n",
              "      <td>14</td>\n",
              "      <td>22</td>\n",
              "      <td>0</td>\n",
              "      <td>0</td>\n",
              "      <td>20</td>\n",
              "      <td>0</td>\n",
              "      <td>6</td>\n",
              "      <td></td>\n",
              "      <td>38</td>\n",
              "      <td>143</td>\n",
              "      <td>17</td>\n",
              "      <td>4</td>\n",
              "      <td>0</td>\n",
              "      <td>8</td>\n",
              "      <td></td>\n",
              "      <td>61</td>\n",
              "      <td>90</td>\n",
              "      <td>0</td>\n",
              "      <td>0</td>\n",
              "      <td>0</td>\n",
              "      <td>8</td>\n",
              "      <td>20</td>\n",
              "      <td></td>\n",
              "      <td></td>\n",
              "      <td></td>\n",
              "      <td>77</td>\n",
              "      <td></td>\n",
              "      <td></td>\n",
              "      <td></td>\n",
              "      <td></td>\n",
              "      <td>26</td>\n",
              "      <td>2</td>\n",
              "      <td>1</td>\n",
              "      <td>0</td>\n",
              "      <td>0</td>\n",
              "      <td>0</td>\n",
              "      <td>6</td>\n",
              "      <td>56</td>\n",
              "      <td>27</td>\n",
              "      <td>6</td>\n",
              "      <td>473</td>\n",
              "      <td>3</td>\n",
              "    </tr>\n",
              "    <tr>\n",
              "      <th>4</th>\n",
              "      <td>7</td>\n",
              "      <td>1</td>\n",
              "      <td>2003</td>\n",
              "      <td>2003m1</td>\n",
              "      <td>1</td>\n",
              "      <td>1</td>\n",
              "      <td>Rio de Janeiro</td>\n",
              "      <td>3304557</td>\n",
              "      <td>Capital</td>\n",
              "      <td>4</td>\n",
              "      <td>0</td>\n",
              "      <td>0</td>\n",
              "      <td>0</td>\n",
              "      <td>4</td>\n",
              "      <td>2</td>\n",
              "      <td>18</td>\n",
              "      <td>2</td>\n",
              "      <td>0</td>\n",
              "      <td>2</td>\n",
              "      <td>0</td>\n",
              "      <td>2</td>\n",
              "      <td>23</td>\n",
              "      <td>1</td>\n",
              "      <td>4</td>\n",
              "      <td>0</td>\n",
              "      <td>0</td>\n",
              "      <td>0</td>\n",
              "      <td>1</td>\n",
              "      <td>0</td>\n",
              "      <td>1</td>\n",
              "      <td></td>\n",
              "      <td>23</td>\n",
              "      <td>55</td>\n",
              "      <td>12</td>\n",
              "      <td>1</td>\n",
              "      <td>0</td>\n",
              "      <td>1</td>\n",
              "      <td></td>\n",
              "      <td>21</td>\n",
              "      <td>35</td>\n",
              "      <td>0</td>\n",
              "      <td>0</td>\n",
              "      <td>0</td>\n",
              "      <td>4</td>\n",
              "      <td>3</td>\n",
              "      <td></td>\n",
              "      <td></td>\n",
              "      <td></td>\n",
              "      <td>9</td>\n",
              "      <td></td>\n",
              "      <td></td>\n",
              "      <td></td>\n",
              "      <td></td>\n",
              "      <td>10</td>\n",
              "      <td>1</td>\n",
              "      <td>3</td>\n",
              "      <td>0</td>\n",
              "      <td>0</td>\n",
              "      <td>0</td>\n",
              "      <td>4</td>\n",
              "      <td>5</td>\n",
              "      <td>23</td>\n",
              "      <td>1</td>\n",
              "      <td>147</td>\n",
              "      <td>3</td>\n",
              "    </tr>\n",
              "  </tbody>\n",
              "</table>\n",
              "</div>"
            ],
            "text/plain": [
              "   CISP  mes   ano  ... indicador_roubo_carga  registro_ocorrencias  fase\n",
              "0     1    1  2003  ...                     1                   578     3\n",
              "1     4    1  2003  ...                     1                   441     3\n",
              "2     5    1  2003  ...                     5                   637     3\n",
              "3     6    1  2003  ...                     6                   473     3\n",
              "4     7    1  2003  ...                     1                   147     3\n",
              "\n",
              "[5 rows x 65 columns]"
            ]
          },
          "metadata": {
            "tags": []
          },
          "execution_count": 4
        }
      ]
    },
    {
      "cell_type": "markdown",
      "metadata": {
        "id": "4hYsa25EhusE",
        "colab_type": "text"
      },
      "source": [
        "## Análise descritiva e preparo do dataset"
      ]
    },
    {
      "cell_type": "code",
      "metadata": {
        "id": "SxOD7zA3esM2",
        "colab_type": "code",
        "colab": {
          "base_uri": "https://localhost:8080/",
          "height": 323
        },
        "outputId": "292c2be7-544f-4391-da1a-6d3cb742f1fe"
      },
      "source": [
        "# Retorna todas as variáveis do dataset\n",
        "df.columns"
      ],
      "execution_count": null,
      "outputs": [
        {
          "output_type": "execute_result",
          "data": {
            "text/plain": [
              "Index(['CISP', 'mes', 'ano', 'mes_ano', 'AISP', 'RISP', 'munic', 'mcirc',\n",
              "       'Regiao', 'hom_doloso', 'lesao_corp_morte', 'latrocinio',\n",
              "       'hom_por_interv_policial', 'letalidade_violenta', 'tentat_hom',\n",
              "       'lesao_corp_dolosa', 'estupro', 'hom_culposo', 'lesao_corp_culposa',\n",
              "       'roubo_comercio', 'roubo_residencia', 'roubo_veiculo', 'roubo_carga',\n",
              "       'roubo_transeunte', 'roubo_em_coletivo', 'roubo_banco',\n",
              "       'roubo_cx_eletronico', 'roubo_celular', 'roubo_conducao_saque',\n",
              "       'roubo_apos_saque', 'roubo_bicicleta', 'outros_roubos', 'total_roubos',\n",
              "       'furto_veiculos', 'furto_transeunte', 'furto_coletivo', 'furto_celular',\n",
              "       'furto_bicicleta', 'outros_furtos', 'total_furtos', 'sequestro',\n",
              "       'extorsao', 'sequestro_relampago', 'estelionato', 'apreensao_drogas',\n",
              "       'posse_drogas', 'trafico_drogas', 'apreensao_drogas_sem_autor',\n",
              "       'recuperacao_veiculos', 'apf', 'aaapai', 'cmp', 'cmba', 'ameaca',\n",
              "       'pessoas_desaparecidas', 'encontro_cadaver', 'encontro_ossada',\n",
              "       'pol_militares_mortos_serv', 'pol_civis_mortos_serv', 'indicador_cvli',\n",
              "       'indicador_roubo_rua', 'indicador_roubo_veic', 'indicador_roubo_carga',\n",
              "       'registro_ocorrencias', 'fase'],\n",
              "      dtype='object')"
            ]
          },
          "metadata": {
            "tags": []
          },
          "execution_count": 5
        }
      ]
    },
    {
      "cell_type": "markdown",
      "metadata": {
        "id": "tsjC_6hde1nS",
        "colab_type": "text"
      },
      "source": [
        "Descrição das variáveis presentes no banco de dados e que são apresentadas nesse projeto:\n",
        "* *mes:* Mês da comunicação da ocorrência;\n",
        "* *vano:* Ano da comunicação da ocorrência;\n",
        "* *hom_doloso:* Homicídio doloso;\n",
        "* *roubo_em_coletivo:* Roubo em coletivo;\n",
        "* *roubo_veiculo:* Roubo de veículos;\n",
        "* *furto_veiculos:* Furto de veículos;\n",
        "* *recuperacao_veiculos:* Recuperação de veículos.\n",
        "\n",
        "O dicionário informações sobre todas as variáveis presentes no banco de dados pode ser encontrado no mesmo site, na aba [\"Notas Metodológicas e Dicionários\"](http://www.ispdados.rj.gov.br/Arquivos/DicionarioVariaveisDOMensalEstadoDesde1991.xlsx)"
      ]
    },
    {
      "cell_type": "code",
      "metadata": {
        "id": "p30RvfWpz-N3",
        "colab_type": "code",
        "colab": {
          "base_uri": "https://localhost:8080/",
          "height": 34
        },
        "outputId": "d0232763-69ef-497d-a352-fcb6f09a33fd"
      },
      "source": [
        "# Identifica o tamado do banco de dados\n",
        "print(\"O banco de dados têm {:,} variáveis e {:,} entradas\".format(df.shape[1], df.shape[0]))"
      ],
      "execution_count": null,
      "outputs": [
        {
          "output_type": "stream",
          "text": [
            "O banco de dados têm 65 variáveis e 27,998 entradas\n"
          ],
          "name": "stdout"
        }
      ]
    },
    {
      "cell_type": "code",
      "metadata": {
        "id": "7_XmNNyOn4Jz",
        "colab_type": "code",
        "colab": {
          "base_uri": "https://localhost:8080/",
          "height": 1000
        },
        "outputId": "6a4bfb24-de48-47cf-ffd0-37defd308389"
      },
      "source": [
        "# Variáveis disponíveis no dataset e informações sobre as mesmas\n",
        "df.info()"
      ],
      "execution_count": null,
      "outputs": [
        {
          "output_type": "stream",
          "text": [
            "<class 'pandas.core.frame.DataFrame'>\n",
            "RangeIndex: 27998 entries, 0 to 27997\n",
            "Data columns (total 65 columns):\n",
            " #   Column                      Non-Null Count  Dtype \n",
            "---  ------                      --------------  ----- \n",
            " 0   CISP                        27998 non-null  int64 \n",
            " 1   mes                         27998 non-null  int64 \n",
            " 2   ano                         27998 non-null  int64 \n",
            " 3   mes_ano                     27998 non-null  object\n",
            " 4   AISP                        27998 non-null  int64 \n",
            " 5   RISP                        27998 non-null  int64 \n",
            " 6   munic                       27998 non-null  object\n",
            " 7   mcirc                       27998 non-null  int64 \n",
            " 8   Regiao                      27998 non-null  object\n",
            " 9   hom_doloso                  27998 non-null  int64 \n",
            " 10  lesao_corp_morte            27998 non-null  int64 \n",
            " 11  latrocinio                  27998 non-null  int64 \n",
            " 12  hom_por_interv_policial     27998 non-null  int64 \n",
            " 13  letalidade_violenta         27998 non-null  int64 \n",
            " 14  tentat_hom                  27998 non-null  int64 \n",
            " 15  lesao_corp_dolosa           27998 non-null  int64 \n",
            " 16  estupro                     27998 non-null  int64 \n",
            " 17  hom_culposo                 27998 non-null  int64 \n",
            " 18  lesao_corp_culposa          27998 non-null  int64 \n",
            " 19  roubo_comercio              27998 non-null  int64 \n",
            " 20  roubo_residencia            27998 non-null  int64 \n",
            " 21  roubo_veiculo               27998 non-null  int64 \n",
            " 22  roubo_carga                 27998 non-null  int64 \n",
            " 23  roubo_transeunte            27998 non-null  int64 \n",
            " 24  roubo_em_coletivo           27998 non-null  int64 \n",
            " 25  roubo_banco                 27998 non-null  int64 \n",
            " 26  roubo_cx_eletronico         27998 non-null  object\n",
            " 27  roubo_celular               27998 non-null  int64 \n",
            " 28  roubo_conducao_saque        27998 non-null  int64 \n",
            " 29  roubo_apos_saque            27998 non-null  int64 \n",
            " 30  roubo_bicicleta             27998 non-null  object\n",
            " 31  outros_roubos               27998 non-null  int64 \n",
            " 32  total_roubos                27998 non-null  int64 \n",
            " 33  furto_veiculos              27998 non-null  int64 \n",
            " 34  furto_transeunte            27998 non-null  int64 \n",
            " 35  furto_coletivo              27998 non-null  int64 \n",
            " 36  furto_celular               27998 non-null  int64 \n",
            " 37  furto_bicicleta             27998 non-null  object\n",
            " 38  outros_furtos               27998 non-null  int64 \n",
            " 39  total_furtos                27998 non-null  int64 \n",
            " 40  sequestro                   27998 non-null  int64 \n",
            " 41  extorsao                    27998 non-null  int64 \n",
            " 42  sequestro_relampago         27998 non-null  int64 \n",
            " 43  estelionato                 27998 non-null  int64 \n",
            " 44  apreensao_drogas            27998 non-null  int64 \n",
            " 45  posse_drogas                27998 non-null  object\n",
            " 46  trafico_drogas              27998 non-null  object\n",
            " 47  apreensao_drogas_sem_autor  27998 non-null  object\n",
            " 48  recuperacao_veiculos        27998 non-null  int64 \n",
            " 49  apf                         27998 non-null  object\n",
            " 50  aaapai                      27998 non-null  object\n",
            " 51  cmp                         27998 non-null  object\n",
            " 52  cmba                        27998 non-null  object\n",
            " 53  ameaca                      27998 non-null  int64 \n",
            " 54  pessoas_desaparecidas       27998 non-null  int64 \n",
            " 55  encontro_cadaver            27998 non-null  int64 \n",
            " 56  encontro_ossada             27998 non-null  int64 \n",
            " 57  pol_militares_mortos_serv   27998 non-null  int64 \n",
            " 58  pol_civis_mortos_serv       27998 non-null  int64 \n",
            " 59  indicador_cvli              27998 non-null  int64 \n",
            " 60  indicador_roubo_rua         27998 non-null  int64 \n",
            " 61  indicador_roubo_veic        27998 non-null  int64 \n",
            " 62  indicador_roubo_carga       27998 non-null  int64 \n",
            " 63  registro_ocorrencias        27998 non-null  int64 \n",
            " 64  fase                        27998 non-null  int64 \n",
            "dtypes: int64(52), object(13)\n",
            "memory usage: 13.9+ MB\n"
          ],
          "name": "stdout"
        }
      ]
    },
    {
      "cell_type": "markdown",
      "metadata": {
        "id": "-f_uUHlWWWJ3",
        "colab_type": "text"
      },
      "source": [
        "Das 65 entradas 13 **não** são do tipo inteiro. De acordo com os dados esperados para elas, deveriam ser.\n",
        "\n",
        "Nessa mesma análise, é possível observar que nenhum variável foi indicada como contendo dados nulos. Contudo, uma rápida checagem em algumas das colunas indicadas como tipo inteiro mostram células sem informações, mas fora do formado da biblioteca numpy (NaN). Uma possibilidade seria o preenchimento com um espaço (tem caractere, mas não tem informação textual).\n",
        "\n",
        "Uma vez constatado isso, as células serão substituidas por \"np.NaN\" que é o indicativo de células vazia"
      ]
    },
    {
      "cell_type": "code",
      "metadata": {
        "id": "6S2BsBTN4X_G",
        "colab_type": "code",
        "colab": {}
      },
      "source": [
        "# Retira os espaço entre os nomes presentes na columa \"munic\" e \"Regiao\"\n",
        "df['munic'] = df['munic'].str.lower().str.strip().str.replace(' ','_')\n",
        "df['Regiao'] = df['Regiao'].str.lower().str.strip().str.replace(' ','_')\n",
        "\n",
        "\n",
        "# checa se as células apresetam espaço ou caractere especial. Se positivo, substitui por \"np.NaN\"\n",
        "df = df.replace(' ', np.NaN, regex=True)\n"
      ],
      "execution_count": null,
      "outputs": []
    },
    {
      "cell_type": "markdown",
      "metadata": {
        "id": "fK_7BgHZTYsZ",
        "colab_type": "text"
      },
      "source": [
        "O dataset reflete um conjunto de informações coletadas no espaço organizadas de acordo com um período de tempo (ano e mês). Para uma melhor organização do trabalho com esse tipo de variável, as colunas com informação sobre mês e ano serão agrupadas em uma outra coluna chamada \"data\" que será o tipo \"datetime\".\n",
        "Variáveis referntes à região do estado (centro ou inter) em que a cidade onde a variável foi obversada está localizada, bem como referentes informações às unidades de segurançça nãos erão abordadas nesse estudo e, por isso, serão retiradas do dataset."
      ]
    },
    {
      "cell_type": "code",
      "metadata": {
        "id": "Uoihm0i3r-wS",
        "colab_type": "code",
        "colab": {}
      },
      "source": [
        "# Cria uma coluna com o mesmo nome e usa as variáveis de 'mes' e 'ano' para preenche-la no formato 'datetime'\n",
        "for i in [df]:\n",
        "  i['mes'] = i['mes'].apply(lambda x: str(x))\n",
        "  i['ano'] = i['ano'].apply(lambda x: str(x))\n",
        "  i['data'] = pd.to_datetime(i['ano']+i['mes'],format='%Y%m')\n",
        "\n",
        "# Coloca como índice do dataframe as informações presentes na coluna 'data'\n",
        "df = df.rename(df.data, axis='index')\n",
        "df.drop(['data'], axis=1, inplace=True)\n",
        "\n",
        "# Retorna o nome de todas as colunas no formato de letras minúsculas\n",
        "df.columns = df.columns.str.lower()"
      ],
      "execution_count": null,
      "outputs": []
    },
    {
      "cell_type": "markdown",
      "metadata": {
        "id": "JVRyd3NFsGTj",
        "colab_type": "text"
      },
      "source": [
        "\n",
        "Uma vez que os dados estejam organizados, é importante analisar a quantidade de valores faltantes em nosso dataset."
      ]
    },
    {
      "cell_type": "code",
      "metadata": {
        "id": "5Ca1Lyyobkqs",
        "colab_type": "code",
        "colab": {
          "base_uri": "https://localhost:8080/",
          "height": 289
        },
        "outputId": "13d2e0e9-cfdf-4289-c95c-01ddfdb40f93"
      },
      "source": [
        "# Checa quais variáveis têm valores faltantes (mostra os 15 primeiros e ordem decrescente)\n",
        "(df.isnull().sum()/df.shape[0]).sort_values(ascending=False)[:15]"
      ],
      "execution_count": null,
      "outputs": [
        {
          "output_type": "execute_result",
          "data": {
            "text/plain": [
              "roubo_bicicleta               0.621080\n",
              "furto_bicicleta               0.621080\n",
              "trafico_drogas                0.165940\n",
              "cmba                          0.165940\n",
              "posse_drogas                  0.165940\n",
              "apreensao_drogas_sem_autor    0.165940\n",
              "apf                           0.165940\n",
              "aaapai                        0.165940\n",
              "cmp                           0.165940\n",
              "mes_ano                       0.039146\n",
              "roubo_cx_eletronico           0.000679\n",
              "lesao_corp_morte              0.000000\n",
              "hom_doloso                    0.000000\n",
              "roubo_banco                   0.000000\n",
              "mes                           0.000000\n",
              "dtype: float64"
            ]
          },
          "metadata": {
            "tags": []
          },
          "execution_count": 8
        }
      ]
    },
    {
      "cell_type": "markdown",
      "metadata": {
        "id": "4pR-wsp-kqkD",
        "colab_type": "text"
      },
      "source": [
        "Acima, é possível ver que algumas das variáveis têm valores faltantes. Em especial, crimes relacionados a bicilcetas (cerca de 60%) e apreensão de drogas (cerca de 16%).\n",
        "\n",
        "Como os dados estão estruturados ao longo do tempo, uma forma de realizar uma análise que condiza melhor com a realidade, podemos analisá-los a partir da data em que começaram a ser registrados.\n",
        "\n",
        "Além disso, existem outras formas de encararmos e explorarmos os dados, como utilizando temas e perspectivas,como por exemplo:\n",
        "\n",
        "* Números anuais por crime;\n",
        "* Números mensais por crime;\n",
        "* Categorias de crimes (Contra a vida, Contra o patrimônio, etc.)"
      ]
    },
    {
      "cell_type": "markdown",
      "metadata": {
        "id": "vDkXsEdTnhZz",
        "colab_type": "text"
      },
      "source": [
        "## Informações Estatísticas da Violência no Rio de Janeiro"
      ]
    },
    {
      "cell_type": "markdown",
      "metadata": {
        "id": "wltFhs-ptUTk",
        "colab_type": "text"
      },
      "source": [
        "Uma das variáveis do dataset classifica se os dados colhidos pertenciam à capital do estado ou à região interiorana. Para esse projeto, iremos abordar apenas os dados referentes à capital."
      ]
    },
    {
      "cell_type": "code",
      "metadata": {
        "id": "eC6cXP6YBXDf",
        "colab_type": "code",
        "colab": {}
      },
      "source": [
        "#Selcionnar apenas a cidade do Rio de Janeiro\n",
        "df_c = df[df.regiao=='capital']"
      ],
      "execution_count": null,
      "outputs": []
    },
    {
      "cell_type": "markdown",
      "metadata": {
        "id": "QN59bB_T9kCU",
        "colab_type": "text"
      },
      "source": [
        "###Crimes contra o patrimônio - Veículos\n",
        "Breve contextualização sobre roubos de *veículos*\n",
        "\n",
        "Esta etapa incluirá apenas as variáveis `roubo_veiculo`, `furto_veiculos` e `recuperacao_veiculos`. "
      ]
    },
    {
      "cell_type": "code",
      "metadata": {
        "id": "fAjGpZTqrvvP",
        "colab_type": "code",
        "colab": {}
      },
      "source": [
        "# Retorna um dataset com variáveis selecionadas\n",
        "df_v = df_c[['roubo_veiculo', 'furto_veiculos', 'recuperacao_veiculos']]\n"
      ],
      "execution_count": null,
      "outputs": []
    },
    {
      "cell_type": "code",
      "metadata": {
        "id": "NkBaBON2ntJx",
        "colab_type": "code",
        "colab": {
          "base_uri": "https://localhost:8080/",
          "height": 297
        },
        "outputId": "c0c9b442-af0f-44be-ff7d-3e8def7660a8"
      },
      "source": [
        "# Retorna análise estatística descritiva\n",
        "df_v.describe()"
      ],
      "execution_count": null,
      "outputs": [
        {
          "output_type": "execute_result",
          "data": {
            "text/html": [
              "<div>\n",
              "<style scoped>\n",
              "    .dataframe tbody tr th:only-of-type {\n",
              "        vertical-align: middle;\n",
              "    }\n",
              "\n",
              "    .dataframe tbody tr th {\n",
              "        vertical-align: top;\n",
              "    }\n",
              "\n",
              "    .dataframe thead th {\n",
              "        text-align: right;\n",
              "    }\n",
              "</style>\n",
              "<table border=\"1\" class=\"dataframe\">\n",
              "  <thead>\n",
              "    <tr style=\"text-align: right;\">\n",
              "      <th></th>\n",
              "      <th>roubo_veiculo</th>\n",
              "      <th>furto_veiculos</th>\n",
              "      <th>recuperacao_veiculos</th>\n",
              "    </tr>\n",
              "  </thead>\n",
              "  <tbody>\n",
              "    <tr>\n",
              "      <th>count</th>\n",
              "      <td>8409.000000</td>\n",
              "      <td>8409.000000</td>\n",
              "      <td>8409.000000</td>\n",
              "    </tr>\n",
              "    <tr>\n",
              "      <th>mean</th>\n",
              "      <td>37.909502</td>\n",
              "      <td>18.156618</td>\n",
              "      <td>28.153764</td>\n",
              "    </tr>\n",
              "    <tr>\n",
              "      <th>std</th>\n",
              "      <td>38.376506</td>\n",
              "      <td>15.911531</td>\n",
              "      <td>31.966015</td>\n",
              "    </tr>\n",
              "    <tr>\n",
              "      <th>min</th>\n",
              "      <td>0.000000</td>\n",
              "      <td>0.000000</td>\n",
              "      <td>0.000000</td>\n",
              "    </tr>\n",
              "    <tr>\n",
              "      <th>25%</th>\n",
              "      <td>8.000000</td>\n",
              "      <td>7.000000</td>\n",
              "      <td>6.000000</td>\n",
              "    </tr>\n",
              "    <tr>\n",
              "      <th>50%</th>\n",
              "      <td>26.000000</td>\n",
              "      <td>13.000000</td>\n",
              "      <td>18.000000</td>\n",
              "    </tr>\n",
              "    <tr>\n",
              "      <th>75%</th>\n",
              "      <td>56.000000</td>\n",
              "      <td>25.000000</td>\n",
              "      <td>40.000000</td>\n",
              "    </tr>\n",
              "    <tr>\n",
              "      <th>max</th>\n",
              "      <td>394.000000</td>\n",
              "      <td>173.000000</td>\n",
              "      <td>359.000000</td>\n",
              "    </tr>\n",
              "  </tbody>\n",
              "</table>\n",
              "</div>"
            ],
            "text/plain": [
              "       roubo_veiculo  furto_veiculos  recuperacao_veiculos\n",
              "count    8409.000000     8409.000000           8409.000000\n",
              "mean       37.909502       18.156618             28.153764\n",
              "std        38.376506       15.911531             31.966015\n",
              "min         0.000000        0.000000              0.000000\n",
              "25%         8.000000        7.000000              6.000000\n",
              "50%        26.000000       13.000000             18.000000\n",
              "75%        56.000000       25.000000             40.000000\n",
              "max       394.000000      173.000000            359.000000"
            ]
          },
          "metadata": {
            "tags": []
          },
          "execution_count": 11
        }
      ]
    },
    {
      "cell_type": "markdown",
      "metadata": {
        "id": "OuIXY0dX9t1p",
        "colab_type": "text"
      },
      "source": [
        "Para os próximos passos as variáveis \"`roubo_veiculo`\", \"furto_veiculos\" e \"recuperacao_veiculos\" serão avaliadas quanto a presença de outliers. Para essa etapa será utilizada a regra 1.5xIQR (Interquartile Range).\n"
      ]
    },
    {
      "cell_type": "code",
      "metadata": {
        "id": "eVzEO4PZ-Mc-",
        "colab_type": "code",
        "colab": {
          "base_uri": "https://localhost:8080/",
          "height": 51
        },
        "outputId": "d59331ce-bb70-4085-e130-13d5dfd628f9"
      },
      "source": [
        "# Limites para a variáveil \"roubo_veiculo\" \n",
        "Q1 = df_v['roubo_veiculo'].quantile(q = 0.25)\n",
        "Q3 = df_v['roubo_veiculo'].quantile(q = 0.75)\n",
        "IQR = Q3 - Q1\n",
        "\n",
        "lower = (Q1 - 1.5*IQR)\n",
        "upper = (Q3 + 1.5*IQR)\n",
        "\n",
        "print(\"Lower = {}\".format(lower))\n",
        "print(\"Upper = {}\".format(upper))"
      ],
      "execution_count": null,
      "outputs": [
        {
          "output_type": "stream",
          "text": [
            "Lower = -64.0\n",
            "Upper = 128.0\n"
          ],
          "name": "stdout"
        }
      ]
    },
    {
      "cell_type": "code",
      "metadata": {
        "id": "rGpLyoRj_QXM",
        "colab_type": "code",
        "colab": {
          "base_uri": "https://localhost:8080/",
          "height": 208
        },
        "outputId": "036ae3b9-529e-4ef7-bb45-77cec1e1bfca"
      },
      "source": [
        "#Boxplot para a variável \"roubo_veiculo\"\n",
        "df_v['roubo_veiculo'].plot(kind='box', vert=False, figsize=(15,2))\n",
        "plt.show()\n",
        "\n",
        "#Ver a quantidade de valores acima de 128 ocorrências para \"roubo_veiculo\" (1.5*IQR)\n",
        "print(\"roubo_veiculo: valores acima de 128\")\n",
        "print(\"{} entradas\".format(len(df_v[df_v.roubo_veiculo > 128])))\n",
        "print(\"{:.2f}%\".format((len(df_v[df_v.roubo_veiculo > 128]) / df_v.shape[0])*100))"
      ],
      "execution_count": null,
      "outputs": [
        {
          "output_type": "display_data",
          "data": {
            "image/png": "[encoded data removed]",
            "text/plain": [
              "<Figure size 1080x144 with 1 Axes>"
            ]
          },
          "metadata": {
            "tags": [],
            "needs_background": "light"
          }
        },
        {
          "output_type": "stream",
          "text": [
            "roubo_veiculo: valores acima de 128\n",
            "290 entradas\n",
            "3.45%\n"
          ],
          "name": "stdout"
        }
      ]
    },
    {
      "cell_type": "code",
      "metadata": {
        "id": "ZEBYw9aYCmDD",
        "colab_type": "code",
        "colab": {
          "base_uri": "https://localhost:8080/",
          "height": 51
        },
        "outputId": "c7657a62-e8c5-4d63-9d8b-8df2754f1f78"
      },
      "source": [
        "# Limites para a variável \"furto_veículos\".\n",
        "Q1 = df_v['furto_veiculos'].quantile(q = 0.25)\n",
        "Q3 = df_v['furto_veiculos'].quantile(q = 0.75)\n",
        "IQR = Q3 - Q1\n",
        "\n",
        "lower = (Q1 - 1.5*IQR)\n",
        "upper = (Q3 + 1.5*IQR)\n",
        "\n",
        "print(\"Lower = {}\".format(lower))\n",
        "print(\"Upper = {}\".format(upper))"
      ],
      "execution_count": null,
      "outputs": [
        {
          "output_type": "stream",
          "text": [
            "Lower = -20.0\n",
            "Upper = 52.0\n"
          ],
          "name": "stdout"
        }
      ]
    },
    {
      "cell_type": "code",
      "metadata": {
        "id": "eDKRSQWvEuw4",
        "colab_type": "code",
        "colab": {
          "base_uri": "https://localhost:8080/",
          "height": 208
        },
        "outputId": "00841b5e-6c66-4cea-b630-80f34082be70"
      },
      "source": [
        "#Boxplot para a variável \"furto_veiculos\"\n",
        "\n",
        "df_v.furto_veiculos.plot(kind='box', vert=False, figsize=(15,2))\n",
        "plt.show()\n",
        "\n",
        "#Ver a quantidade de valores acima de 52 ocorrências para \"roubo_veiculo\" (1.5*IQR)\n",
        "print(\"furto_veiculos: valores acima de 52\")\n",
        "print(\"{} entradas\".format(len(df_v[df_v.roubo_veiculo > 52])))\n",
        "print(\"{:.2f}%\".format((len(df_v[df_v.roubo_veiculo > 52]) / df_v.shape[0])*100))"
      ],
      "execution_count": null,
      "outputs": [
        {
          "output_type": "display_data",
          "data": {
            "image/png": "[encoded data removed]",
            "text/plain": [
              "<Figure size 1080x144 with 1 Axes>"
            ]
          },
          "metadata": {
            "tags": [],
            "needs_background": "light"
          }
        },
        {
          "output_type": "stream",
          "text": [
            "furto_veiculos: valores acima de 52\n",
            "2268 entradas\n",
            "26.97%\n"
          ],
          "name": "stdout"
        }
      ]
    },
    {
      "cell_type": "code",
      "metadata": {
        "id": "Qv1zS_G7D3Ec",
        "colab_type": "code",
        "colab": {
          "base_uri": "https://localhost:8080/",
          "height": 51
        },
        "outputId": "c5c0c0f9-a63d-4cdc-ad9e-9a23cf826c78"
      },
      "source": [
        "# Limites para a variável \"recuperacao_veiculos\"\n",
        "Q1 = df_v['recuperacao_veiculos'].quantile(q = 0.25)\n",
        "Q3 = df_v['recuperacao_veiculos'].quantile(q = 0.75)\n",
        "IQR = Q3 - Q1\n",
        "\n",
        "lower = (Q1 - 1.5*IQR)\n",
        "upper = (Q3 + 1.5*IQR)\n",
        "\n",
        "print(\"Lower = {}\".format(lower))\n",
        "print(\"Upper = {}\".format(upper))"
      ],
      "execution_count": null,
      "outputs": [
        {
          "output_type": "stream",
          "text": [
            "Lower = -45.0\n",
            "Upper = 91.0\n"
          ],
          "name": "stdout"
        }
      ]
    },
    {
      "cell_type": "code",
      "metadata": {
        "id": "kzY5TEzYGA_k",
        "colab_type": "code",
        "colab": {
          "base_uri": "https://localhost:8080/",
          "height": 208
        },
        "outputId": "ddb0af56-665c-43a5-f4cb-94e4afbdfd00"
      },
      "source": [
        "# Boxplot para a variável \"recuperação_veículos\"\n",
        "df_v.recuperacao_veiculos.plot(kind='box', vert=False, figsize=(15,2))\n",
        "plt.show()\n",
        "\n",
        "#Ver a quantidade de valores acima de 91 ocorrências para \"recuperacao_veiculo\" (1.5*IQR)\n",
        "print(\"furto_veiculos: valores acima de 91\")\n",
        "print(\"{} entradas\".format(len(df_v[df_v.roubo_veiculo > 91])))\n",
        "print(\"{:.2f}%\".format((len(df_v[df_v.roubo_veiculo > 91]) / df_v.shape[0])*100))"
      ],
      "execution_count": null,
      "outputs": [
        {
          "output_type": "display_data",
          "data": {
            "image/png": "[encoded data removed]",
            "text/plain": [
              "<Figure size 1080x144 with 1 Axes>"
            ]
          },
          "metadata": {
            "tags": [],
            "needs_background": "light"
          }
        },
        {
          "output_type": "stream",
          "text": [
            "furto_veiculos: valores acima de 91\n",
            "834 entradas\n",
            "9.92%\n"
          ],
          "name": "stdout"
        }
      ]
    },
    {
      "cell_type": "markdown",
      "metadata": {
        "id": "Lnx31uI14Urx",
        "colab_type": "text"
      },
      "source": [
        "Outliers são dados que podem comprometer muito a análise dos dados por influenciar diretamente medidas como as de centralidade. Contudo, como este caso reflete um número acumulado de ocorrências em um mês segmentado ano a ano, será feita uma observação mais cautelosa.\n",
        "\n",
        "Os daddos serãoo classificados em dois grupos:\n",
        "* **normal:** Dias de ocorrência em que todos os dados reportados estejam dentros do range de normalidade indicado nas células acima;\n",
        "* **out:** Dias de ocorrência em que peloo menos um dados reportado esteja fora do range de normalidade indicado nas células acima."
      ]
    },
    {
      "cell_type": "code",
      "metadata": {
        "id": "3WN0UrC7PckQ",
        "colab_type": "code",
        "colab": {
          "base_uri": "https://localhost:8080/",
          "height": 119
        },
        "outputId": "fc673cd6-42c1-4b79-eee4-714ed86436fa"
      },
      "source": [
        "# Adiciona uma coluna com a classificação \"normal\" (recebe valor 1) ou \"out\" (recebe valor 0):\n",
        "\n",
        "def classifier(row):\n",
        "  if row['roubo_veiculo'] <= 128 and row['furto_veiculos'] <= 52 and row['recuperacao_veiculos'] <= 91:\n",
        "    return 1\n",
        "  else:\n",
        "    return 0\n",
        "\n",
        "df_v['classe'] = df_v.apply(classifier, axis=1)\n"
      ],
      "execution_count": null,
      "outputs": [
        {
          "output_type": "stream",
          "text": [
            "/usr/local/lib/python3.6/dist-packages/ipykernel_launcher.py:9: SettingWithCopyWarning: \n",
            "A value is trying to be set on a copy of a slice from a DataFrame.\n",
            "Try using .loc[row_indexer,col_indexer] = value instead\n",
            "\n",
            "See the caveats in the documentation: https://pandas.pydata.org/pandas-docs/stable/user_guide/indexing.html#returning-a-view-versus-a-copy\n",
            "  if __name__ == '__main__':\n"
          ],
          "name": "stderr"
        }
      ]
    },
    {
      "cell_type": "code",
      "metadata": {
        "id": "HUY9v5X9uvm6",
        "colab_type": "code",
        "colab": {
          "base_uri": "https://localhost:8080/",
          "height": 204
        },
        "outputId": "df0af304-cfab-4ae8-8631-768a8f7a370d"
      },
      "source": [
        "df_v.head()"
      ],
      "execution_count": null,
      "outputs": [
        {
          "output_type": "execute_result",
          "data": {
            "text/html": [
              "<div>\n",
              "<style scoped>\n",
              "    .dataframe tbody tr th:only-of-type {\n",
              "        vertical-align: middle;\n",
              "    }\n",
              "\n",
              "    .dataframe tbody tr th {\n",
              "        vertical-align: top;\n",
              "    }\n",
              "\n",
              "    .dataframe thead th {\n",
              "        text-align: right;\n",
              "    }\n",
              "</style>\n",
              "<table border=\"1\" class=\"dataframe\">\n",
              "  <thead>\n",
              "    <tr style=\"text-align: right;\">\n",
              "      <th></th>\n",
              "      <th>roubo_veiculo</th>\n",
              "      <th>furto_veiculos</th>\n",
              "      <th>recuperacao_veiculos</th>\n",
              "      <th>classe</th>\n",
              "    </tr>\n",
              "  </thead>\n",
              "  <tbody>\n",
              "    <tr>\n",
              "      <th>2003-01-01</th>\n",
              "      <td>5</td>\n",
              "      <td>12</td>\n",
              "      <td>5</td>\n",
              "      <td>1</td>\n",
              "    </tr>\n",
              "    <tr>\n",
              "      <th>2003-01-01</th>\n",
              "      <td>9</td>\n",
              "      <td>9</td>\n",
              "      <td>7</td>\n",
              "      <td>1</td>\n",
              "    </tr>\n",
              "    <tr>\n",
              "      <th>2003-01-01</th>\n",
              "      <td>11</td>\n",
              "      <td>28</td>\n",
              "      <td>10</td>\n",
              "      <td>1</td>\n",
              "    </tr>\n",
              "    <tr>\n",
              "      <th>2003-01-01</th>\n",
              "      <td>27</td>\n",
              "      <td>17</td>\n",
              "      <td>77</td>\n",
              "      <td>1</td>\n",
              "    </tr>\n",
              "    <tr>\n",
              "      <th>2003-01-01</th>\n",
              "      <td>23</td>\n",
              "      <td>12</td>\n",
              "      <td>9</td>\n",
              "      <td>1</td>\n",
              "    </tr>\n",
              "  </tbody>\n",
              "</table>\n",
              "</div>"
            ],
            "text/plain": [
              "            roubo_veiculo  furto_veiculos  recuperacao_veiculos  classe\n",
              "2003-01-01              5              12                     5       1\n",
              "2003-01-01              9               9                     7       1\n",
              "2003-01-01             11              28                    10       1\n",
              "2003-01-01             27              17                    77       1\n",
              "2003-01-01             23              12                     9       1"
            ]
          },
          "metadata": {
            "tags": []
          },
          "execution_count": 19
        }
      ]
    },
    {
      "cell_type": "code",
      "metadata": {
        "id": "XuJpeTznpNuM",
        "colab_type": "code",
        "colab": {}
      },
      "source": [
        "# Agrupa os dados por valores mensais do índice do dataset\n",
        "df_v_1 = df_v[df_v.classe==1].groupby(pd.Grouper(freq=\"M\")).sum()\n",
        "df_v_0 = df_v[df_v.classe==0].groupby(pd.Grouper(freq=\"M\")).sum()"
      ],
      "execution_count": null,
      "outputs": []
    },
    {
      "cell_type": "code",
      "metadata": {
        "id": "_1JtP8SHKa1I",
        "colab_type": "code",
        "colab": {
          "base_uri": "https://localhost:8080/",
          "height": 295
        },
        "outputId": "99051b29-885a-4862-d78b-66b411cdca50"
      },
      "source": [
        "# Plota o gráfico de linhas com os dados para roubo veículo,\n",
        "plt.plot(df_v_1.index, df_v_1.roubo_veiculo, color='green')\n",
        "plt.plot(df_v_0.index, df_v_0.roubo_veiculo, color='red')\n",
        "plt.xlabel('Tempo (anos)')\n",
        "plt.ylabel('Número de ocorrências')\n",
        "plt.title('Roubo de veículos (2003 a 2020)')\n",
        "plt.show()"
      ],
      "execution_count": null,
      "outputs": [
        {
          "output_type": "display_data",
          "data": {
            "image/png": "[encoded data removed]",
            "text/plain": [
              "<Figure size 432x288 with 1 Axes>"
            ]
          },
          "metadata": {
            "tags": [],
            "needs_background": "light"
          }
        }
      ]
    },
    {
      "cell_type": "code",
      "metadata": {
        "id": "qc5CelfLtY1H",
        "colab_type": "code",
        "colab": {
          "base_uri": "https://localhost:8080/",
          "height": 295
        },
        "outputId": "cadbde42-08f5-4470-ed78-de96110f98d9"
      },
      "source": [
        "# Plota o gráfico de linhas com os dados para furto de veículos:\n",
        "plt.plot(df_v_1.index, df_v_1.furto_veiculos, color='green')\n",
        "plt.plot(df_v_0.index, df_v_0.furto_veiculos, color='red')\n",
        "plt.xlabel('Tempo (anos)')\n",
        "plt.ylabel('Número de ocorrências')\n",
        "plt.title('Furto de veículos (2003 a 2020)')\n",
        "plt.show()"
      ],
      "execution_count": null,
      "outputs": [
        {
          "output_type": "display_data",
          "data": {
            "image/png": "[encoded data removed]",
            "text/plain": [
              "<Figure size 432x288 with 1 Axes>"
            ]
          },
          "metadata": {
            "tags": [],
            "needs_background": "light"
          }
        }
      ]
    },
    {
      "cell_type": "code",
      "metadata": {
        "id": "RqOK-bMVtxgI",
        "colab_type": "code",
        "colab": {
          "base_uri": "https://localhost:8080/",
          "height": 295
        },
        "outputId": "7de5f3c7-b14d-4d39-94e2-69763ac2039b"
      },
      "source": [
        "# Plota o gráfico de linhas com os dados para roubo veículo,\n",
        "plt.plot(df_v_1.index, df_v_1.recuperacao_veiculos, color='green')\n",
        "plt.plot(df_v_0.index, df_v_0.recuperacao_veiculos, color='red')\n",
        "plt.xlabel('Tempo (anos)')\n",
        "plt.ylabel('Número de ocorrências')\n",
        "plt.title('Recuperação de veículos (2003 a 2020)')\n",
        "plt.show()"
      ],
      "execution_count": null,
      "outputs": [
        {
          "output_type": "display_data",
          "data": {
            "image/png": "[encoded data removed]",
            "text/plain": [
              "<Figure size 432x288 with 1 Axes>"
            ]
          },
          "metadata": {
            "tags": [],
            "needs_background": "light"
          }
        }
      ]
    },
    {
      "cell_type": "markdown",
      "metadata": {
        "id": "p89mWU6j9r3R",
        "colab_type": "text"
      },
      "source": [
        "Nas figuras acima, a linha verde indica o volume de roubos de veículos por mês ao retirarmos os dias indicados como outliers e a linha vermelha refere-se aos dias indicados como outilers.\n",
        "Ambas as linhas tendem a seguirm um mesmo padrão de ascenção e queda e ganham um enfoque maior nas proximidasdes do ano de 2005, 2007 e 2017. O padrão observado para o gráfico de \"recuperação\" tem semelhança com os gráficos de \"roubo\" e \"furto\".\n",
        "\n",
        "O número de ocorrências reportadas acima das médias máximas de normalidade poderia estar relacionado a momentos de deflagração de operações policiais ou mesmo a eventos que a cidade do Rio de Janeiro sediou (muitos deles n, mesmo ano), tendo como exemplo: Olimpíadas, Jogos Pan-Americanos, Festivall Rock & Rio e Copa do Mundo de Futebol.\n",
        "\n",
        "Uma forma de quantificar os crimes contra patrimônio em veículos, é calcular a porcentagem de carros recuperados em relação aos carros roubados + carros furtados:\n",
        "  * $\\frac{\\text{recuperacao_veiculos}}{\\text{roubo_veiculo} + \\text{furto_veiculos}}$\n",
        "\n",
        "Quanto mais próximo de 100% maior a eficácia no retorno dos bens extraviados."
      ]
    },
    {
      "cell_type": "code",
      "metadata": {
        "id": "iapp7JXnwCb7",
        "colab_type": "code",
        "colab": {
          "base_uri": "https://localhost:8080/",
          "height": 51
        },
        "outputId": "057aee49-967b-47e2-d777-cf7879bdf35e"
      },
      "source": [
        "print(\"A média, por mês, de carros roubados é {:.2f}, a média de carros furtados é {:.2f} e a média de carros recuperados é {:.2f}\"\\\n",
        "      .format(df_v.roubo_veiculo.mean(), df_v.furto_veiculos.mean(), df_v.recuperacao_veiculos.mean()))\n",
        "print(\"A porcentagem, por mês, de carros recuperados é {:.2f}%\"\\\n",
        "      .format((df_v.recuperacao_veiculos.sum()/(df_v.roubo_veiculo.sum() + df_v.furto_veiculos.sum()))*100))"
      ],
      "execution_count": null,
      "outputs": [
        {
          "output_type": "stream",
          "text": [
            "A média, por mês, de carros roubados é 37.91, a média de carros furtados é 18.16 e a média de carros recuperados é 28.15\n",
            "A porcentagem, por mês, de carros recuperados é 50.22%\n"
          ],
          "name": "stdout"
        }
      ]
    },
    {
      "cell_type": "markdown",
      "metadata": {
        "id": "N3m3Hkks3wmI",
        "colab_type": "text"
      },
      "source": [
        "### Crimes contra a vida\n",
        "\n",
        "\n"
      ]
    },
    {
      "cell_type": "markdown",
      "metadata": {
        "id": "1N02uvHjg9P6",
        "colab_type": "text"
      },
      "source": [
        "Abaixo identificamos a quantidade de homicídios doloso ao longo do período registrado no dataset"
      ]
    },
    {
      "cell_type": "code",
      "metadata": {
        "id": "u_6IvjCUhvnN",
        "colab_type": "code",
        "colab": {
          "base_uri": "https://localhost:8080/",
          "height": 51
        },
        "outputId": "e4023d43-25b7-47a8-dda7-9e7c703171b9"
      },
      "source": [
        "# Agrupa os dados por valores mensais do índice do dataset\n",
        "df_h = df.groupby(pd.Grouper(freq=\"M\")).sum()\n",
        "\n",
        "# Retorna a quantidade de homicídio doloso\n",
        "max_hom_doloso = df_h.hom_doloso.max()\n",
        "min_hom_doloso = df_h.hom_doloso.min()\n",
        "\n",
        "print(\"Máxima: {}\".format(max_hom_doloso))\n",
        "print(\"Mínima: {}\".format(min_hom_doloso))"
      ],
      "execution_count": null,
      "outputs": [
        {
          "output_type": "stream",
          "text": [
            "Máxima: 682\n",
            "Mínima: 272\n"
          ],
          "name": "stdout"
        }
      ]
    },
    {
      "cell_type": "markdown",
      "metadata": {
        "id": "0CUcituVg819",
        "colab_type": "text"
      },
      "source": [
        "Acima podemos ver que no mês com menor número de casos foram registrados 272 homicídios dolosos. \n",
        "\n",
        "Em relação ao mês com números mais elevado, houveram 831 homicídios dolosos.\n",
        "\n",
        "Vamos investigar um pouco mais a fundo essas entradas.\n"
      ]
    },
    {
      "cell_type": "code",
      "metadata": {
        "id": "B1HZsBeKirCU",
        "colab_type": "code",
        "colab": {
          "base_uri": "https://localhost:8080/",
          "height": 80
        },
        "outputId": "7577f001-b584-41c1-da1d-7a74a1b32866"
      },
      "source": [
        "# Retorna o mês com menor número de homicídios\n",
        "df_h[df_h.hom_doloso==272][['hom_doloso']]"
      ],
      "execution_count": null,
      "outputs": [
        {
          "output_type": "execute_result",
          "data": {
            "text/html": [
              "<div>\n",
              "<style scoped>\n",
              "    .dataframe tbody tr th:only-of-type {\n",
              "        vertical-align: middle;\n",
              "    }\n",
              "\n",
              "    .dataframe tbody tr th {\n",
              "        vertical-align: top;\n",
              "    }\n",
              "\n",
              "    .dataframe thead th {\n",
              "        text-align: right;\n",
              "    }\n",
              "</style>\n",
              "<table border=\"1\" class=\"dataframe\">\n",
              "  <thead>\n",
              "    <tr style=\"text-align: right;\">\n",
              "      <th></th>\n",
              "      <th>hom_doloso</th>\n",
              "    </tr>\n",
              "  </thead>\n",
              "  <tbody>\n",
              "    <tr>\n",
              "      <th>2015-06-30</th>\n",
              "      <td>272</td>\n",
              "    </tr>\n",
              "  </tbody>\n",
              "</table>\n",
              "</div>"
            ],
            "text/plain": [
              "            hom_doloso\n",
              "2015-06-30         272"
            ]
          },
          "metadata": {
            "tags": []
          },
          "execution_count": 26
        }
      ]
    },
    {
      "cell_type": "code",
      "metadata": {
        "id": "Sa9SpZD3lo1L",
        "colab_type": "code",
        "colab": {
          "base_uri": "https://localhost:8080/",
          "height": 80
        },
        "outputId": "ab15ee9d-b298-4205-ac2b-2bf7b4c1c06a"
      },
      "source": [
        "# Retorna o mês com maior número de homicídios\n",
        "df_h[df_h.hom_doloso==682][['hom_doloso']]"
      ],
      "execution_count": null,
      "outputs": [
        {
          "output_type": "execute_result",
          "data": {
            "text/html": [
              "<div>\n",
              "<style scoped>\n",
              "    .dataframe tbody tr th:only-of-type {\n",
              "        vertical-align: middle;\n",
              "    }\n",
              "\n",
              "    .dataframe tbody tr th {\n",
              "        vertical-align: top;\n",
              "    }\n",
              "\n",
              "    .dataframe thead th {\n",
              "        text-align: right;\n",
              "    }\n",
              "</style>\n",
              "<table border=\"1\" class=\"dataframe\">\n",
              "  <thead>\n",
              "    <tr style=\"text-align: right;\">\n",
              "      <th></th>\n",
              "      <th>hom_doloso</th>\n",
              "    </tr>\n",
              "  </thead>\n",
              "  <tbody>\n",
              "    <tr>\n",
              "      <th>2005-03-31</th>\n",
              "      <td>682</td>\n",
              "    </tr>\n",
              "  </tbody>\n",
              "</table>\n",
              "</div>"
            ],
            "text/plain": [
              "            hom_doloso\n",
              "2005-03-31         682"
            ]
          },
          "metadata": {
            "tags": []
          },
          "execution_count": 27
        }
      ]
    },
    {
      "cell_type": "markdown",
      "metadata": {
        "id": "9wE1CWGenzo3",
        "colab_type": "text"
      },
      "source": [
        "Acima, vemos que o mês de março de 2005 foi o mês com mais casos de homicídios dollosos registrados no nosso dataset, o mês de junho de 2015 teve menor número desse tipo de ocorrência.\n",
        "\n",
        "Isso sugere um bom sinal, indicando que, talvez, o crime venha diminuindo. Apenas uma análise mais aprofundada pode nos dizer."
      ]
    },
    {
      "cell_type": "markdown",
      "metadata": {
        "id": "WTD5lBNVmF0k",
        "colab_type": "text"
      },
      "source": [
        "##Visualização de Dados"
      ]
    },
    {
      "cell_type": "markdown",
      "metadata": {
        "id": "Es0i0d81num8",
        "colab_type": "text"
      },
      "source": [
        "Histogramas são poderosas ferramentas de visualização, que nos auxiliam a entender a distribuição dos valores em uma variável.\n",
        "\n",
        "Abaixo, faremos essa análise em relação à variável `hom_doloso`."
      ]
    },
    {
      "cell_type": "code",
      "metadata": {
        "id": "0mGXZbyMPZwb",
        "colab_type": "code",
        "colab": {
          "base_uri": "https://localhost:8080/",
          "height": 34
        },
        "outputId": "42d75677-2aed-48e3-a891-72c1f6e41bec"
      },
      "source": [
        "df_h.hom_doloso.shape[0]"
      ],
      "execution_count": null,
      "outputs": [
        {
          "output_type": "execute_result",
          "data": {
            "text/plain": [
              "209"
            ]
          },
          "metadata": {
            "tags": []
          },
          "execution_count": 44
        }
      ]
    },
    {
      "cell_type": "code",
      "metadata": {
        "id": "uW2c3miykfA1",
        "colab_type": "code",
        "colab": {
          "base_uri": "https://localhost:8080/",
          "height": 291
        },
        "outputId": "4694f469-0e39-4055-dc40-8eec3f0f2a53"
      },
      "source": [
        "# Retorna um gráfico do tipo histograma para homicidio_doloso\n",
        "df_h.hom_doloso.hist(grid=True, xlabelsize=12, ylabelsize=12)\n",
        "plt.xlabel(\"Número de meses\", fontsize=15)\n",
        "plt.ylabel(\"Número de meses reportados\",fontsize=15);"
      ],
      "execution_count": null,
      "outputs": [
        {
          "output_type": "display_data",
          "data": {
            "image/png": "[encoded data removed]",
            "text/plain": [
              "<Figure size 432x288 with 1 Axes>"
            ]
          },
          "metadata": {
            "tags": [],
            "needs_background": "light"
          }
        }
      ]
    },
    {
      "cell_type": "markdown",
      "metadata": {
        "id": "5N7VPT-QnhOI",
        "colab_type": "text"
      },
      "source": [
        "No gráfico acima, alguns dados chamam a nossa atenção, como:\n",
        "\n",
        "* Houve mais de 30 meses com 300-400 homicídios dolosos registrados ao longo do período em estudo.\n",
        "* Houve menos de 10 meses ao longo de todo o período estudado entre 600 e 700 registros de homicídio doloso.\n",
        "* Outras possíveis análises pertinentes..."
      ]
    },
    {
      "cell_type": "markdown",
      "metadata": {
        "id": "4kZoPqV4mUSU",
        "colab_type": "text"
      },
      "source": [
        "Por último, vamos analisar a variável `roubo_em_coletivo` utilizando um gráfico de linha."
      ]
    },
    {
      "cell_type": "code",
      "metadata": {
        "id": "sSK29FOiliBL",
        "colab_type": "code",
        "colab": {
          "base_uri": "https://localhost:8080/",
          "height": 295
        },
        "outputId": "e512418b-56bb-4895-f9df-b1f4b2aad1f3"
      },
      "source": [
        "#Retorna um gráfico de linhas para roubo em coletivo\n",
        "\n",
        "plt.plot(df_h.index, df_h.roubo_em_coletivo)\n",
        "plt.xlabel(\"Tempo(ano)\")\n",
        "plt.ylabel(\"Número de ocorrências\")\n",
        "plt.title(\"Roubo em coletivo\")\n",
        "plt.show()"
      ],
      "execution_count": null,
      "outputs": [
        {
          "output_type": "display_data",
          "data": {
            "image/png": "[encoded data removed]",
            "text/plain": [
              "<Figure size 432x288 with 1 Axes>"
            ]
          },
          "metadata": {
            "tags": [],
            "needs_background": "light"
          }
        }
      ]
    },
    {
      "cell_type": "markdown",
      "metadata": {
        "id": "oqzuyA2nnaco",
        "colab_type": "text"
      },
      "source": [
        "## Conclusão\n",
        "\n",
        "A principal lição aprendida aqui foi a necessidade de se atentar a cada detalhe do seu *dataset* quando se está lidando com dados reais, extraídos diretamente de sites e portais com dados abertos.\n",
        "\n",
        "Muitas vezes, nos acostumamos a usar dados de competições ou cursos, que estão perfeitos.\n",
        "\n",
        "Eu ressalto novamente, a etapa de aquisição, tratamento e exploração dos dados é o que mais vai consumir o tempo do seu projeto. Dedique sempre um bom tempo a esta etapa."
      ]
    }
  ]
}